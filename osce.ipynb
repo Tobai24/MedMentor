{
 "cells": [
  {
   "cell_type": "markdown",
   "metadata": {},
   "source": [
    "## Load the necessary library"
   ]
  },
  {
   "cell_type": "code",
   "execution_count": 1,
   "metadata": {},
   "outputs": [
    {
     "name": "stderr",
     "output_type": "stream",
     "text": [
      "/root/.local/share/virtualenvs/MedMentor-4DQmH_3Z/lib/python3.12/site-packages/pinecone/data/index.py:1: TqdmWarning: IProgress not found. Please update jupyter and ipywidgets. See https://ipywidgets.readthedocs.io/en/stable/user_install.html\n",
      "  from tqdm.autonotebook import tqdm\n"
     ]
    },
    {
     "ename": "ModuleNotFoundError",
     "evalue": "No module named 'langchain_community'",
     "output_type": "error",
     "traceback": [
      "\u001b[0;31m---------------------------------------------------------------------------\u001b[0m",
      "\u001b[0;31mModuleNotFoundError\u001b[0m                       Traceback (most recent call last)",
      "Cell \u001b[0;32mIn[1], line 5\u001b[0m\n\u001b[1;32m      3\u001b[0m \u001b[38;5;28;01mfrom\u001b[39;00m\u001b[38;5;250m \u001b[39m\u001b[38;5;21;01mdotenv\u001b[39;00m\u001b[38;5;250m \u001b[39m\u001b[38;5;28;01mimport\u001b[39;00m load_dotenv\n\u001b[1;32m      4\u001b[0m \u001b[38;5;28;01mfrom\u001b[39;00m\u001b[38;5;250m \u001b[39m\u001b[38;5;21;01mpinecone\u001b[39;00m\u001b[38;5;250m \u001b[39m\u001b[38;5;28;01mimport\u001b[39;00m Pinecone\n\u001b[0;32m----> 5\u001b[0m \u001b[38;5;28;01mfrom\u001b[39;00m\u001b[38;5;250m \u001b[39m\u001b[38;5;21;01mlangchain_community\u001b[39;00m\u001b[38;5;21;01m.\u001b[39;00m\u001b[38;5;21;01mdocument_loaders\u001b[39;00m\u001b[38;5;21;01m.\u001b[39;00m\u001b[38;5;21;01mpdf\u001b[39;00m\u001b[38;5;250m \u001b[39m\u001b[38;5;28;01mimport\u001b[39;00m PyPDFDirectoryLoader\n\u001b[1;32m      6\u001b[0m \u001b[38;5;28;01mfrom\u001b[39;00m\u001b[38;5;250m \u001b[39m\u001b[38;5;21;01mlangchain_openai\u001b[39;00m\u001b[38;5;250m \u001b[39m\u001b[38;5;28;01mimport\u001b[39;00m OpenAIEmbeddings\n\u001b[1;32m      7\u001b[0m \u001b[38;5;28;01mfrom\u001b[39;00m\u001b[38;5;250m \u001b[39m\u001b[38;5;21;01mpinecone\u001b[39;00m\u001b[38;5;250m \u001b[39m\u001b[38;5;28;01mimport\u001b[39;00m ServerlessSpec\n",
      "\u001b[0;31mModuleNotFoundError\u001b[0m: No module named 'langchain_community'"
     ]
    }
   ],
   "source": [
    "import os\n",
    "import hashlib\n",
    "from dotenv import load_dotenv\n",
    "from pinecone import Pinecone\n",
    "from langchain_community.document_loaders.pdf import PyPDFDirectoryLoader\n",
    "from langchain_openai import OpenAIEmbeddings\n",
    "from pinecone import ServerlessSpec\n",
    "\n",
    "load_dotenv()"
   ]
  },
  {
   "cell_type": "code",
   "execution_count": 36,
   "metadata": {},
   "outputs": [],
   "source": [
    "OPENAI_API_KEY = os.environ.get(\"OPENAI_API_KEY\")\n",
    "EMBEDDINGS = OpenAIEmbeddings(api_key=os.environ[\"OPENAI_API_KEY\"])\n",
    "PINECONE_API_KEY = os.getenv(\"PINECONE_API_KEY\")"
   ]
  },
  {
   "cell_type": "markdown",
   "metadata": {},
   "source": [
    "## Load the PDFs"
   ]
  },
  {
   "cell_type": "code",
   "execution_count": 3,
   "metadata": {},
   "outputs": [
    {
     "name": "stdout",
     "output_type": "stream",
     "text": [
      "no error\n"
     ]
    }
   ],
   "source": [
    "def read_doc(directory: str) -> list[str]:\n",
    "    \"\"\"Function to read the PDFs from a directory.\n",
    "\n",
    "    Args:\n",
    "        directory (str): The path of the directory where the PDFs are stored.\n",
    "\n",
    "    Returns:\n",
    "        list[str]: A list of text in the PDFs.\n",
    "    \"\"\"\n",
    "    # Initialize a PyPDFDirectoryLoader object with the given directory\n",
    "    file_loader = PyPDFDirectoryLoader(directory)\n",
    "    \n",
    "    # Load PDF documents from the directory\n",
    "    documents = file_loader.load()\n",
    "    \n",
    "    # Extract only the page content from each document\n",
    "    page_contents = [doc.page_content for doc in documents]\n",
    "    \n",
    "    return page_contents\n",
    "\n",
    "\n",
    "# Call the function\n",
    "full_document = read_doc(\"./books/\")"
   ]
  },
  {
   "cell_type": "code",
   "execution_count": 7,
   "metadata": {},
   "outputs": [
    {
     "data": {
      "text/plain": [
       "['160\\nPART 2Cardinal Manifestations and Presentation of Diseases\\nafter a rightward rotation). The head impulse test can identify both \\nunilateral (catch-up saccades after rotations toward the weak side) \\nand bilateral (catch-up saccades after rotations in both directions) \\nvestibular hypofunction.\\nAll patients with episodic dizziness, especially if provoked by \\npositional change, should be tested with the Dix-Hallpike maneu -\\nver. The patient begins in a sitting position with the head turned 45 \\ndegrees; holding the back of the head, the examiner then lowers the \\npatient into a supine position with the head extended backward by \\nabout 20 degrees while watching the eyes. Posterior canal BPPV can \\nbe diagnosed confidently if transient upbeating-torsional nystag-\\nmus is seen. If no nystagmus is observed after 15–20 s, the patient is \\nraised to the sitting position, and the procedure is repeated with the \\nhead turned to the other side. Again, Frenzel goggles may improve \\nthe sensitivity of the test.\\nDynamic visual acuity is a functional test that can be useful in \\nassessing vestibular function. Visual acuity is measured with the \\nhead still and when the head is rotated back and forth by the exam-\\niner (about 1–2 Hz). A drop in visual acuity during head motion of \\nmore than one line on a near card or Snellen chart is abnormal and \\nindicates vestibular dysfunction. \\nANCILLARY TESTING\\nThe choice of ancillary tests should be guided by the history and \\nexamination findings. Audiometry should be performed whenever \\na vestibular disorder is suspected. Unilateral sensorineural hear-\\ning loss supports a peripheral disorder (e.g., vestibular schwan -\\nnoma). Predominantly low-frequency hearing loss is characteristic \\nof Ménière’s disease. Videonystagmography includes recordings of \\nspontaneous nystagmus (if present) and measurement of positional \\nnystagmus. Caloric testing compares the responses of the two \\nhorizontal semicircular canals, while video head-impulse testing \\nmeasures the integrity of each of the six semicircular canals. Ves-\\ntibular evoked potentials assess otolith reflexes. The test battery \\noften includes recording of saccades and pursuit to evaluate central \\nocular motor function. Neuroimaging is important if a central ves-\\ntibular disorder is suspected. In addition, patients with unexplained \\nunilateral hearing loss or vestibular hypofunction should undergo \\nMRI of the internal auditory canals, including administration of \\ngadolinium, to rule out a schwannoma.\\n ■ DIFFERENTIAL DIAGNOSIS AND TREATMENT\\nTreatment of vestibular symptoms should be driven by the underlying \\ndiagnosis. Simply treating dizziness with vestibular suppressant med-\\nications is often not helpful and may make the symptoms worse and \\nprolong recovery. The diagnostic and specific treatment approaches \\nfor the most commonly encountered vestibular disorders are discussed \\nbelow.\\n ■ ACUTE PROLONGED VERTIGO (VESTIBULAR \\nNEURITIS)\\nAn acute unilateral vestibular lesion causes constant vertigo, nausea, \\nvomiting, oscillopsia (motion of the visual scene), and imbalance. \\nThese symptoms are due to a sudden asymmetry of inputs from the \\ntwo labyrinths or in their central connections, simulating a continuous \\nrotation of the head. Unlike BPPV , continuous vertigo persists even \\nwhen the head remains still.\\nWhen a patient presents with an acute vestibular syndrome, the most \\nimportant question is whether the lesion is central (e.g., a cerebellar or \\nbrainstem infarct or hemorrhage), which may be life-threatening, or \\nperipheral, affecting the vestibular nerve or labyrinth (vestibular neu-\\nritis). Attention should be given to any symptoms or signs that point \\nto central dysfunction (diplopia, weakness or numbness, dysarthria). \\nThe pattern of spontaneous nystagmus, if present, may be helpful \\n(Table 22-1). If the head impulse test is normal, an acute peripheral \\nvestibular lesion is unlikely. A central lesion cannot always be excluded \\nwith certainty based on symptoms and examination alone; thus older \\npatients with vascular risk factors who present with an acute vestibular \\nsyndrome should be evaluated for the possibility of stroke even when \\nthere are no specific findings that indicate a central lesion.\\nMost patients with vestibular neuritis recover spontaneously, \\nalthough chronic dizziness, motion sensitivity, and disequilibrium may \\npersist. The role of early glucocorticoid therapy is uncertain, as studies \\nhave yielded disparate results. Antiviral medications are of no proven \\nbenefit and are not typically given unless there is evidence to suggest \\nherpes zoster oticus (Ramsay Hunt syndrome). Vestibular suppressant \\nmedications may reduce acute symptoms but should be avoided after \\nthe first several days because they may impede central compensation \\nand recovery. Patients should be encouraged to resume a normal level \\nof activity as soon as possible, and directed vestibular rehabilitation \\ntherapy may accelerate improvement.\\n ■ BENIGN PAROXYSMAL POSITIONAL VERTIGO\\nBPPV is a common cause of recurrent vertigo. Episodes are brief (<1 min \\nand typically 15–20 s) and are always provoked by changes in head \\nposition relative to gravity, such as lying down, rising from a supine \\nposition, and extending the head to look upward. Rolling over in bed is \\na common trigger that may help to distinguish BPPV from orthostatic \\nhypotension. The attacks are caused by free-floating otoconia (calcium \\ncarbonate crystals) that have been dislodged from the utricular macula \\nand have moved into one of the semicircular canals, usually the pos-\\nterior canal. When head position changes, gravity causes the otoconia \\nto move within the canal, producing vertigo and nystagmus. With \\nposterior canal BPPV , the nystagmus beats upward and torsionally (the \\nupper poles of the eyes beat toward the affected lower ear). Less com-\\nmonly, the otoconia enter the horizontal canal, resulting in a horizontal \\nnystagmus when the patient is lying with either ear down. Superior \\n(also called anterior) canal involvement is rare. BPPV is treated with \\nrepositioning maneuvers that use gravity to remove the otoconia from \\nthe semicircular canal. For posterior canal BPPV , the Epley maneuver \\n(Fig. 22-1) is the most commonly used procedure. For more refrac-\\ntory cases of BPPV , patients can be taught a variant of this maneuver \\nthat they can perform alone at home. A demonstration of the Epley \\nmaneuver is available online (http://www.dizziness-and-balance.com/\\ndisorders/bppv/bppv.html).\\n ■ VESTIBULAR MIGRAINE\\nVestibular migraine is a common yet underdiagnosed cause of episodic \\nvertigo. Vertigo sometimes precedes a typical migraine headache but \\nmore often occurs without headache or with only a mild headache. \\nSome patients who have had frequent migraine headaches in the past \\npresent later in life with vestibular migraine as the predominant prob-\\nlem. In vestibular migraine, the duration of vertigo may be from min-\\nutes to hours, and some migraineurs also experience more prolonged \\nperiods of disequilibrium (lasting days to weeks). Motion sensitivity \\nand sensitivity to visual motion (e.g., movies) are common. Even in \\nthe absence of headache, other migraine features may be present, such \\nas photophobia, phonophobia, or a visual aura. Although data from \\ncontrolled studies are generally lacking, vestibular migraine typically \\nis treated with medications that are used for prophylaxis of migraine \\nheadaches (Chap. 430). Antiemetics may be helpful to relieve symp -\\ntoms at the time of an attack.\\n ■ MÉNIÈRE’S DISEASE\\nAttacks of Ménière’s disease consist of vertigo and hearing loss, as well \\nas pain, pressure, and/or fullness in the affected ear. Low-frequency \\nhearing loss and aural symptoms are key features that distinguish \\nMénière’s disease from other peripheral vestibulopathies and from \\nvestibular migraine. Audiometry at the time of an attack shows a char-\\nacteristic asymmetric low-frequency hearing loss; hearing commonly \\nimproves between attacks, although permanent hearing loss may \\neventually occur. Ménière’s disease is associated with excess endolymph \\nfluid in the inner ear; hence the term endolymphatic hydrops. The exact \\npathophysiological mechanism, however, remains unclear. Patients \\nsuspected of having Ménière’s disease should be referred to an oto-\\nlaryngologist for further evaluation. Diuretics and sodium restriction \\nare typically the initial treatments. If attacks persist, injections of \\nHPIM21e_Part2_p091-p464.indd   160 21/01/22   3:37 PM',\n",
       " '161\\nDizziness and VertigoCHAPTER 22\\nNose is pointed 45° \\nStep 1S tep 2S tep 3S tep 4S tep 5\\nNose is pointed 45° \\nFIGURE 22-1 Modified Epley maneuver for treatment of benign paroxysmal positional vertigo of the right (top panels) and left (bottom panels) posterior semicircular canals. \\nStep 1. With the patient seated, turn the head 45 degrees toward the affected ear. Step 2. Keeping the head turned, lower the patient to the head-hanging position and hold \\nfor at least 30 s and until nystagmus disappears. Step 3. Without lifting the head, turn it 90 degrees toward the other side. Hold for another 30 s. Step 4. Rotate the patient \\nonto her side while turning the head another 90 degrees, so that the nose is pointed down 45 degrees. Hold again for 30 s. Step 5. Have the patient sit up on the side of the \\ntable. After a brief rest, the maneuver should be repeated to confirm successful treatment. (Reproduced with permission from Chicago dizziness and Hearing (CDH). Figure \\nadapted from http://www.dizziness-and-balance.com/disorders/bppv/movies/Epley-480x640.avi)\\nglucocorticoids or gentamicin into the middle ear may be considered. \\nNonablative surgical options include decompression and shunting of \\nthe endolymphatic sac. Full ablative procedures (vestibular nerve sec-\\ntion, labyrinthectomy) are seldom required.\\n ■ VESTIBULAR SCHWANNOMA\\nVestibular schwannomas (sometimes termed acoustic neuromas) and \\nother tumors at the cerebellopontine angle cause slowly progressive \\nunilateral sensorineural hearing loss and vestibular hypofunction. \\nThese patients typically do not have vertigo, because the gradual vestib-\\nular deficit is compensated centrally as it develops. The diagnosis often \\nis not made until there is sufficient hearing loss to be noticed. The ves-\\ntibular examination will show a deficient response to the head impulse \\ntest when the head is rotated toward the affected side, but nystagmus \\nwill not be prominent. As noted above, patients with unexplained uni-\\nlateral sensorineural hearing loss or vestibular hypofunction require \\nMRI of the internal auditory canals to look for a schwannoma.\\n ■ BILATERAL VESTIBULAR HYPOFUNCTION\\nPatients with bilateral loss of vestibular function also typically do not \\nhave vertigo, because vestibular function is lost on both sides simul-\\ntaneously, and there is no asymmetry of vestibular input. Symptoms \\ninclude loss of balance, particularly in the dark, where vestibular input \\nis most critical, and oscillopsia during head movement, such as while \\nwalking or riding in a car. Bilateral vestibular hypofunction may be \\n(1) idiopathic and progressive, (2) part of a neurodegenerative disor-\\nder, or (3) iatrogenic due to medication ototoxicity (most commonly \\ngentamicin or other aminoglycoside antibiotics). Other causes include \\nbilateral vestibular schwannomas (neurofibromatosis type 2), autoim-\\nmune disease, superficial siderosis, and meningeal-based infection or \\ntumor. It also may occur in patients with peripheral polyneuropathy; \\nin these patients, both vestibular loss and impaired proprioception may \\ncontribute to poor balance. Finally, unilateral processes such as vestib-\\nular neuritis and Ménière’s disease may involve both ears sequentially, \\nresulting in bilateral vestibulopathy.\\nExamination findings include diminished dynamic visual acuity  \\n(see above) due to loss of stable vision when the head is moving, \\nabnormal head impulse responses in both directions, and a Romberg \\nsign. Responses to caloric testing are reduced. Patients with bilateral \\nvestibular hypofunction should be referred for vestibular rehabilitation \\ntherapy. Vestibular suppressant medications should not be used, as they \\nwill increase the imbalance. Evaluation by a neurologist is important \\nnot only to confirm the diagnosis but also to consider any other asso-\\nciated neurologic abnormalities that may clarify the etiology.\\n ■ CENTRAL VESTIBULAR DISORDERS\\nCentral lesions causing vertigo typically involve vestibular pathways in \\nthe brainstem and/or cerebellum. They may be due to discrete lesions, \\nsuch as from ischemic or hemorrhagic stroke (Chaps. 426–428), \\ndemyelination (Chap. 444), or tumors (Chap. 90), or they may be due \\nto neurodegenerative conditions that include the vestibulocerebellum \\n(Chaps. 431–434). Subacute cerebellar degeneration may be due to \\nimmune, including paraneoplastic, processes (Chaps. 94 and 439). \\nTable 22-1 outlines important features of the history and examination \\nthat help to identify central vestibular disorders. Acute central vertigo \\nis a medical emergency, due to the possibility of life-threatening stroke \\nor hemorrhage. All patients with suspected central vestibular disorders \\nshould undergo brain MRI, and the patient should be referred for full \\nneurologic evaluation.\\n ■ PSYCHOSOMATIC AND FUNCTIONAL DIZZINESS\\nPsychological factors play an important role in chronic dizziness. First, \\ndizziness may be a somatic manifestation of a psychiatric condition \\nsuch as major depression, anxiety, or panic disorder (Chap. 452). \\nSecond, patients may develop anxiety and autonomic symptoms as a \\nconsequence or comorbidity of an independent vestibular disorder. \\nOne particular form of this has been termed variously phobic postural \\nvertigo, psychophysiologic vertigo, or chronic subjective dizziness, but \\nis now referred to as persistent postural-perceptual dizziness (PPPD). \\nThese patients have a chronic feeling (3 months or longer) of fluctuat-\\ning dizziness and disequilibrium that is present at rest but worse while \\nstanding. There is an increased sensitivity to self-motion and visual \\nmotion (e.g., watching movies), and a particular intensification of \\nsymptoms when moving through complex visual environments such as \\nsupermarkets. Although there may be a past history of an acute vestib-\\nular disorder (e.g., vestibular neuritis), the neuro-otologic examination \\nHPIM21e_Part2_p091-p464.indd   161 21/01/22   3:37 PM',\n",
       " '162\\nPART 2Cardinal Manifestations and Presentation of Diseases\\nand vestibular testing are normal or indicative of a compensated ves -\\ntibular deficit, indicating that the ongoing subjective dizziness cannot \\nbe explained by a primary vestibular pathology. Anxiety disorders are \\nparticularly common in patients with chronic dizziness; when present, \\nthey contribute substantially to the morbidity. Treatment approaches \\nfor PPPD include pharmacological therapy with selective serotonin \\nreuptake inhibitors (SSRIs), cognitive-behavioral psychotherapy, and \\nvestibular rehabilitation. Vestibular suppressant medications generally \\nshould be avoided.\\nTREATMENT\\nVe r t i g o\\nTable 22-2 provides a list of commonly used medications for sup -\\npression of vertigo. As noted, these medications should be reserved \\nfor short-term control of active vertigo, such as during the first few \\ndays of acute vestibular neuritis, or for acute attacks of Ménière’s \\ndisease. They are less helpful for chronic dizziness and, as previ-\\nously stated, may hinder central compensation. An exception is \\nthat benzodiazepines may attenuate psychosomatic dizziness and \\nthe associated anxiety, although SSRIs are generally preferable in \\nsuch patients.\\nVestibular rehabilitation therapy promotes central adaptation \\nprocesses that compensate for vestibular loss and also may help \\nhabituate motion sensitivity and other symptoms of psychosomatic \\ndizziness. The general approach is to use a graded series of exercises \\nthat progressively challenge gaze stabilization and balance.\\n ■ FURTHER READING\\nAltissimi G et al: Drugs inducing hearing loss, tinnitus, dizziness and \\nvertigo: An updated guide. Eur Rev Med Pharmacol Sci 24:7946, \\n2020.\\nHuang TC et al: Vestibular migraine: An update on current under -\\nstanding and future directions. Cephalalgia 40:107, 2020.\\nKim JS, Z ee DS: Benign paroxysmal positional vertigo. N Engl J Med \\n370:1138, 2014.\\nPopkirov S et al: Persistent postural-perceptual dizziness (PPPD): \\na common, characteristic and treatable cause of chronic dizziness. \\nPract Neurol 18:5, 2018.\\nTABLE 22-2 T reatment of Vertigo\\nAGENTa DOSEb\\nAntihistamines \\xa0\\n Meclizine 25–50 mg 3 times daily\\n Dimenhydrinate 50 mg 1–2 times daily\\n Promethazine 25 mg 2–3 times daily (also  \\ncan be given rectally and IM)\\nBenzodiazepines \\xa0\\n Diazepam 2.5 mg 1–3 times daily\\n Clonazepam 0.25 mg 1–3 times daily\\nAnticholinergic \\xa0\\n Scopolamine transdermalc Patch\\nPhysical therapy \\xa0\\n Repositioning maneuversd \\xa0\\n V estibular rehabilitation \\xa0\\nOther \\xa0\\n Diuretics and/or low-sodium (1000 mg/d) diete \\xa0\\n Antimigrainous drugsf \\xa0\\n Selective serotonin reuptake inhibitorsg \\xa0\\naAll listed drugs are approved by the US Food and Drug Administration, but most \\nare not approved for the treatment of vertigo. bUsual oral (unless otherwise stated) \\nstarting dose in adults; a higher maintenance dose can be reached by a gradual \\nincrease. cFor motion sickness only. dFor benign paroxysmal positional vertigo. eFor \\nMénière’s disease. fFor vestibular migraine. gFor persistent postural-perceptual \\nvertigo and anxiety.\\nFatigue is one of the most common symptoms in clinical medicine. It \\nis a prominent manifestation of a number of systemic, neurologic, and \\npsychiatric syndromes, although a precise cause will not be identified \\nin a substantial minority of patients. Fatigue refers to the subjective \\nexperience of physical and mental weariness, sluggishness, low energy, \\nand exhaustion. In the context of clinical medicine, fatigue is most \\npractically defined as difficulty initiating or maintaining voluntary \\nmental or physical activity. Nearly everyone who has ever been ill with \\na self-limited infection has experienced this near-universal symptom, \\nand fatigue is usually brought to medical attention only when it is \\neither of unclear cause, fails to remit, or the severity is out of propor-\\ntion with what would be expected for the associated trigger.\\nFatigue should be distinguished from muscle weakness, a reduction \\nof neuromuscular power (Chap. 24); most patients complaining of \\nfatigue are not truly weak when direct muscle power is tested. Fatigue is \\nalso distinct from somnolence, which refers to sleepiness in the context \\nof disturbed sleep-wake physiology (Chap. 31), and from dyspnea on \\nexertion, although patients may use the word fatigue to describe any \\nof these symptoms. The task facing clinicians when a patient presents \\nwith fatigue is to identify the underlying cause and develop a therapeu-\\ntic alliance, the goal of which is to spare patients expensive and fruitless \\ndiagnostic workups and steer them toward effective therapy.\\n ■ EPIDEMIOLOGY AND GLOBAL CONSIDERATIONS\\nVariability in the definitions of fatigue and the survey instruments used \\nin different studies makes it difficult to arrive at precise figures about \\nthe global burden of fatigue. The point prevalence of fatigue was 6.7% \\nand the lifetime prevalence was 25% in a large National Institute of \\nMental Health survey of the U.S. general population. In primary care \\nclinics in Europe and the United States, between 10 and 25% of patients \\nsurveyed endorsed symptoms of prolonged (present for >1 month) or \\nchronic (present for >6 months) fatigue, but in only a minority was \\nfatigue the primary reason for seeking medical attention. In a com-\\nmunity survey of women in India, 12% reported chronic fatigue. By \\ncontrast, the prevalence of chronic fatigue syndrome (Chap. 450), as \\ndefined by the U.S. Centers for Disease Control and Prevention, is low.\\n ■ DIFFERENTIAL DIAGNOSIS\\nPsychiatric Disease Fatigue is a common somatic manifestation \\nof many major psychiatric syndromes, including depression, anxiety, \\nand somatoform disorders (Chap. 452). Psychiatric symptoms are \\nreported in more than three-quarters of patients with unexplained \\nchronic fatigue. Even in patients with systemic or neurologic disorders \\nin which fatigue is independently recognized as a symptom, comorbid \\npsychiatric disease may still be an important contributor.\\nNeurologic Disease Patients complaining of fatigue often say they \\nfeel weak, but upon careful examination, objective muscle weakness is \\nrarely discernible. If found, muscle weakness must then be localized \\nto the central nervous system, peripheral nervous system, neuromus-\\ncular junction, or muscle, and appropriate follow-up studies obtained \\n(Chap. 24). Fatigability of muscle power is a cardinal manifestation \\nof some neuromuscular disorders such as myasthenia gravis and is \\ndistinguished from fatigue by finding clinically evident diminution of \\nthe amount of force that a muscle generates upon repeated contraction \\n(Chap. 448). Fatigue is one of the most common and bothersome \\nsymptoms reported in multiple sclerosis (MS) (Chap. 444), affect -\\ning nearly 90% of patients; fatigue in MS can persist between MS \\nattacks and does not necessarily correlate with magnetic resonance \\nimaging (MRI) disease activity. Fatigue is also increasingly identified \\nas a troublesome feature of many neurodegenerative diseases, includ-\\ning Parkinson’s disease (Chap. 435), amyotrophic lateral sclerosis  \\n23 Fatigue\\nJeffrey M. Gelfand, Vanja C. Douglas\\nHPIM21e_Part2_p091-p464.indd   162 21/01/22   3:37 PM',\n",
       " '163\\nFatigue CHAPTER 23\\n(Chap. 437), and central nervous system dysautonomias (Chap. 440). \\nFatigue after stroke (Chap. 426) is a well-described but poorly under -\\nstood entity with a widely varying prevalence. Episodic fatigue can \\nbe a premonitory symptom of migraine (Chap. 430). Fatigue is also \\na frequent consequence of traumatic brain injury (Chap. 443), often \\noccurring in association with depression and sleep disorders.\\nSleep Disorders Obstructive sleep apnea is an important cause of \\nexcessive daytime sleepiness in association with fatigue and should be \\ninvestigated using overnight polysomnography, particularly in those \\nwith prominent snoring, obesity, or other predictors of obstructive \\nsleep apnea (Chap. 297). Whether the cumulative sleep deprivation \\nthat is common in modern society contributes to clinically apparent \\nfatigue is not known (Chap. 31).\\nEndocrine Disorders  Fatigue, sometimes in association with \\ntrue muscle weakness, can be a heralding symptom of hypothyroidism \\n(Chap. 383), particularly in the context of hair loss, dry skin, cold \\nintolerance, constipation, and weight gain. Fatigue associated with heat \\nintolerance, sweating, and palpitations is typical of hyperthyroidism \\n(Chap. 384). Adrenal insufficiency (Chap. 386) can also manifest with \\nunexplained fatigue as a primary or prominent symptom, often with \\nanorexia, weight loss, nausea, myalgias, and arthralgias; hyponatremia, \\nhyperkalemia, and hyperpigmentation may be present at time of diag-\\nnosis. Mild hypercalcemia can cause fatigue, which may be relatively \\nvague, whereas severe hypercalcemia can lead to lethargy, stupor, and \\ncoma (Chap. 410). Both hypoglycemia and hyperglycemia can cause \\nlethargy, often in association with confusion; diabetes mellitus, and in \\nparticular type 1 diabetes, is also associated with fatigue independent \\nof glucose levels (Chap. 403). Fatigue may also accompany Cushing’s \\ndisease, hypoaldosteronism, and hypogonadism. Low vitamin D status \\nhas also been associated with fatigue.\\nLiver and Kidney Disease Both chronic liver failure and chronic \\nkidney disease can cause fatigue. Over 80% of hemodialysis patients \\ncomplain of fatigue, which makes it one of the most common symp-\\ntoms reported by patients in chronic kidney disease (Chap. 311).\\nObesity Obesity (Chap. 401) is associated with fatigue and sleep -\\niness independent of the presence of obstructive sleep apnea. Obese \\npatients undergoing bariatric surgery experience improvement in \\ndaytime sleepiness sooner than would be expected if the improvement \\nwere solely the result of weight loss and resolution of sleep apnea. A \\nnumber of other factors common in obese patients are likely contrib-\\nutors as well, including physical inactivity, diabetes, and depression.\\nPhysical Inactivity  Physical inactivity is associated with fatigue, \\nand increasing physical activity can improve fatigue in some patients.\\nMalnutrition Although fatigue can be a presenting feature of \\nmalnutrition (Chap. 334), nutritional status may also be an impor -\\ntant comorbidity and contributor to fatigue in other chronic illnesses, \\nincluding cancer-associated fatigue.\\nInfection Both acute and chronic infections commonly lead to \\nfatigue as part of the broader infectious syndrome. Evaluation for \\nundiagnosed infection as the cause of unexplained fatigue, and partic-\\nularly prolonged or chronic fatigue, should be guided by the history, \\nphysical examination, and infectious risk factors, with particular atten-\\ntion to risk for tuberculosis, HIV , chronic hepatitis, and endocarditis. \\nInfectious mononucleosis may cause prolonged fatigue that persists \\nfor weeks to months following the acute illness, but infection with the \\nEpstein-Barr virus is only very rarely the cause of unexplained chronic \\nfatigue. Postinfectious fatigue may also occur following a variety of \\nacute infections. For example, a substantial minority of patients who \\nhave recovered from SARS-CoV-1, SARS-CoV-2, and Ebola virus \\ncomplain of persistent fatigue.\\nDrugs Many medications, drugs, drug withdrawal, and chronic \\nalcohol use can all lead to fatigue. Medications that are more likely to \\nbe causative include antidepressants, antipsychotics, anxiolytics, opi -\\nates, antispasticity agents, antiseizure agents, and beta blockers.\\nCardiovascular and Pulmonary Disorders  Fatigue is one of \\nthe most taxing symptoms reported by patients with congestive heart \\nfailure and chronic obstructive pulmonary disease and negatively \\naffects quality of life. In a population-based cohort study in Norfolk, \\nUnited Kingdom, fatigue was associated with an increased hazard \\nof all-cause mortality in the general population, but particularly for \\ndeaths related to cardiovascular disease.\\nMalignancy Fatigue, particularly in association with unexplained \\nweight loss, can be a sign of occult malignancy, but cancer is rarely \\nidentified in patients with unexplained chronic fatigue in the absence \\nof other telltale signs or symptoms. Cancer-related fatigue is experi-\\nenced by 40% of patients at the time of diagnosis and by >80% at some \\ntime in the disease course.\\nHematologic Disorders  Chronic or progressive anemia may \\npresent with fatigue, sometimes in association with exertional tachy -\\ncardia and breathlessness. Anemia may also contribute to fatigue in \\nchronic illness. Low serum ferritin in the absence of anemia may also \\ncause fatigue that is reversible with iron replacement.\\nImmune-Mediated Disorders Fatigue is a prominent complaint \\nin many chronic inflammatory disorders, including systemic lupus \\nerythematosus, polymyalgia rheumatica, rheumatoid arthritis, inflam-\\nmatory bowel disease, antineutrophil cytoplasmic antibody (ANCA)–\\nassociated vasculitis, sarcoidosis, and Sjögren’s syndrome, but is not \\nusually an isolated symptom. Fatigue is also associated with primary \\nimmunodeficiency diseases.\\nPregnancy Fatigue is very commonly reported by women during \\nall stages of pregnancy and postpartum.\\nDisorders of Unclear Cause  Myalgic encephalomyelitis (ME)/\\nchronic fatigue syndrome (CFS) (Chap. 450)  and fibromyalgia  \\n(Chap. 373) incorporate chronic fatigue as part of the syndromic \\ndefinition when fatigue is present in association with other criteria, as \\ndiscussed in the respective chapters. Chronic multisymptom illness, \\nalso known as Gulf-War syndrome, is another symptom complex with \\nprominent fatigue; it is most commonly, although not exclusively, \\nobserved in veterans of the 1991 Gulf War conflict (Chap. S7). Idio-\\npathic chronic fatigue is used to describe the syndrome of unexplained \\nchronic fatigue in the absence of enough additional clinical features to \\nmeet the diagnostic criteria for ME/CFS.\\nAPPROACH TO THE PATIENT\\nFatigue\\nA detailed history focusing on the quality, pattern, time course, \\nassociated symptoms, and alleviating factors of fatigue is necessary to \\ndefine the syndrome and help direct further evaluation and treatment. \\nIt is important to determine if fatigue is the appropriate designation, \\nwhether symptoms are acute or chronic, and if the impairment is \\nprimarily mental, physical, or a combination of the two. The review \\nof systems should attempt to distinguish fatigue from excessive \\nsleepiness, dyspnea on exertion, exercise intolerance, and muscle \\nweakness. The presence of fever, chills, night sweats, or weight \\nloss should raise suspicion for an occult infection or malignancy. \\nA careful review of prescription, over-the-counter, herbal, and \\nrecreational drug and alcohol use is required. Circumstances sur-\\nrounding the onset of symptoms and potential triggers should be \\ninvestigated. The social history is important, with attention paid \\nto life stressors and adverse experiences, workhours, the social \\nsupport network, and domestic affairs including a screen for inti-\\nmate partner violence. Sleep habits and sleep hygiene should be \\nquestioned. The impact of fatigue on daily functioning is important \\nto understand the patient’s experience and gauge recovery and the \\nsuccess of treatment.\\nHPIM21e_Part2_p091-p464.indd   163 21/01/22   3:37 PM',\n",
       " '164\\nPART 2Cardinal Manifestations and Presentation of Diseases\\nThe physical examination of patients with fatigue is guided by \\nthe history and differential diagnosis. A detailed mental status \\nexamination should be performed with particular attention to \\nsymptoms of depression and anxiety. A formal neurologic exami-\\nnation is required to determine whether objective muscle weakness \\nis present. This is usually a straightforward exercise, although \\noccasionally patients with fatigue have difficulty sustaining effort \\nagainst resistance and sometimes report that generating full power \\nrequires substantial mental effort. On confrontational testing, full \\npower may be generated for only a brief period before the patient \\nsuddenly gives way to the examiner. This type of weakness is often \\nreferred to as breakaway weakness and may or may not be associated \\nwith pain. This is contrasted with weakness due to lesions in the \\nmotor tracts or lower motor unit, in which the patient’s resistance \\ncan be overcome in a smooth and steady fashion and full power \\ncan never be generated. Occasionally, a patient may demonstrate \\nfatigable weakness, in which power is full when first tested but \\nbecomes weak upon repeat evaluation without interval rest. Fatiga-\\nble weakness, which usually indicates a problem of neuromuscular \\ntransmission, never has the sudden breakaway quality that one \\noccasionally observes in patients with fatigue. If the presence or \\nabsence of muscle weakness cannot be determined with the physi-\\ncal examination, electromyography with nerve conductions studies \\ncan be a helpful ancillary test.\\nThe general physical examination should screen for signs of car-\\ndiopulmonary disease, malignancy, lymphadenopathy, organomeg-\\naly, infection, liver failure, kidney disease, malnutrition, endocrine \\nabnormalities, and connective tissue disease. In patients with \\nassociated widespread musculoskeletal pain, assessment of tender \\npoints may help to reveal fibromyalgia. Although the diagnostic \\nyield of the general physical examination may be relatively low in \\nthe context of evaluation of unexplained chronic fatigue, elucidat-\\ning the cause of only 2% of cases in one prospective analysis, the \\nyield of a detailed neuropsychiatric and mental status evaluation \\nis likely to be much higher, revealing a potential explanation for \\nfatigue in up to 75–80% of patients in some series. Furthermore, a \\ncomplete physical examination demonstrates a serious and system-\\natic approach to the patient’s complaint and helps build trust and a \\ntherapeutic alliance.\\nLaboratory testing is likely to identify the cause of chronic fatigue \\nin only about 5% of cases. Beyond a few standard screening tests, \\nlaboratory evaluation should be guided by the history and physical \\nexamination; extensive testing is likely to lead to incidental findings \\nthat require explanation and unnecessary follow-up investigation, \\nand should be avoided in lieu of frequent clinical follow-up. A \\nreasonable approach to screening includes a complete blood count \\nwith differential (to screen for anemia, infection, and malignancy), \\nelectrolytes (including sodium, potassium, and calcium), glucose, \\nrenal function, liver function, and thyroid function. Testing for \\nHIV and adrenal function can also be considered. Published guide-\\nlines for chronic fatigue syndrome also recommend an erythrocyte \\nsedimentation rate (ESR) as part of the evaluation for mimics, \\nbut unless the value is very high, such nonspecific testing in the \\nabsence of other features is unlikely to clarify the situation. Routine \\nscreening with an antinuclear antibody (ANA) test is also unlikely \\nto be informative in isolation and is frequently positive at low titers \\nin otherwise healthy adults. Additional unfocused studies, such as \\nwhole-body imaging scans, are usually not indicated; in addition to \\ntheir inconvenience, potential risk, and cost, they often reveal unre-\\nlated incidental findings that can prolong the workup unnecessarily.\\nTREATMENT\\nFatigue\\nThe first priority is to address the underlying disorder or disor -\\nders that account for fatigue, because this can be curative in select \\ncontexts and palliative in others. Unfortunately, in many chronic \\nillnesses, fatigue may be refractory to traditional disease-modifying \\ntherapies, but it is nevertheless important in such cases to evaluate \\nfor other potential contributors because the cause may be multifac-\\ntorial. Antidepressants (Chap. 452) may be helpful for treatment of \\nchronic fatigue when symptoms of depression are present and are \\ngenerally most effective as part of a multimodal approach. However, \\nantidepressants can also cause fatigue and should be discontinued \\nif they are not clearly effective. Cognitive-behavioral therapy has \\nalso been demonstrated to be helpful in ME/CFS as well as cancer- \\nassociated fatigue. Both cognitive-behavioral therapy and graded \\nexercise therapy, in which physical exercise, most typically walk-\\ning, is gradually increased with attention to target heart rates to \\navoid overexertion, were shown to modestly improve walking \\ntimes and self-reported fatigue measures when compared to stan-\\ndard medical care in patients in the United Kingdom with chronic \\nfatigue. These benefits were maintained after a median follow-up \\nof 2.5 years. Psychostimulants such as amphetamines, modafinil, \\nand armodafinil can help increase alertness and concentration and \\nreduce excessive daytime sleepiness in certain clinical contexts, \\nwhich may in turn help with symptoms of fatigue in a minority \\nof patients, but they have generally proven to be unhelpful in ran-\\ndomized trials for treating fatigue in posttraumatic brain injury, \\nParkinson’s disease, cancer, and MS. In patients with low vitamin \\nD status, vitamin D replacement may lead to improvement in \\nfatigue.\\nDevelopment of more effective therapy for fatigue is hampered \\nby limited knowledge of the biologic basis of this symptom, includ-\\ning how fatigue is detected and registered in the nervous system. \\nProinflammatory cytokines, such as interleukin 1α and 1β and \\ntumor necrosis factor α, might mediate fatigue in some patients. \\nWhile preliminary studies of biologic therapies that inhibit cytok-\\nines have suggested a benefit against fatigue in some patients \\nwith inflammatory conditions, this approach has largely not led \\nto improvement in clinical trials that focused on fatigue as the \\nprimary endpoint. Nonetheless, specific targeting with cytokine \\nantagonists could represent a possible future approach for some \\npatients.\\n ■ PROGNOSIS\\nAcute fatigue significant enough to require medical evaluation is more \\nlikely to lead to an identifiable medical, neurologic, or psychiatric cause \\nthan is unexplained chronic fatigue. Evaluation of unexplained chronic \\nfatigue most commonly leads to diagnosis of a psychiatric condition \\nor remains unexplained. Identification of a previously undiagnosed \\nserious or life-threatening culprit etiology is rare, even with longitudi-\\nnal follow-up of patients with unexplained chronic fatigue. Complete \\nresolution is uncommon, at least over the short term, but multidisci-\\nplinary treatment approaches can lead to symptomatic improvements \\nthat substantially improve quality of life.\\n ■ FURTHER READING\\nBasu N et al: Fatigue is associated with excess mortality in the general \\npopulation: Results from the EPIC-Norfolk study. BMC Med 14:122, \\n2016.\\nDukes JC et al: Approach to fatigue: Best practice. Med Clin North \\nAm 105:137, 2021.\\nRoerink ME et al: Interleukin-1 as a mediator of fatigue in disease: A \\nnarrative review. J Neuroinflammation 14:16, 2017.\\nSharpe M et al: Rehabilitative treatments for chronic fatigue syn -\\ndrome: Long-term follow-up from the PACE trial. Lancet Psychiatry \\n2:1067, 2015.\\nWhite PD et al: Comparison of adaptive pacing therapy, cognitive \\nbehaviour therapy, graded exercise therapy, and specialist medical \\ncare for chronic fatigue syndrome (PACE): A randomised trial.  \\nLancet 377:823, 2011.\\nHPIM21e_Part2_p091-p464.indd   164 21/01/22   3:37 PM']"
      ]
     },
     "execution_count": 7,
     "metadata": {},
     "output_type": "execute_result"
    }
   ],
   "source": [
    "full_document[200:205]"
   ]
  },
  {
   "cell_type": "markdown",
   "metadata": {},
   "source": [
    "## Create chunks from the PDF"
   ]
  },
  {
   "cell_type": "code",
   "execution_count": 10,
   "metadata": {},
   "outputs": [],
   "source": [
    "def chunk_text_for_list(docs: list[str], max_chunk_size: int = 1000) -> list[list[str]]:\n",
    "    \"\"\"\n",
    "    Break down each text in a list of texts into chunks of a maximum size, attempting to preserve whole paragraphs.\n",
    "\n",
    "    :param docs: The list of texts to be chunked.\n",
    "    :param max_chunk_size: Maximum size of each chunk in characters.\n",
    "    :return: List of lists containing text chunks for each document.\n",
    "    \"\"\"\n",
    "\n",
    "    def chunk_text(text: str, max_chunk_size: int) -> list[str]:\n",
    "        # Ensure each text ends with a double newline to correctly split paragraphs\n",
    "        if not text.endswith(\"\\n\\n\"):\n",
    "            text += \"\\n\\n\"\n",
    "        # Split text into paragraphs\n",
    "        paragraphs = text.split(\"\\n\\n\")\n",
    "        chunks = []\n",
    "        current_chunk = \"\"\n",
    "        # Iterate over paragraphs and assemble chunks\n",
    "        for paragraph in paragraphs:\n",
    "            # Check if adding the current paragraph exceeds the maximum chunk size\n",
    "            if (\n",
    "                len(current_chunk) + len(paragraph) + 2 > max_chunk_size\n",
    "                and current_chunk\n",
    "            ):\n",
    "                # If so, add the current chunk to the list and start a new chunk\n",
    "                chunks.append(current_chunk.strip())\n",
    "                current_chunk = \"\"\n",
    "            # Add the current paragraph to the current chunk\n",
    "            current_chunk += paragraph.strip() + \"\\n\\n\"\n",
    "        # Add any remaining text as the last chunk\n",
    "        if current_chunk:\n",
    "            chunks.append(current_chunk.strip())\n",
    "        return chunks\n",
    "\n",
    "    # Apply the chunk_text function to each document in the list\n",
    "    return [chunk_text(doc, max_chunk_size) for doc in docs]\n",
    "\n",
    "\n",
    "# Call the function\n",
    "chunked_document = chunk_text_for_list(docs=full_document)"
   ]
  },
  {
   "cell_type": "code",
   "execution_count": 11,
   "metadata": {},
   "outputs": [
    {
     "data": {
      "text/plain": [
       "[['160\\nPART 2Cardinal Manifestations and Presentation of Diseases\\nafter a rightward rotation). The head impulse test can identify both \\nunilateral (catch-up saccades after rotations toward the weak side) \\nand bilateral (catch-up saccades after rotations in both directions) \\nvestibular hypofunction.\\nAll patients with episodic dizziness, especially if provoked by \\npositional change, should be tested with the Dix-Hallpike maneu -\\nver. The patient begins in a sitting position with the head turned 45 \\ndegrees; holding the back of the head, the examiner then lowers the \\npatient into a supine position with the head extended backward by \\nabout 20 degrees while watching the eyes. Posterior canal BPPV can \\nbe diagnosed confidently if transient upbeating-torsional nystag-\\nmus is seen. If no nystagmus is observed after 15–20 s, the patient is \\nraised to the sitting position, and the procedure is repeated with the \\nhead turned to the other side. Again, Frenzel goggles may improve \\nthe sensitivity of the test.\\nDynamic visual acuity is a functional test that can be useful in \\nassessing vestibular function. Visual acuity is measured with the \\nhead still and when the head is rotated back and forth by the exam-\\niner (about 1–2 Hz). A drop in visual acuity during head motion of \\nmore than one line on a near card or Snellen chart is abnormal and \\nindicates vestibular dysfunction. \\nANCILLARY TESTING\\nThe choice of ancillary tests should be guided by the history and \\nexamination findings. Audiometry should be performed whenever \\na vestibular disorder is suspected. Unilateral sensorineural hear-\\ning loss supports a peripheral disorder (e.g., vestibular schwan -\\nnoma). Predominantly low-frequency hearing loss is characteristic \\nof Ménière’s disease. Videonystagmography includes recordings of \\nspontaneous nystagmus (if present) and measurement of positional \\nnystagmus. Caloric testing compares the responses of the two \\nhorizontal semicircular canals, while video head-impulse testing \\nmeasures the integrity of each of the six semicircular canals. Ves-\\ntibular evoked potentials assess otolith reflexes. The test battery \\noften includes recording of saccades and pursuit to evaluate central \\nocular motor function. Neuroimaging is important if a central ves-\\ntibular disorder is suspected. In addition, patients with unexplained \\nunilateral hearing loss or vestibular hypofunction should undergo \\nMRI of the internal auditory canals, including administration of \\ngadolinium, to rule out a schwannoma.\\n ■ DIFFERENTIAL DIAGNOSIS AND TREATMENT\\nTreatment of vestibular symptoms should be driven by the underlying \\ndiagnosis. Simply treating dizziness with vestibular suppressant med-\\nications is often not helpful and may make the symptoms worse and \\nprolong recovery. The diagnostic and specific treatment approaches \\nfor the most commonly encountered vestibular disorders are discussed \\nbelow.\\n ■ ACUTE PROLONGED VERTIGO (VESTIBULAR \\nNEURITIS)\\nAn acute unilateral vestibular lesion causes constant vertigo, nausea, \\nvomiting, oscillopsia (motion of the visual scene), and imbalance. \\nThese symptoms are due to a sudden asymmetry of inputs from the \\ntwo labyrinths or in their central connections, simulating a continuous \\nrotation of the head. Unlike BPPV , continuous vertigo persists even \\nwhen the head remains still.\\nWhen a patient presents with an acute vestibular syndrome, the most \\nimportant question is whether the lesion is central (e.g., a cerebellar or \\nbrainstem infarct or hemorrhage), which may be life-threatening, or \\nperipheral, affecting the vestibular nerve or labyrinth (vestibular neu-\\nritis). Attention should be given to any symptoms or signs that point \\nto central dysfunction (diplopia, weakness or numbness, dysarthria). \\nThe pattern of spontaneous nystagmus, if present, may be helpful \\n(Table 22-1). If the head impulse test is normal, an acute peripheral \\nvestibular lesion is unlikely. A central lesion cannot always be excluded \\nwith certainty based on symptoms and examination alone; thus older \\npatients with vascular risk factors who present with an acute vestibular \\nsyndrome should be evaluated for the possibility of stroke even when \\nthere are no specific findings that indicate a central lesion.\\nMost patients with vestibular neuritis recover spontaneously, \\nalthough chronic dizziness, motion sensitivity, and disequilibrium may \\npersist. The role of early glucocorticoid therapy is uncertain, as studies \\nhave yielded disparate results. Antiviral medications are of no proven \\nbenefit and are not typically given unless there is evidence to suggest \\nherpes zoster oticus (Ramsay Hunt syndrome). Vestibular suppressant \\nmedications may reduce acute symptoms but should be avoided after \\nthe first several days because they may impede central compensation \\nand recovery. Patients should be encouraged to resume a normal level \\nof activity as soon as possible, and directed vestibular rehabilitation \\ntherapy may accelerate improvement.\\n ■ BENIGN PAROXYSMAL POSITIONAL VERTIGO\\nBPPV is a common cause of recurrent vertigo. Episodes are brief (<1 min \\nand typically 15–20 s) and are always provoked by changes in head \\nposition relative to gravity, such as lying down, rising from a supine \\nposition, and extending the head to look upward. Rolling over in bed is \\na common trigger that may help to distinguish BPPV from orthostatic \\nhypotension. The attacks are caused by free-floating otoconia (calcium \\ncarbonate crystals) that have been dislodged from the utricular macula \\nand have moved into one of the semicircular canals, usually the pos-\\nterior canal. When head position changes, gravity causes the otoconia \\nto move within the canal, producing vertigo and nystagmus. With \\nposterior canal BPPV , the nystagmus beats upward and torsionally (the \\nupper poles of the eyes beat toward the affected lower ear). Less com-\\nmonly, the otoconia enter the horizontal canal, resulting in a horizontal \\nnystagmus when the patient is lying with either ear down. Superior \\n(also called anterior) canal involvement is rare. BPPV is treated with \\nrepositioning maneuvers that use gravity to remove the otoconia from \\nthe semicircular canal. For posterior canal BPPV , the Epley maneuver \\n(Fig. 22-1) is the most commonly used procedure. For more refrac-\\ntory cases of BPPV , patients can be taught a variant of this maneuver \\nthat they can perform alone at home. A demonstration of the Epley \\nmaneuver is available online (http://www.dizziness-and-balance.com/\\ndisorders/bppv/bppv.html).\\n ■ VESTIBULAR MIGRAINE\\nVestibular migraine is a common yet underdiagnosed cause of episodic \\nvertigo. Vertigo sometimes precedes a typical migraine headache but \\nmore often occurs without headache or with only a mild headache. \\nSome patients who have had frequent migraine headaches in the past \\npresent later in life with vestibular migraine as the predominant prob-\\nlem. In vestibular migraine, the duration of vertigo may be from min-\\nutes to hours, and some migraineurs also experience more prolonged \\nperiods of disequilibrium (lasting days to weeks). Motion sensitivity \\nand sensitivity to visual motion (e.g., movies) are common. Even in \\nthe absence of headache, other migraine features may be present, such \\nas photophobia, phonophobia, or a visual aura. Although data from \\ncontrolled studies are generally lacking, vestibular migraine typically \\nis treated with medications that are used for prophylaxis of migraine \\nheadaches (Chap. 430). Antiemetics may be helpful to relieve symp -\\ntoms at the time of an attack.\\n ■ MÉNIÈRE’S DISEASE\\nAttacks of Ménière’s disease consist of vertigo and hearing loss, as well \\nas pain, pressure, and/or fullness in the affected ear. Low-frequency \\nhearing loss and aural symptoms are key features that distinguish \\nMénière’s disease from other peripheral vestibulopathies and from \\nvestibular migraine. Audiometry at the time of an attack shows a char-\\nacteristic asymmetric low-frequency hearing loss; hearing commonly \\nimproves between attacks, although permanent hearing loss may \\neventually occur. Ménière’s disease is associated with excess endolymph \\nfluid in the inner ear; hence the term endolymphatic hydrops. The exact \\npathophysiological mechanism, however, remains unclear. Patients \\nsuspected of having Ménière’s disease should be referred to an oto-\\nlaryngologist for further evaluation. Diuretics and sodium restriction \\nare typically the initial treatments. If attacks persist, injections of \\nHPIM21e_Part2_p091-p464.indd   160 21/01/22   3:37 PM',\n",
       "  ''],\n",
       " ['161\\nDizziness and VertigoCHAPTER 22\\nNose is pointed 45° \\nStep 1S tep 2S tep 3S tep 4S tep 5\\nNose is pointed 45° \\nFIGURE 22-1 Modified Epley maneuver for treatment of benign paroxysmal positional vertigo of the right (top panels) and left (bottom panels) posterior semicircular canals. \\nStep 1. With the patient seated, turn the head 45 degrees toward the affected ear. Step 2. Keeping the head turned, lower the patient to the head-hanging position and hold \\nfor at least 30 s and until nystagmus disappears. Step 3. Without lifting the head, turn it 90 degrees toward the other side. Hold for another 30 s. Step 4. Rotate the patient \\nonto her side while turning the head another 90 degrees, so that the nose is pointed down 45 degrees. Hold again for 30 s. Step 5. Have the patient sit up on the side of the \\ntable. After a brief rest, the maneuver should be repeated to confirm successful treatment. (Reproduced with permission from Chicago dizziness and Hearing (CDH). Figure \\nadapted from http://www.dizziness-and-balance.com/disorders/bppv/movies/Epley-480x640.avi)\\nglucocorticoids or gentamicin into the middle ear may be considered. \\nNonablative surgical options include decompression and shunting of \\nthe endolymphatic sac. Full ablative procedures (vestibular nerve sec-\\ntion, labyrinthectomy) are seldom required.\\n ■ VESTIBULAR SCHWANNOMA\\nVestibular schwannomas (sometimes termed acoustic neuromas) and \\nother tumors at the cerebellopontine angle cause slowly progressive \\nunilateral sensorineural hearing loss and vestibular hypofunction. \\nThese patients typically do not have vertigo, because the gradual vestib-\\nular deficit is compensated centrally as it develops. The diagnosis often \\nis not made until there is sufficient hearing loss to be noticed. The ves-\\ntibular examination will show a deficient response to the head impulse \\ntest when the head is rotated toward the affected side, but nystagmus \\nwill not be prominent. As noted above, patients with unexplained uni-\\nlateral sensorineural hearing loss or vestibular hypofunction require \\nMRI of the internal auditory canals to look for a schwannoma.\\n ■ BILATERAL VESTIBULAR HYPOFUNCTION\\nPatients with bilateral loss of vestibular function also typically do not \\nhave vertigo, because vestibular function is lost on both sides simul-\\ntaneously, and there is no asymmetry of vestibular input. Symptoms \\ninclude loss of balance, particularly in the dark, where vestibular input \\nis most critical, and oscillopsia during head movement, such as while \\nwalking or riding in a car. Bilateral vestibular hypofunction may be \\n(1) idiopathic and progressive, (2) part of a neurodegenerative disor-\\nder, or (3) iatrogenic due to medication ototoxicity (most commonly \\ngentamicin or other aminoglycoside antibiotics). Other causes include \\nbilateral vestibular schwannomas (neurofibromatosis type 2), autoim-\\nmune disease, superficial siderosis, and meningeal-based infection or \\ntumor. It also may occur in patients with peripheral polyneuropathy; \\nin these patients, both vestibular loss and impaired proprioception may \\ncontribute to poor balance. Finally, unilateral processes such as vestib-\\nular neuritis and Ménière’s disease may involve both ears sequentially, \\nresulting in bilateral vestibulopathy.\\nExamination findings include diminished dynamic visual acuity  \\n(see above) due to loss of stable vision when the head is moving, \\nabnormal head impulse responses in both directions, and a Romberg \\nsign. Responses to caloric testing are reduced. Patients with bilateral \\nvestibular hypofunction should be referred for vestibular rehabilitation \\ntherapy. Vestibular suppressant medications should not be used, as they \\nwill increase the imbalance. Evaluation by a neurologist is important \\nnot only to confirm the diagnosis but also to consider any other asso-\\nciated neurologic abnormalities that may clarify the etiology.\\n ■ CENTRAL VESTIBULAR DISORDERS\\nCentral lesions causing vertigo typically involve vestibular pathways in \\nthe brainstem and/or cerebellum. They may be due to discrete lesions, \\nsuch as from ischemic or hemorrhagic stroke (Chaps. 426–428), \\ndemyelination (Chap. 444), or tumors (Chap. 90), or they may be due \\nto neurodegenerative conditions that include the vestibulocerebellum \\n(Chaps. 431–434). Subacute cerebellar degeneration may be due to \\nimmune, including paraneoplastic, processes (Chaps. 94 and 439). \\nTable 22-1 outlines important features of the history and examination \\nthat help to identify central vestibular disorders. Acute central vertigo \\nis a medical emergency, due to the possibility of life-threatening stroke \\nor hemorrhage. All patients with suspected central vestibular disorders \\nshould undergo brain MRI, and the patient should be referred for full \\nneurologic evaluation.\\n ■ PSYCHOSOMATIC AND FUNCTIONAL DIZZINESS\\nPsychological factors play an important role in chronic dizziness. First, \\ndizziness may be a somatic manifestation of a psychiatric condition \\nsuch as major depression, anxiety, or panic disorder (Chap. 452). \\nSecond, patients may develop anxiety and autonomic symptoms as a \\nconsequence or comorbidity of an independent vestibular disorder. \\nOne particular form of this has been termed variously phobic postural \\nvertigo, psychophysiologic vertigo, or chronic subjective dizziness, but \\nis now referred to as persistent postural-perceptual dizziness (PPPD). \\nThese patients have a chronic feeling (3 months or longer) of fluctuat-\\ning dizziness and disequilibrium that is present at rest but worse while \\nstanding. There is an increased sensitivity to self-motion and visual \\nmotion (e.g., watching movies), and a particular intensification of \\nsymptoms when moving through complex visual environments such as \\nsupermarkets. Although there may be a past history of an acute vestib-\\nular disorder (e.g., vestibular neuritis), the neuro-otologic examination \\nHPIM21e_Part2_p091-p464.indd   161 21/01/22   3:37 PM',\n",
       "  ''],\n",
       " ['162\\nPART 2Cardinal Manifestations and Presentation of Diseases\\nand vestibular testing are normal or indicative of a compensated ves -\\ntibular deficit, indicating that the ongoing subjective dizziness cannot \\nbe explained by a primary vestibular pathology. Anxiety disorders are \\nparticularly common in patients with chronic dizziness; when present, \\nthey contribute substantially to the morbidity. Treatment approaches \\nfor PPPD include pharmacological therapy with selective serotonin \\nreuptake inhibitors (SSRIs), cognitive-behavioral psychotherapy, and \\nvestibular rehabilitation. Vestibular suppressant medications generally \\nshould be avoided.\\nTREATMENT\\nVe r t i g o\\nTable 22-2 provides a list of commonly used medications for sup -\\npression of vertigo. As noted, these medications should be reserved \\nfor short-term control of active vertigo, such as during the first few \\ndays of acute vestibular neuritis, or for acute attacks of Ménière’s \\ndisease. They are less helpful for chronic dizziness and, as previ-\\nously stated, may hinder central compensation. An exception is \\nthat benzodiazepines may attenuate psychosomatic dizziness and \\nthe associated anxiety, although SSRIs are generally preferable in \\nsuch patients.\\nVestibular rehabilitation therapy promotes central adaptation \\nprocesses that compensate for vestibular loss and also may help \\nhabituate motion sensitivity and other symptoms of psychosomatic \\ndizziness. The general approach is to use a graded series of exercises \\nthat progressively challenge gaze stabilization and balance.\\n ■ FURTHER READING\\nAltissimi G et al: Drugs inducing hearing loss, tinnitus, dizziness and \\nvertigo: An updated guide. Eur Rev Med Pharmacol Sci 24:7946, \\n2020.\\nHuang TC et al: Vestibular migraine: An update on current under -\\nstanding and future directions. Cephalalgia 40:107, 2020.\\nKim JS, Z ee DS: Benign paroxysmal positional vertigo. N Engl J Med \\n370:1138, 2014.\\nPopkirov S et al: Persistent postural-perceptual dizziness (PPPD): \\na common, characteristic and treatable cause of chronic dizziness. \\nPract Neurol 18:5, 2018.\\nTABLE 22-2 T reatment of Vertigo\\nAGENTa DOSEb\\nAntihistamines \\xa0\\n Meclizine 25–50 mg 3 times daily\\n Dimenhydrinate 50 mg 1–2 times daily\\n Promethazine 25 mg 2–3 times daily (also  \\ncan be given rectally and IM)\\nBenzodiazepines \\xa0\\n Diazepam 2.5 mg 1–3 times daily\\n Clonazepam 0.25 mg 1–3 times daily\\nAnticholinergic \\xa0\\n Scopolamine transdermalc Patch\\nPhysical therapy \\xa0\\n Repositioning maneuversd \\xa0\\n V estibular rehabilitation \\xa0\\nOther \\xa0\\n Diuretics and/or low-sodium (1000 mg/d) diete \\xa0\\n Antimigrainous drugsf \\xa0\\n Selective serotonin reuptake inhibitorsg \\xa0\\naAll listed drugs are approved by the US Food and Drug Administration, but most \\nare not approved for the treatment of vertigo. bUsual oral (unless otherwise stated) \\nstarting dose in adults; a higher maintenance dose can be reached by a gradual \\nincrease. cFor motion sickness only. dFor benign paroxysmal positional vertigo. eFor \\nMénière’s disease. fFor vestibular migraine. gFor persistent postural-perceptual \\nvertigo and anxiety.\\nFatigue is one of the most common symptoms in clinical medicine. It \\nis a prominent manifestation of a number of systemic, neurologic, and \\npsychiatric syndromes, although a precise cause will not be identified \\nin a substantial minority of patients. Fatigue refers to the subjective \\nexperience of physical and mental weariness, sluggishness, low energy, \\nand exhaustion. In the context of clinical medicine, fatigue is most \\npractically defined as difficulty initiating or maintaining voluntary \\nmental or physical activity. Nearly everyone who has ever been ill with \\na self-limited infection has experienced this near-universal symptom, \\nand fatigue is usually brought to medical attention only when it is \\neither of unclear cause, fails to remit, or the severity is out of propor-\\ntion with what would be expected for the associated trigger.\\nFatigue should be distinguished from muscle weakness, a reduction \\nof neuromuscular power (Chap. 24); most patients complaining of \\nfatigue are not truly weak when direct muscle power is tested. Fatigue is \\nalso distinct from somnolence, which refers to sleepiness in the context \\nof disturbed sleep-wake physiology (Chap. 31), and from dyspnea on \\nexertion, although patients may use the word fatigue to describe any \\nof these symptoms. The task facing clinicians when a patient presents \\nwith fatigue is to identify the underlying cause and develop a therapeu-\\ntic alliance, the goal of which is to spare patients expensive and fruitless \\ndiagnostic workups and steer them toward effective therapy.\\n ■ EPIDEMIOLOGY AND GLOBAL CONSIDERATIONS\\nVariability in the definitions of fatigue and the survey instruments used \\nin different studies makes it difficult to arrive at precise figures about \\nthe global burden of fatigue. The point prevalence of fatigue was 6.7% \\nand the lifetime prevalence was 25% in a large National Institute of \\nMental Health survey of the U.S. general population. In primary care \\nclinics in Europe and the United States, between 10 and 25% of patients \\nsurveyed endorsed symptoms of prolonged (present for >1 month) or \\nchronic (present for >6 months) fatigue, but in only a minority was \\nfatigue the primary reason for seeking medical attention. In a com-\\nmunity survey of women in India, 12% reported chronic fatigue. By \\ncontrast, the prevalence of chronic fatigue syndrome (Chap. 450), as \\ndefined by the U.S. Centers for Disease Control and Prevention, is low.\\n ■ DIFFERENTIAL DIAGNOSIS\\nPsychiatric Disease Fatigue is a common somatic manifestation \\nof many major psychiatric syndromes, including depression, anxiety, \\nand somatoform disorders (Chap. 452). Psychiatric symptoms are \\nreported in more than three-quarters of patients with unexplained \\nchronic fatigue. Even in patients with systemic or neurologic disorders \\nin which fatigue is independently recognized as a symptom, comorbid \\npsychiatric disease may still be an important contributor.\\nNeurologic Disease Patients complaining of fatigue often say they \\nfeel weak, but upon careful examination, objective muscle weakness is \\nrarely discernible. If found, muscle weakness must then be localized \\nto the central nervous system, peripheral nervous system, neuromus-\\ncular junction, or muscle, and appropriate follow-up studies obtained \\n(Chap. 24). Fatigability of muscle power is a cardinal manifestation \\nof some neuromuscular disorders such as myasthenia gravis and is \\ndistinguished from fatigue by finding clinically evident diminution of \\nthe amount of force that a muscle generates upon repeated contraction \\n(Chap. 448). Fatigue is one of the most common and bothersome \\nsymptoms reported in multiple sclerosis (MS) (Chap. 444), affect -\\ning nearly 90% of patients; fatigue in MS can persist between MS \\nattacks and does not necessarily correlate with magnetic resonance \\nimaging (MRI) disease activity. Fatigue is also increasingly identified \\nas a troublesome feature of many neurodegenerative diseases, includ-\\ning Parkinson’s disease (Chap. 435), amyotrophic lateral sclerosis  \\n23 Fatigue\\nJeffrey M. Gelfand, Vanja C. Douglas\\nHPIM21e_Part2_p091-p464.indd   162 21/01/22   3:37 PM',\n",
       "  ''],\n",
       " ['163\\nFatigue CHAPTER 23\\n(Chap. 437), and central nervous system dysautonomias (Chap. 440). \\nFatigue after stroke (Chap. 426) is a well-described but poorly under -\\nstood entity with a widely varying prevalence. Episodic fatigue can \\nbe a premonitory symptom of migraine (Chap. 430). Fatigue is also \\na frequent consequence of traumatic brain injury (Chap. 443), often \\noccurring in association with depression and sleep disorders.\\nSleep Disorders Obstructive sleep apnea is an important cause of \\nexcessive daytime sleepiness in association with fatigue and should be \\ninvestigated using overnight polysomnography, particularly in those \\nwith prominent snoring, obesity, or other predictors of obstructive \\nsleep apnea (Chap. 297). Whether the cumulative sleep deprivation \\nthat is common in modern society contributes to clinically apparent \\nfatigue is not known (Chap. 31).\\nEndocrine Disorders  Fatigue, sometimes in association with \\ntrue muscle weakness, can be a heralding symptom of hypothyroidism \\n(Chap. 383), particularly in the context of hair loss, dry skin, cold \\nintolerance, constipation, and weight gain. Fatigue associated with heat \\nintolerance, sweating, and palpitations is typical of hyperthyroidism \\n(Chap. 384). Adrenal insufficiency (Chap. 386) can also manifest with \\nunexplained fatigue as a primary or prominent symptom, often with \\nanorexia, weight loss, nausea, myalgias, and arthralgias; hyponatremia, \\nhyperkalemia, and hyperpigmentation may be present at time of diag-\\nnosis. Mild hypercalcemia can cause fatigue, which may be relatively \\nvague, whereas severe hypercalcemia can lead to lethargy, stupor, and \\ncoma (Chap. 410). Both hypoglycemia and hyperglycemia can cause \\nlethargy, often in association with confusion; diabetes mellitus, and in \\nparticular type 1 diabetes, is also associated with fatigue independent \\nof glucose levels (Chap. 403). Fatigue may also accompany Cushing’s \\ndisease, hypoaldosteronism, and hypogonadism. Low vitamin D status \\nhas also been associated with fatigue.\\nLiver and Kidney Disease Both chronic liver failure and chronic \\nkidney disease can cause fatigue. Over 80% of hemodialysis patients \\ncomplain of fatigue, which makes it one of the most common symp-\\ntoms reported by patients in chronic kidney disease (Chap. 311).\\nObesity Obesity (Chap. 401) is associated with fatigue and sleep -\\niness independent of the presence of obstructive sleep apnea. Obese \\npatients undergoing bariatric surgery experience improvement in \\ndaytime sleepiness sooner than would be expected if the improvement \\nwere solely the result of weight loss and resolution of sleep apnea. A \\nnumber of other factors common in obese patients are likely contrib-\\nutors as well, including physical inactivity, diabetes, and depression.\\nPhysical Inactivity  Physical inactivity is associated with fatigue, \\nand increasing physical activity can improve fatigue in some patients.\\nMalnutrition Although fatigue can be a presenting feature of \\nmalnutrition (Chap. 334), nutritional status may also be an impor -\\ntant comorbidity and contributor to fatigue in other chronic illnesses, \\nincluding cancer-associated fatigue.\\nInfection Both acute and chronic infections commonly lead to \\nfatigue as part of the broader infectious syndrome. Evaluation for \\nundiagnosed infection as the cause of unexplained fatigue, and partic-\\nularly prolonged or chronic fatigue, should be guided by the history, \\nphysical examination, and infectious risk factors, with particular atten-\\ntion to risk for tuberculosis, HIV , chronic hepatitis, and endocarditis. \\nInfectious mononucleosis may cause prolonged fatigue that persists \\nfor weeks to months following the acute illness, but infection with the \\nEpstein-Barr virus is only very rarely the cause of unexplained chronic \\nfatigue. Postinfectious fatigue may also occur following a variety of \\nacute infections. For example, a substantial minority of patients who \\nhave recovered from SARS-CoV-1, SARS-CoV-2, and Ebola virus \\ncomplain of persistent fatigue.\\nDrugs Many medications, drugs, drug withdrawal, and chronic \\nalcohol use can all lead to fatigue. Medications that are more likely to \\nbe causative include antidepressants, antipsychotics, anxiolytics, opi -\\nates, antispasticity agents, antiseizure agents, and beta blockers.\\nCardiovascular and Pulmonary Disorders  Fatigue is one of \\nthe most taxing symptoms reported by patients with congestive heart \\nfailure and chronic obstructive pulmonary disease and negatively \\naffects quality of life. In a population-based cohort study in Norfolk, \\nUnited Kingdom, fatigue was associated with an increased hazard \\nof all-cause mortality in the general population, but particularly for \\ndeaths related to cardiovascular disease.\\nMalignancy Fatigue, particularly in association with unexplained \\nweight loss, can be a sign of occult malignancy, but cancer is rarely \\nidentified in patients with unexplained chronic fatigue in the absence \\nof other telltale signs or symptoms. Cancer-related fatigue is experi-\\nenced by 40% of patients at the time of diagnosis and by >80% at some \\ntime in the disease course.\\nHematologic Disorders  Chronic or progressive anemia may \\npresent with fatigue, sometimes in association with exertional tachy -\\ncardia and breathlessness. Anemia may also contribute to fatigue in \\nchronic illness. Low serum ferritin in the absence of anemia may also \\ncause fatigue that is reversible with iron replacement.\\nImmune-Mediated Disorders Fatigue is a prominent complaint \\nin many chronic inflammatory disorders, including systemic lupus \\nerythematosus, polymyalgia rheumatica, rheumatoid arthritis, inflam-\\nmatory bowel disease, antineutrophil cytoplasmic antibody (ANCA)–\\nassociated vasculitis, sarcoidosis, and Sjögren’s syndrome, but is not \\nusually an isolated symptom. Fatigue is also associated with primary \\nimmunodeficiency diseases.\\nPregnancy Fatigue is very commonly reported by women during \\nall stages of pregnancy and postpartum.\\nDisorders of Unclear Cause  Myalgic encephalomyelitis (ME)/\\nchronic fatigue syndrome (CFS) (Chap. 450)  and fibromyalgia  \\n(Chap. 373) incorporate chronic fatigue as part of the syndromic \\ndefinition when fatigue is present in association with other criteria, as \\ndiscussed in the respective chapters. Chronic multisymptom illness, \\nalso known as Gulf-War syndrome, is another symptom complex with \\nprominent fatigue; it is most commonly, although not exclusively, \\nobserved in veterans of the 1991 Gulf War conflict (Chap. S7). Idio-\\npathic chronic fatigue is used to describe the syndrome of unexplained \\nchronic fatigue in the absence of enough additional clinical features to \\nmeet the diagnostic criteria for ME/CFS.\\nAPPROACH TO THE PATIENT\\nFatigue\\nA detailed history focusing on the quality, pattern, time course, \\nassociated symptoms, and alleviating factors of fatigue is necessary to \\ndefine the syndrome and help direct further evaluation and treatment. \\nIt is important to determine if fatigue is the appropriate designation, \\nwhether symptoms are acute or chronic, and if the impairment is \\nprimarily mental, physical, or a combination of the two. The review \\nof systems should attempt to distinguish fatigue from excessive \\nsleepiness, dyspnea on exertion, exercise intolerance, and muscle \\nweakness. The presence of fever, chills, night sweats, or weight \\nloss should raise suspicion for an occult infection or malignancy. \\nA careful review of prescription, over-the-counter, herbal, and \\nrecreational drug and alcohol use is required. Circumstances sur-\\nrounding the onset of symptoms and potential triggers should be \\ninvestigated. The social history is important, with attention paid \\nto life stressors and adverse experiences, workhours, the social \\nsupport network, and domestic affairs including a screen for inti-\\nmate partner violence. Sleep habits and sleep hygiene should be \\nquestioned. The impact of fatigue on daily functioning is important \\nto understand the patient’s experience and gauge recovery and the \\nsuccess of treatment.\\nHPIM21e_Part2_p091-p464.indd   163 21/01/22   3:37 PM',\n",
       "  ''],\n",
       " ['164\\nPART 2Cardinal Manifestations and Presentation of Diseases\\nThe physical examination of patients with fatigue is guided by \\nthe history and differential diagnosis. A detailed mental status \\nexamination should be performed with particular attention to \\nsymptoms of depression and anxiety. A formal neurologic exami-\\nnation is required to determine whether objective muscle weakness \\nis present. This is usually a straightforward exercise, although \\noccasionally patients with fatigue have difficulty sustaining effort \\nagainst resistance and sometimes report that generating full power \\nrequires substantial mental effort. On confrontational testing, full \\npower may be generated for only a brief period before the patient \\nsuddenly gives way to the examiner. This type of weakness is often \\nreferred to as breakaway weakness and may or may not be associated \\nwith pain. This is contrasted with weakness due to lesions in the \\nmotor tracts or lower motor unit, in which the patient’s resistance \\ncan be overcome in a smooth and steady fashion and full power \\ncan never be generated. Occasionally, a patient may demonstrate \\nfatigable weakness, in which power is full when first tested but \\nbecomes weak upon repeat evaluation without interval rest. Fatiga-\\nble weakness, which usually indicates a problem of neuromuscular \\ntransmission, never has the sudden breakaway quality that one \\noccasionally observes in patients with fatigue. If the presence or \\nabsence of muscle weakness cannot be determined with the physi-\\ncal examination, electromyography with nerve conductions studies \\ncan be a helpful ancillary test.\\nThe general physical examination should screen for signs of car-\\ndiopulmonary disease, malignancy, lymphadenopathy, organomeg-\\naly, infection, liver failure, kidney disease, malnutrition, endocrine \\nabnormalities, and connective tissue disease. In patients with \\nassociated widespread musculoskeletal pain, assessment of tender \\npoints may help to reveal fibromyalgia. Although the diagnostic \\nyield of the general physical examination may be relatively low in \\nthe context of evaluation of unexplained chronic fatigue, elucidat-\\ning the cause of only 2% of cases in one prospective analysis, the \\nyield of a detailed neuropsychiatric and mental status evaluation \\nis likely to be much higher, revealing a potential explanation for \\nfatigue in up to 75–80% of patients in some series. Furthermore, a \\ncomplete physical examination demonstrates a serious and system-\\natic approach to the patient’s complaint and helps build trust and a \\ntherapeutic alliance.\\nLaboratory testing is likely to identify the cause of chronic fatigue \\nin only about 5% of cases. Beyond a few standard screening tests, \\nlaboratory evaluation should be guided by the history and physical \\nexamination; extensive testing is likely to lead to incidental findings \\nthat require explanation and unnecessary follow-up investigation, \\nand should be avoided in lieu of frequent clinical follow-up. A \\nreasonable approach to screening includes a complete blood count \\nwith differential (to screen for anemia, infection, and malignancy), \\nelectrolytes (including sodium, potassium, and calcium), glucose, \\nrenal function, liver function, and thyroid function. Testing for \\nHIV and adrenal function can also be considered. Published guide-\\nlines for chronic fatigue syndrome also recommend an erythrocyte \\nsedimentation rate (ESR) as part of the evaluation for mimics, \\nbut unless the value is very high, such nonspecific testing in the \\nabsence of other features is unlikely to clarify the situation. Routine \\nscreening with an antinuclear antibody (ANA) test is also unlikely \\nto be informative in isolation and is frequently positive at low titers \\nin otherwise healthy adults. Additional unfocused studies, such as \\nwhole-body imaging scans, are usually not indicated; in addition to \\ntheir inconvenience, potential risk, and cost, they often reveal unre-\\nlated incidental findings that can prolong the workup unnecessarily.\\nTREATMENT\\nFatigue\\nThe first priority is to address the underlying disorder or disor -\\nders that account for fatigue, because this can be curative in select \\ncontexts and palliative in others. Unfortunately, in many chronic \\nillnesses, fatigue may be refractory to traditional disease-modifying \\ntherapies, but it is nevertheless important in such cases to evaluate \\nfor other potential contributors because the cause may be multifac-\\ntorial. Antidepressants (Chap. 452) may be helpful for treatment of \\nchronic fatigue when symptoms of depression are present and are \\ngenerally most effective as part of a multimodal approach. However, \\nantidepressants can also cause fatigue and should be discontinued \\nif they are not clearly effective. Cognitive-behavioral therapy has \\nalso been demonstrated to be helpful in ME/CFS as well as cancer- \\nassociated fatigue. Both cognitive-behavioral therapy and graded \\nexercise therapy, in which physical exercise, most typically walk-\\ning, is gradually increased with attention to target heart rates to \\navoid overexertion, were shown to modestly improve walking \\ntimes and self-reported fatigue measures when compared to stan-\\ndard medical care in patients in the United Kingdom with chronic \\nfatigue. These benefits were maintained after a median follow-up \\nof 2.5 years. Psychostimulants such as amphetamines, modafinil, \\nand armodafinil can help increase alertness and concentration and \\nreduce excessive daytime sleepiness in certain clinical contexts, \\nwhich may in turn help with symptoms of fatigue in a minority \\nof patients, but they have generally proven to be unhelpful in ran-\\ndomized trials for treating fatigue in posttraumatic brain injury, \\nParkinson’s disease, cancer, and MS. In patients with low vitamin \\nD status, vitamin D replacement may lead to improvement in \\nfatigue.\\nDevelopment of more effective therapy for fatigue is hampered \\nby limited knowledge of the biologic basis of this symptom, includ-\\ning how fatigue is detected and registered in the nervous system. \\nProinflammatory cytokines, such as interleukin 1α and 1β and \\ntumor necrosis factor α, might mediate fatigue in some patients. \\nWhile preliminary studies of biologic therapies that inhibit cytok-\\nines have suggested a benefit against fatigue in some patients \\nwith inflammatory conditions, this approach has largely not led \\nto improvement in clinical trials that focused on fatigue as the \\nprimary endpoint. Nonetheless, specific targeting with cytokine \\nantagonists could represent a possible future approach for some \\npatients.\\n ■ PROGNOSIS\\nAcute fatigue significant enough to require medical evaluation is more \\nlikely to lead to an identifiable medical, neurologic, or psychiatric cause \\nthan is unexplained chronic fatigue. Evaluation of unexplained chronic \\nfatigue most commonly leads to diagnosis of a psychiatric condition \\nor remains unexplained. Identification of a previously undiagnosed \\nserious or life-threatening culprit etiology is rare, even with longitudi-\\nnal follow-up of patients with unexplained chronic fatigue. Complete \\nresolution is uncommon, at least over the short term, but multidisci-\\nplinary treatment approaches can lead to symptomatic improvements \\nthat substantially improve quality of life.\\n ■ FURTHER READING\\nBasu N et al: Fatigue is associated with excess mortality in the general \\npopulation: Results from the EPIC-Norfolk study. BMC Med 14:122, \\n2016.\\nDukes JC et al: Approach to fatigue: Best practice. Med Clin North \\nAm 105:137, 2021.\\nRoerink ME et al: Interleukin-1 as a mediator of fatigue in disease: A \\nnarrative review. J Neuroinflammation 14:16, 2017.\\nSharpe M et al: Rehabilitative treatments for chronic fatigue syn -\\ndrome: Long-term follow-up from the PACE trial. Lancet Psychiatry \\n2:1067, 2015.\\nWhite PD et al: Comparison of adaptive pacing therapy, cognitive \\nbehaviour therapy, graded exercise therapy, and specialist medical \\ncare for chronic fatigue syndrome (PACE): A randomised trial.  \\nLancet 377:823, 2011.\\nHPIM21e_Part2_p091-p464.indd   164 21/01/22   3:37 PM',\n",
       "  '']]"
      ]
     },
     "execution_count": 11,
     "metadata": {},
     "output_type": "execute_result"
    }
   ],
   "source": [
    "chunked_document[200:205]"
   ]
  },
  {
   "cell_type": "markdown",
   "metadata": {},
   "source": [
    "## Generate embeddings"
   ]
  },
  {
   "cell_type": "code",
   "execution_count": 12,
   "metadata": {},
   "outputs": [
    {
     "name": "stdout",
     "output_type": "stream",
     "text": [
      "5124\n"
     ]
    }
   ],
   "source": [
    "def generate_embeddings(documents: list[any]) -> list[list[float]]:\n",
    "    \"\"\"\n",
    "    Generate embeddings for a list of documents.\n",
    "\n",
    "    Args:\n",
    "        documents (list[any]): A list of document objects, each containing a 'page_content' attribute.\n",
    "\n",
    "    Returns:\n",
    "        list[list[float]]: A list containig a list of embeddings corresponding to the documents.\n",
    "    \"\"\"\n",
    "    embedded = [EMBEDDINGS.embed_documents(doc) for doc in documents]\n",
    "    return embedded\n",
    "\n",
    "\n",
    "# Run the function\n",
    "chunked_document_embeddings = generate_embeddings(documents=chunked_document)\n",
    "\n",
    "# Let's see the dimension of our embedding model so we can set it up later in pinecone\n",
    "print(len(chunked_document_embeddings))"
   ]
  },
  {
   "cell_type": "code",
   "execution_count": null,
   "metadata": {},
   "outputs": [],
   "source": []
  },
  {
   "cell_type": "markdown",
   "metadata": {},
   "source": [
    "## Create unique document IDs and also create a dict in the right format"
   ]
  },
  {
   "cell_type": "code",
   "execution_count": 14,
   "metadata": {},
   "outputs": [],
   "source": [
    "def generate_short_id(content: str) -> str:\n",
    "    \"\"\"\n",
    "    Generate a short ID based on the content using SHA-256 hash.\n",
    "\n",
    "    Args:\n",
    "    - content (str): The content for which the ID is generated.\n",
    "\n",
    "    Returns:\n",
    "    - short_id (str): The generated short ID.\n",
    "    \"\"\"\n",
    "    hash_obj = hashlib.sha256()\n",
    "    hash_obj.update(content.encode(\"utf-8\"))\n",
    "    return hash_obj.hexdigest()\n",
    "\n",
    "\n",
    "def combine_vector_and_text(\n",
    "    documents: list[any], doc_embeddings: list[list[float]]\n",
    ") -> list[dict[str, any]]:\n",
    "    \"\"\"\n",
    "    Process a list of documents along with their embeddings.\n",
    "\n",
    "    Args:\n",
    "    - documents (List[Any]): A list of documents (strings or other types).\n",
    "    - doc_embeddings (List[List[float]]): A list of embeddings corresponding to the documents.\n",
    "\n",
    "    Returns:\n",
    "    - data_with_metadata (List[Dict[str, Any]]): A list of dictionaries, each containing an ID, embedding values, and metadata.\n",
    "    \"\"\"\n",
    "    data_with_metadata = []\n",
    "\n",
    "    for doc_text, embedding in zip(documents, doc_embeddings):\n",
    "        # Convert doc_text to string if it's not already a string\n",
    "        if not isinstance(doc_text, str):\n",
    "            doc_text = str(doc_text)\n",
    "\n",
    "        # Generate a unique ID based on the text content\n",
    "        doc_id = generate_short_id(doc_text)\n",
    "\n",
    "        # Create a data item dictionary\n",
    "        data_item = {\n",
    "            \"id\": doc_id,\n",
    "            \"values\": embedding[0],\n",
    "            \"metadata\": {\"text\": doc_text},  # Include the text as metadata\n",
    "        }\n",
    "\n",
    "        # Append the data item to the list\n",
    "        data_with_metadata.append(data_item)\n",
    "\n",
    "    return data_with_metadata\n",
    "\n",
    "\n",
    "# Call the function\n",
    "data_with_meta_data = combine_vector_and_text(documents=chunked_document, doc_embeddings=chunked_document_embeddings) "
   ]
  },
  {
   "cell_type": "markdown",
   "metadata": {},
   "source": [
    "## Connect to Pinecone"
   ]
  },
  {
   "cell_type": "code",
   "execution_count": 52,
   "metadata": {},
   "outputs": [],
   "source": [
    "pc = Pinecone(api_key=PINECONE_API_KEY)\n",
    "index = pc.create_index(\n",
    "name=\"final\",\n",
    "dimension=1536,\n",
    "metric=\"cosine\",\n",
    "spec=ServerlessSpec(\n",
    "cloud='aws',\n",
    "region='us-east-1'\n",
    ")\n",
    ")"
   ]
  },
  {
   "cell_type": "code",
   "execution_count": 53,
   "metadata": {},
   "outputs": [],
   "source": [
    "index = pc.Index(\"final\")"
   ]
  },
  {
   "cell_type": "markdown",
   "metadata": {},
   "source": [
    "## Upsert the data to pinecone"
   ]
  },
  {
   "cell_type": "code",
   "execution_count": 54,
   "metadata": {},
   "outputs": [],
   "source": [
    "def upsert_data_to_pinecone(data_with_metadata: list[dict[str, any]], chunk_size: int = 100) -> None:\n",
    "    \"\"\"\n",
    "    Upsert data with metadata into a Pinecone index in smaller chunks.\n",
    "\n",
    "    Args:\n",
    "    - data_with_metadata (list[dict[str, any]]): List of data with metadata to upsert.\n",
    "    - chunk_size (int): Number of items per chunk.\n",
    "\n",
    "    Returns:\n",
    "    - None\n",
    "    \"\"\"\n",
    "    for i in range(0, len(data_with_metadata), chunk_size):\n",
    "        chunk = data_with_metadata[i:i + chunk_size]\n",
    "        index.upsert(vectors=chunk)\n",
    "\n",
    "# Call the function\n",
    "upsert_data_to_pinecone(data_with_metadata= data_with_meta_data)"
   ]
  },
  {
   "cell_type": "markdown",
   "metadata": {},
   "source": [
    "## Create query embedding"
   ]
  },
  {
   "cell_type": "code",
   "execution_count": 55,
   "metadata": {},
   "outputs": [],
   "source": [
    "def get_query_embeddings(query: str) -> list[float]:\n",
    "    \"\"\"This function returns a list of the embeddings for a given query\n",
    "\n",
    "    Args:\n",
    "        query (str): The actual query/question\n",
    "\n",
    "    Returns:\n",
    "        list[float]: The embeddings for the given query\n",
    "    \"\"\"\n",
    "    query_embeddings = EMBEDDINGS.embed_query(query)\n",
    "    return query_embeddings\n",
    "\n",
    "# Call the function\n",
    "query_embeddings = get_query_embeddings(query=\"How do i take the history for Breathlessness?\")"
   ]
  },
  {
   "cell_type": "markdown",
   "metadata": {},
   "source": [
    "## Index through the database"
   ]
  },
  {
   "cell_type": "code",
   "execution_count": 79,
   "metadata": {},
   "outputs": [],
   "source": [
    "def query_pinecone_index(\n",
    "    query_embeddings: list, top_k: int = 4, include_metadata: bool = True\n",
    ") -> dict[str, any]:\n",
    "    \"\"\"\n",
    "    Query a Pinecone index.\n",
    "\n",
    "    Args:\n",
    "    - index (Any): The Pinecone index object to query.\n",
    "    - vectors (List[List[float]]): List of query vectors.\n",
    "    - top_k (int): Number of nearest neighbors to retrieve (default: 2).\n",
    "    - include_metadata (bool): Whether to include metadata in the query response (default: True).\n",
    "\n",
    "    Returns:\n",
    "    - query_response (Dict[str, Any]): Query response containing nearest neighbors.\n",
    "    \"\"\"\n",
    "    query_response = index.query(\n",
    "        vector=query_embeddings, top_k=top_k, include_metadata=include_metadata\n",
    "    )\n",
    "    return query_response\n",
    "\n",
    "# Call the function\n",
    "answers = query_pinecone_index(query_embeddings=query_embeddings)"
   ]
  },
  {
   "cell_type": "markdown",
   "metadata": {},
   "source": [
    "## Retrival"
   ]
  },
  {
   "cell_type": "code",
   "execution_count": 93,
   "metadata": {},
   "outputs": [],
   "source": [
    "from langchain.llms import OpenAI\n",
    "from langchain.prompts import PromptTemplate\n",
    "\n",
    "LLM = OpenAI(temperature=0.8, model_name=\"gpt-3.5-turbo-instruct\") # Adjust the temperature to your taste\n",
    "\n",
    "# Extract only the text from the dictionary before passing it to the LLM\n",
    "text_answer = \" \".join([doc['metadata']['text'] for doc in answers['matches']])"
   ]
  },
  {
   "cell_type": "code",
   "execution_count": 94,
   "metadata": {},
   "outputs": [],
   "source": [
    "prompt = \"\"\"\n",
    "You are an AI assistant helping medical students with history taking by guiding them through key steps using a history textbook database. \n",
    "{text_answer} Using the provided information, give me a better and summarized answer to the question.\n",
    "\n",
    "Ask the following questions for each step:\n",
    "1. **Chief Complaint**:\n",
    "   - “What brings you in today?”\n",
    "   - “When did symptoms start? Any idea what caused it?”\n",
    "\n",
    "2. **History of Present Illness**:\n",
    "   - “Describe your symptoms in detail.”\n",
    "   - “Is the pain constant/intermittent? Anything that worsens or improves it?”\n",
    "   - “Any treatments tried?”\n",
    "\n",
    "3. **Past Medical History**:\n",
    "   - “Have you had any previous conditions or surgeries?”\n",
    "   - “Are you on any treatments currently?”\n",
    "\n",
    "4. **Family History**:\n",
    "   - “Do any conditions run in your family (e.g., diabetes, heart disease)?”\n",
    "\n",
    "5. **Social History**:\n",
    "   - “Do you smoke, drink alcohol, or use recreational drugs?”\n",
    "   - “Describe your lifestyle (diet, exercise)?”\n",
    "\n",
    "6. **Review of Systems**:\n",
    "   - “Any issues with the heart, lungs, digestion, or other organs?”\n",
    "\n",
    "7. **Medications and Allergies**:\n",
    "   - “Are you on any medications? Any allergies?”\n",
    "\n",
    "8. **Physical Exam Preparation**:\n",
    "   - “Are you comfortable proceeding with a physical exam?”\n",
    "\n",
    "9. **Diagnostic Tests**:\n",
    "   - “We may need tests. Are you okay with that?”\n",
    "\n",
    "For each question, refer to historical medical practices and texts in your database for guidance, context, or alternatives. Ensure all questions are thorough and lead to a complete medical history.\n",
    "\"\"\""
   ]
  },
  {
   "cell_type": "code",
   "execution_count": 95,
   "metadata": {},
   "outputs": [],
   "source": [
    "def better_query_response(prompt: str) -> str:\n",
    "    \"\"\"This function returns a better response using LLM\n",
    "    Args:\n",
    "        prompt (str): The prompt template\n",
    "\n",
    "    Returns:\n",
    "        str: The actual response returned by the LLM\n",
    "    \"\"\"\n",
    "    better_answer = LLM(prompt)\n",
    "    return better_answer\n",
    "\n",
    "# Call the function\n",
    "final_answer = better_query_response(prompt=prompt)"
   ]
  },
  {
   "cell_type": "code",
   "execution_count": 96,
   "metadata": {},
   "outputs": [
    {
     "name": "stdout",
     "output_type": "stream",
     "text": [
      "\n",
      "1. **Chief Complaint**:\n",
      "   - “What brings you in today?” (This question allows the patient to provide their main reason for seeking medical attention.)\n",
      "   - “When did symptoms start? Any idea what caused it?” (Understanding when the symptoms started and if the patient has any idea of the cause can provide valuable information for diagnosis.)\n",
      "\n",
      "2. **History of Present Illness**:\n",
      "   - “Describe your symptoms in detail.” (This question allows the patient to provide a detailed account of their symptoms, including location, duration, and severity.)\n",
      "   - “Is the pain constant/intermittent? Anything that worsens or improves it?” (Understanding the nature of the pain and any aggravating or alleviating factors can help narrow down the possible conditions.)\n",
      "   - “Any treatments tried?” (Knowing what treatments the patient has already tried can give insight into the effectiveness and potential cause of the symptoms.)\n",
      "\n",
      "3. **Past Medical History**:\n",
      "   - “Have you had any previous conditions or surgeries?” (This question allows the doctor to understand if the patient has a history of any medical conditions that may be relevant to their current symptoms.)\n",
      "   - “Are you on any treatments currently?” (Knowing if the patient is currently on any medications or treatments can help avoid\n"
     ]
    }
   ],
   "source": [
    "print(final_answer)"
   ]
  }
 ],
 "metadata": {
  "kernelspec": {
   "display_name": "MedMentor-4DQmH_3Z",
   "language": "python",
   "name": "python3"
  },
  "language_info": {
   "codemirror_mode": {
    "name": "ipython",
    "version": 3
   },
   "file_extension": ".py",
   "mimetype": "text/x-python",
   "name": "python",
   "nbconvert_exporter": "python",
   "pygments_lexer": "ipython3",
   "version": "3.12.3"
  }
 },
 "nbformat": 4,
 "nbformat_minor": 2
}
