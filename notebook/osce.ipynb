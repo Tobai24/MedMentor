{
 "cells": [
  {
   "cell_type": "markdown",
   "metadata": {},
   "source": [
    "## Load the necessary library"
   ]
  },
  {
   "cell_type": "code",
   "execution_count": 42,
   "metadata": {},
   "outputs": [
    {
     "data": {
      "text/plain": [
       "True"
      ]
     },
     "execution_count": 42,
     "metadata": {},
     "output_type": "execute_result"
    }
   ],
   "source": [
    "import os\n",
    "import hashlib\n",
    "from dotenv import load_dotenv\n",
    "from pinecone import Pinecone\n",
    "from langchain_openai import OpenAIEmbeddings, OpenAI\n",
    "from langchain.chains import RetrievalQA\n",
    "from langchain.vectorstores import FAISS\n",
    "from langchain.text_splitter import CharacterTextSplitter\n",
    "from langchain_community.document_loaders.pdf import PyPDFDirectoryLoader\n",
    "from transformers import AutoTokenizer, AutoModel\n",
    "from pinecone import ServerlessSpec\n",
    "\n",
    "load_dotenv()"
   ]
  },
  {
   "cell_type": "code",
   "execution_count": 10,
   "metadata": {},
   "outputs": [],
   "source": [
    "OPENAI_API_KEY = os.environ.get(\"OPENAI_API_KEY\")\n",
    "EMBEDDINGS = OpenAIEmbeddings(api_key=os.environ[\"OPENAI_API_KEY\"])\n",
    "PINECONE_API_KEY = os.getenv(\"PINECONE_API_KEY\")"
   ]
  },
  {
   "cell_type": "markdown",
   "metadata": {},
   "source": [
    "## Load the PDFs and create chunks of the dataset"
   ]
  },
  {
   "cell_type": "code",
   "execution_count": 19,
   "metadata": {},
   "outputs": [],
   "source": [
    "def read_split_doc(directory: str, chunk_size: int = 500, chunk_overlap: int = 120) -> list[str]:\n",
    "    \"\"\"Function to read the PDFs from a directory.\n",
    "\n",
    "    Args:\n",
    "        directory (str): The path of the directory where the PDFs are stored.\n",
    "\n",
    "    Returns:\n",
    "        list[str]: A list of text in the PDFs.\n",
    "    \"\"\"\n",
    "    # Initialize a PyPDFDirectoryLoader object with the given directory\n",
    "    file_loader = PyPDFDirectoryLoader(directory)\n",
    "    \n",
    "    # Load PDF documents from the directory\n",
    "    documents = file_loader.load()\n",
    "    \n",
    "    #did not use the recursive text splitter because it did not give a good result\n",
    "    document_splitter = CharacterTextSplitter(chunk_size=chunk_size, chunk_overlap=chunk_overlap)\n",
    "    \n",
    "    document_chunk = document_splitter.split_documents(documents)\n",
    "    \n",
    "    return document_chunk"
   ]
  },
  {
   "cell_type": "code",
   "execution_count": 20,
   "metadata": {},
   "outputs": [],
   "source": [
    "chunked_document = read_split_doc(\"../data/\")"
   ]
  },
  {
   "cell_type": "code",
   "execution_count": 21,
   "metadata": {},
   "outputs": [
    {
     "data": {
      "text/plain": [
       "[Document(metadata={'source': '../data/Handbook_of_clinical_diagnostics.pdf', 'page': 250, 'page_label': '262'}, page_content='262\\nSitting Position\\nSupine Position\\nFig. 49.5 The examination of patellar reflex\\nJ. Ma and R.\\xa0Zeng'),\n",
       " Document(metadata={'source': '../data/Handbook_of_clinical_diagnostics.pdf', 'page': 251, 'page_label': '263'}, page_content='263\\n49.6  A utonomic System Examination\\nAutonomic function is composed of sympathetic system and \\nparasympathetic system both of which interplay with each \\nother to maintain the normal function of vessels, endocrines \\nand various human organs. Examination of autonomic sys-\\ntem includes general inspection on skin, mucosa, hair, nail \\nand sweating condition. Several tests can be used in clinical \\nto examine the function of autonomic system, such as oculo-\\ncardiac reflex, orthostatic test, dermographism, pilomotor \\nreflex, sweating test and valsalva maneuver.\\nKey Terms\\n1 Diplopia 复视\\n2 Corneal reflex 角膜反射\\n3 Facial nerve palsy 面神经麻痹\\n4 Spastic paralysis 痉挛性瘫痪\\n5 Flaccid paralysis 弛缓性瘫痪\\n6 Cogwheel rigidity 齿轮样强直\\n7 Ataxia 共济失调\\n8 Superficial reflex 浅反射\\n9 Deep tendon reflex 腱反射\\n10 Pathological reflex 病理反射\\nFig. 49.6 The e xamination of ankle clonus\\nFig. 49.7 The e xamination of patella clonus\\nFig. 49.8 The e xamination of Babinski sign\\nFig. 49.9 The e xamination of Oppenheim sign\\nFig. 49.10 The e xamination of Hoffman sign\\n49 P hysical Examination of\\xa0the\\xa0Neurological Examination'),\n",
       " Document(metadata={'source': '../data/Handbook_of_clinical_diagnostics.pdf', 'page': 252, 'page_label': '264'}, page_content='264\\nStudy Questions\\n 1.\\n Ho\\nw to assess the grade of muscle strength?\\n 2.\\n Ho\\nw to differentiate rigidity from spasticity?\\n 3.\\n Describe the characteristics of dif\\nferent sensory impair -\\nment pattern in regarding to neurological localization.\\n 4.\\n Describe the characteristics of dif\\nferent movement impair-\\nment pattern in regarding to neurological localization.\\n 5.\\n What are meningeal signs?\\nSuggested Readings\\nBiller J, Gruener G, Brazis P.\\xa0DeMyer’s the neurologic examination: \\na programmed text. 6th ed. Columbus: McGraw-Hill Education/\\nMedical; 2011.\\nStrub RL, Black FW.\\xa0The mental status examination in neurology. 4th \\ned. Philadelphia: F.A.\\xa0Davis Company; 2003.\\nFig. 49.11 The e xamination \\nof kernig sign\\nFig. 49.12 The e xamination \\nof brudzinski sign\\nJ. Ma and R.\\xa0Zeng'),\n",
       " Document(metadata={'source': '../data/Handbook_of_clinical_diagnostics.pdf', 'page': 253, 'page_label': '265'}, page_content='265\\n© Springer Nature Singapore Pte Ltd. and People’s Medical Publishing House 2020\\nX.-H. Wan, R. Zeng (eds.), Handbook of Clinical Diagnostics, https://doi.org/10.1007/978-981-13-7677-1_50\\nComplete Physical Examination\\nRui\\xa0Zeng\\n50.1  B asic Requirements of\\xa0Complete \\nPhysical Examination\\nComplete physical examination is an essential skill for every \\nclinician and medical student. It is also an important part of \\nthe evaluation and assessment of the basic clinical skills of \\nthe doctors. After subsection learning of the system exami -\\nnation, students should learn how to mastery, comprehensive \\napplication. For specific cases, physical examination should \\nbe systematic and sequenced completed from head to foot. \\nIts basic requirements are as follows:\\n 1. The content of complete physical examination should \\nbe comprehensive and systematic which is in order to \\ncollect enough objective data, play a role in screening \\nexamination, also facilitate to complete medical records \\nas specified requirements. In addition, physical exami -\\nnation is usually carried out after history taking, the \\ninspectors have already known the focus examination. \\nTherefore, focused examination of the organs must be \\nmore in-depth and meticulous. In general, it should \\ninclude all required contents in systematic teaching, \\nwhich makes complete physical examination for each \\ncase is not mechanically repeat screening, but focused \\nexamination based on comprehensive and systematic \\nrequirements.\\n 2. The order of complete physical examination should \\nbe from head to foot. We emphasizes a reasonable and \\nlogical sequence, not only could maximally ensure med-\\nical efficiency and speed, but also could greatly reduce \\npatient’s discomfort and unnecessary postural changes, \\nalso it is easy to complete the examination. In order to \\nthe examination convenience, certain organs, such as \\nskin, lymph nodes, nervous system, has to be taken sec-\\ntional examination and unified record.\\n 3. Follow the basic principles and contents of complete \\nphysical examination, you could also been allowed to \\nyour own habits.  Appropriate adjustments to some \\nexamination sequence can be implemented. Such as thy-\\nroid palpation is always been done behind the patients. \\nTherefore, supine patients can be added in seat position \\nduring the examination of back. In order to have a com-\\nprehensive understanding of pulmonary signs, you \\nshould immediately check the back after the examina -\\ntion of anterior chest. The better sequence of abdominal \\nexamination should be inspection, auscultation, percus -\\nsion and palpation. For the examination of limbs, upper \\nlimbs are usually from hands to shoulders, while lower \\nlimbs should be carried out from near to far.\\n 4. Physical examination should pay particular atten -\\ntion to the principle of flexibility.  In some specific \\ncases, such as emergency and severe cases, may need \\nsimple physical examination then start to rescue and \\ntreat, complementary information could be collected \\nafter patients in stable condition, not sitting patients, \\nBack examination need only been done at lateral posi -\\ntion to those patients who could not seated. Anus rec -\\ntum, external genital examination should check only if \\nnecessary, special attention should also be paid to pro -\\ntect the privacy of patients during the process.\\n 5. The order of complete physical examination:  Supine \\nposition: General examination/vital signs →Head and \\nneck→Anterior and lateral chest (Heart and \\nlung)→(Seated position) Back (Include lung, spine, kid-\\nney, sacral area) →(Supine position) Abdomen →Upper \\nand lower limbs →Anus rectum →External \\ngenital→Nervous system→Standing position.\\nSeated position: General examination/vital \\nsigns→Upper limbs → Head and neck →Back (Include \\nlung, spine, kidney, sacral area) →(Supine position) \\nAnterior and lateral chest (Heart and \\nlung)→Abdomen→Lower limbs →Anus rectum → \\nExternal genital→Nervous system→Standing position.\\nR. Zeng (*) \\nDepartment of Cardiology, Sichuan University, Chengdu, China\\n50'),\n",
       " Document(metadata={'source': '../data/Handbook_of_clinical_diagnostics.pdf', 'page': 254, 'page_label': '266'}, page_content=\"266\\n 6. The method of complete physical examination is the \\nenrichment \\nand extraction of systematic examina-\\ntion, with good skills to ensure standard and reason-\\nable, properly applied. Such as thyroid palpation, \\ndifferent methods depend on different positions. \\nPercussion shifting dullness for ascites examination \\nshould be supine. Explain first to achieve understanding \\nbefore instruments will be used to. Appropriate expo-\\nsure, then recovery after examination.\\n \\n7.\\n \\nEmphasize on deliberation, evaluation, inquiration \\nand verification while examination. The knowledge \\nand experience of the doctors are helpful to understand \\nnormal limits for objective examination result and clini-\\ncal significance. In order to make a correct judgment and \\nanalysis, you should always notice to compare during \\nexamination. Gentle action, not to make the patients feel \\npain.\\n \\n8.\\n \\nAppropriate communication with patients during \\nexamination. Self introduction, and we also should \\nnotice that doctor-patient relationship and communica-\\ntion, not only could be harmonious for doctor-patient \\nrelationship, but also complementary for medical his-\\ntory. The patient's health education and mental support \\ncould also be expressive in the examination process. \\nExamination process should have a good professional \\nattitude, caring and considerate patients, respect their \\nprivacy.\\n \\n9.\\n \\nThe schedule and time of examination. In order to \\navoid the examination discomfort or burden for patients, \\nit should be completed in 30–40\\xa0min.\\n 10.\\n At the end of the examination should be a simple con\\n-\\nversation with the patient, indicating important find-\\nings, patients should also pay attention to the matter \\nor the next treatment plan. But beginners should \\nunderstand their professional responsibilities, grasp the \\nsense of propriety, do not easily explain for some uncer-\\ntain signs, so as to avoid the mental heaviness of patient, \\nor cause disturbance to the medical work.\\n50.2  C omplete Physical Examination \\nChecklist\\n50.2.1  G eneral Examination/Vital Signs\\n——1. Prepare and count instruments\\n——2.  Introduce yourself to patient, usually last name and \\ntitle and ha\\nve a little conversation to relax the patient \\nand to judge mental state\\n——3.  Observ\\nation of the general state, include develop-\\nment, nutrition, face, expression and consciousness, \\netc.\\n——4. Wash hands before starting examination\\n——5. Measuring body temperature\\n——6.\\n P\\nalpate radial (wrist) pulses for at least 30 seconds \\nand record\\n——7.  P\\nalpate both radial (wrist) pulses simultaneously for \\nsymmetry\\n——8. Measure respiratory rate for at least 30\\xa0s and record\\n——9.  Measure blood pressure on right arm twice and \\nrecord\\n50.2.2  Head and\\xa0Neck\\n——10.  Observ e scalp (parting hair, and observing hair den-\\nsity, color, luster and distribution)\\n——11. Palpate skull\\n——12. Inspect both eyes and eyebrows\\n——13. Visual screening\\n——14.  Observ\\ne cornea, sclera and conjunctive by gently \\nmoving lower eyelids down,\\n——15. Observe lacrimal puncta\\n——16.  Observ\\ne sclera and bulbar conjunctiva by gently \\nelevating upper eyelid while patent looks down\\n——17.  Check \\ncrn VII upper division: wrinkle forehead or \\nforced eyelid closing\\n——18.  Ev\\naluate extraocular muscle function in both eyes in \\nsix directions (left, upper left and lower left, right, \\nupper right, lower right)\\n——19. Observe pupillary direct response to light\\n——20. Observe pupillary indirect response to light\\n——21. Check for convergence reflex\\n——22.  Observ\\ne the auricles and post-auricular regions \\nbilaterally\\n——23.  P\\nalpate the auricles and post-auricular regions \\nbilaterally\\n——24.  P\\nalpate temporomandibular joint for tenderness and \\nmovement\\n——25.  Use proper technique to check auditory acuity sepa\\n-\\nrately in each ear (Finger friction or watch used)\\n——26. Inspect and palpate external nose\\n——27. Observe nasal vestibule and septum\\n——28.  T\\nest patency by inhaling through each nostril sepa-\\nrately while the opposite nostril is he held occluded\\n——29. Palpate maxillary sinus for swelling and tenderness\\n——30. Palpate frontal sinus for swelling and tenderness\\n——31. Palpate ethmoid sinus for swelling and tenderness\\n——32.  Observ\\ne lips, buccal mucosa, teeth, gums and \\ntongue\\n——33.  Observ\\ne the buccal mucosa, teeth, gums and floor of \\nmouth by tongue blade\\n——34. Inspect tonsils and oropharynx by tongue blade\\n——35. Observe midline protrusion of the tongue (crn XII )\\n——36.  Sho\\nw teeth, puff out cheeks or purse lips (lower \\ndivision of crn VII)\\nR. Zeng\")]"
      ]
     },
     "execution_count": 21,
     "metadata": {},
     "output_type": "execute_result"
    }
   ],
   "source": [
    "chunked_document[250:255]"
   ]
  },
  {
   "cell_type": "markdown",
   "metadata": {},
   "source": [
    "## Generate embeddings"
   ]
  },
  {
   "cell_type": "code",
   "execution_count": 22,
   "metadata": {},
   "outputs": [],
   "source": [
    "# using FAISS\n",
    "# Generate embeddings for each document chunk\n",
    "embedding_generator = OpenAIEmbeddings()\n",
    "openai_library = FAISS.from_documents(chunked_document, embedding_generator)\n",
    "\n",
    "# Save the FAISS database to the specified directory\n",
    "openai_library.save_local(\"../embeddings\")"
   ]
  },
  {
   "cell_type": "code",
   "execution_count": 28,
   "metadata": {},
   "outputs": [],
   "source": [
    "query = \"How do i do a respiratory exam\""
   ]
  },
  {
   "cell_type": "code",
   "execution_count": 37,
   "metadata": {},
   "outputs": [],
   "source": [
    "answer = openai_library.similarity_search_with_score(query)"
   ]
  },
  {
   "cell_type": "code",
   "execution_count": 38,
   "metadata": {},
   "outputs": [
    {
     "name": "stdout",
     "output_type": "stream",
     "text": [
      "(Document(id='566476aa-9de9-438b-abcf-42e6e541f8ef', metadata={'source': '../data/Talley.pdf', 'page': 226, 'page_label': '227'}, page_content='The respiratory examination: a suggested method (see the OSCE video Respiratory \\nexamination at )\\nSitting up (if not acutely ill)\\n1. General inspection\\nSputum mug contents (blood, pus, etc.)\\nType of cough\\nRate and depth of respiration, and breathing \\npattern at rest\\nAccessory muscles of respiration\\n2. Hands\\nClubbing\\nCyanosis (peripheral)\\nNicotine staining\\nWasting, weakness—finger abduction and \\nadduction (lung cancer involving the \\nbrachial plexus)\\nWrist tenderness (hypertrophic pulmonary \\nosteoarthropathy)\\nPulse (tachycardia, pulsus paradoxus)\\nFlapping tremor (CO2 narcosis)\\n3. Face\\nEyes—Horner’s syndrome (apical lung cancer), \\nanaemia\\nMouth—central cyanosis\\nVoice—hoarseness (recurrent laryngeal nerve \\npalsy)\\nFacial plethora—smoker, SVC obstruction\\n4. Trachea\\n5. Chest posteriorly\\nInspect\\nCHAPTER 12 \\nA summary of the respiratory examination and \\nextending the respiratory examination\\nInvestigation; the act of the mind by which unknown truths are discovered.   SAMUEL JOHNSON,  \\nA Dictionary of the English Language  (1775)\\nRespiratory system\\nFIGURE 12.1 \\nTEXT BOX 12.1 \\nContinued'), np.float32(0.24938197))\n"
     ]
    }
   ],
   "source": [
    "print(answer[0])"
   ]
  },
  {
   "cell_type": "code",
   "execution_count": 40,
   "metadata": {},
   "outputs": [],
   "source": [
    "retriever = openai_library.as_retriever()"
   ]
  },
  {
   "cell_type": "code",
   "execution_count": 44,
   "metadata": {},
   "outputs": [],
   "source": [
    "retrievalQA = RetrievalQA.from_llm(llm=OpenAI(), retriever=retriever)"
   ]
  },
  {
   "cell_type": "code",
   "execution_count": 45,
   "metadata": {},
   "outputs": [],
   "source": [
    "result = retrievalQA.invoke(query)"
   ]
  },
  {
   "cell_type": "code",
   "execution_count": 46,
   "metadata": {},
   "outputs": [
    {
     "name": "stdout",
     "output_type": "stream",
     "text": [
      "{'query': 'How do i do a respiratory exam', 'result': \" To perform a respiratory exam, follow these steps:\\n\\n1. Have the patient sit up, if they are not acutely ill.\\n2. Start by making general observations, such as looking for sputum (mucus) in a mug and noting the type of cough the patient has.\\n3. Observe the rate and depth of the patient's breathing at rest, as well as any use of accessory muscles or intercostal in-drawing.\\n4. Examine the patient's hands for signs of clubbing, cyanosis, nicotine staining, and weakness or wasting in the fingers.\\n5. Check the patient's pulse for tachycardia (rapid heart rate) or pulsus paradoxus (dramatic fall in pulse pressure on normal inspiration).\\n6. Look at the patient's face for signs of Horner's syndrome (constricted pupil and drooping eyelid), central cyanosis, or facial plethora (redness).\\n7. Palpate the position of the trachea and feel for any tracheal tug or use of accessory muscles.\\n8. Ask the patient to speak and cough to check for hoarseness and the type of cough.\\n9. Measure the patient's forced expiratory time (FET) by having them take a\"}\n"
     ]
    }
   ],
   "source": [
    "print(result)"
   ]
  },
  {
   "cell_type": "code",
   "execution_count": 31,
   "metadata": {},
   "outputs": [],
   "source": [
    "tokenizer = AutoTokenizer.from_pretrained(\"medicalai/ClinicalBERT\")\n",
    "model = AutoModel.from_pretrained(\"medicalai/ClinicalBERT\")"
   ]
  },
  {
   "cell_type": "code",
   "execution_count": null,
   "metadata": {},
   "outputs": [],
   "source": [
    "tokenizer = AutoTokenizer.from_pretrained(\"emilyalsentzer/Bio_ClinicalBERT\")\n",
    "model = AutoModel.from_pretrained(\"emilyalsentzer/Bio_ClinicalBERT\")"
   ]
  },
  {
   "cell_type": "markdown",
   "metadata": {},
   "source": [
    "## Create unique document IDs and also create a dict in the right format"
   ]
  },
  {
   "cell_type": "code",
   "execution_count": 14,
   "metadata": {},
   "outputs": [],
   "source": [
    "def generate_short_id(content: str) -> str:\n",
    "    \"\"\"\n",
    "    Generate a short ID based on the content using SHA-256 hash.\n",
    "\n",
    "    Args:\n",
    "    - content (str): The content for which the ID is generated.\n",
    "\n",
    "    Returns:\n",
    "    - short_id (str): The generated short ID.\n",
    "    \"\"\"\n",
    "    hash_obj = hashlib.sha256()\n",
    "    hash_obj.update(content.encode(\"utf-8\"))\n",
    "    return hash_obj.hexdigest()\n",
    "\n",
    "\n",
    "def combine_vector_and_text(\n",
    "    documents: list[any], doc_embeddings: list[list[float]]\n",
    ") -> list[dict[str, any]]:\n",
    "    \n",
    "    data_with_metadata = []\n",
    "\n",
    "    for doc_text, embedding in zip(documents, doc_embeddings):\n",
    "        # Convert doc_text to string if it's not already a string\n",
    "        if not isinstance(doc_text, str):\n",
    "            doc_text = str(doc_text)\n",
    "\n",
    "        # Generate a unique ID based on the text content\n",
    "        doc_id = generate_short_id(doc_text)\n",
    "\n",
    "        # Create a data item dictionary\n",
    "        data_item = {\n",
    "            \"id\": doc_id,\n",
    "            \"values\": embedding[0],\n",
    "            \"metadata\": {\"text\": doc_text},  # Include the text as metadata\n",
    "        }\n",
    "\n",
    "        # Append the data item to the list\n",
    "        data_with_metadata.append(data_item)\n",
    "\n",
    "    return data_with_metadata\n",
    "\n",
    "\n",
    "# Call the function\n",
    "data_with_meta_data = combine_vector_and_text(documents=chunked_document, doc_embeddings=chunked_document_embeddings) "
   ]
  },
  {
   "cell_type": "markdown",
   "metadata": {},
   "source": [
    "## Connect to Pinecone"
   ]
  },
  {
   "cell_type": "code",
   "execution_count": 52,
   "metadata": {},
   "outputs": [],
   "source": [
    "pc = Pinecone(api_key=PINECONE_API_KEY)\n",
    "index = pc.create_index(\n",
    "name=\"final\",\n",
    "dimension=1536,\n",
    "metric=\"cosine\",\n",
    "spec=ServerlessSpec(\n",
    "cloud='aws',\n",
    "region='us-east-1'\n",
    ")\n",
    ")"
   ]
  },
  {
   "cell_type": "code",
   "execution_count": 53,
   "metadata": {},
   "outputs": [],
   "source": [
    "index = pc.Index(\"final\")"
   ]
  },
  {
   "cell_type": "markdown",
   "metadata": {},
   "source": [
    "## Upsert the data to pinecone"
   ]
  },
  {
   "cell_type": "code",
   "execution_count": 54,
   "metadata": {},
   "outputs": [],
   "source": [
    "def upsert_data_to_pinecone(data_with_metadata: list[dict[str, any]], chunk_size: int = 100) -> None:\n",
    "    \"\"\"\n",
    "    Upsert data with metadata into a Pinecone index in smaller chunks.\n",
    "\n",
    "    Args:\n",
    "    - data_with_metadata (list[dict[str, any]]): List of data with metadata to upsert.\n",
    "    - chunk_size (int): Number of items per chunk.\n",
    "\n",
    "    Returns:\n",
    "    - None\n",
    "    \"\"\"\n",
    "    for i in range(0, len(data_with_metadata), chunk_size):\n",
    "        chunk = data_with_metadata[i:i + chunk_size]\n",
    "        index.upsert(vectors=chunk)\n",
    "\n",
    "# Call the function\n",
    "upsert_data_to_pinecone(data_with_metadata= data_with_meta_data)"
   ]
  },
  {
   "cell_type": "markdown",
   "metadata": {},
   "source": [
    "## Create query embedding"
   ]
  },
  {
   "cell_type": "code",
   "execution_count": 55,
   "metadata": {},
   "outputs": [],
   "source": [
    "def get_query_embeddings(query: str) -> list[float]:\n",
    "    \"\"\"This function returns a list of the embeddings for a given query\n",
    "\n",
    "    Args:\n",
    "        query (str): The actual query/question\n",
    "\n",
    "    Returns:\n",
    "        list[float]: The embeddings for the given query\n",
    "    \"\"\"\n",
    "    query_embeddings = EMBEDDINGS.embed_query(query)\n",
    "    return query_embeddings\n",
    "\n",
    "# Call the function\n",
    "query_embeddings = get_query_embeddings(query=\"How do i take the history for Breathlessness?\")"
   ]
  },
  {
   "cell_type": "markdown",
   "metadata": {},
   "source": [
    "## Index through the database"
   ]
  },
  {
   "cell_type": "code",
   "execution_count": 79,
   "metadata": {},
   "outputs": [],
   "source": [
    "def query_pinecone_index(\n",
    "    query_embeddings: list, top_k: int = 4, include_metadata: bool = True\n",
    ") -> dict[str, any]:\n",
    "    query_response = index.query(\n",
    "        vector=query_embeddings, top_k=top_k, include_metadata=include_metadata\n",
    "    )\n",
    "    return query_response\n",
    "\n",
    "# Call the function\n",
    "answers = query_pinecone_index(query_embeddings=query_embeddings)"
   ]
  },
  {
   "cell_type": "markdown",
   "metadata": {},
   "source": [
    "## Retrival"
   ]
  },
  {
   "cell_type": "code",
   "execution_count": 93,
   "metadata": {},
   "outputs": [],
   "source": [
    "from langchain.llms import OpenAI\n",
    "from langchain.prompts import PromptTemplate\n",
    "\n",
    "LLM = OpenAI(temperature=0.8, model_name=\"gpt-3.5-turbo-instruct\")\n",
    "\n",
    "text_answer = \" \".join([doc['metadata']['text'] for doc in answers['matches']])"
   ]
  },
  {
   "cell_type": "code",
   "execution_count": 94,
   "metadata": {},
   "outputs": [],
   "source": [
    "prompt = \"\"\"\n",
    "You are an AI assistant helping medical students with history taking by guiding them through key steps using a history textbook database. \n",
    "{text_answer} Using the provided information, give me a better and summarized answer to the question.\n",
    "\n",
    "Ask the following questions for each step:\n",
    "1. **Chief Complaint**:\n",
    "   - “What brings you in today?”\n",
    "   - “When did symptoms start? Any idea what caused it?”\n",
    "\n",
    "2. **History of Present Illness**:\n",
    "   - “Describe your symptoms in detail.”\n",
    "   - “Is the pain constant/intermittent? Anything that worsens or improves it?”\n",
    "   - “Any treatments tried?”\n",
    "\n",
    "3. **Past Medical History**:\n",
    "   - “Have you had any previous conditions or surgeries?”\n",
    "   - “Are you on any treatments currently?”\n",
    "\n",
    "4. **Family History**:\n",
    "   - “Do any conditions run in your family (e.g., diabetes, heart disease)?”\n",
    "\n",
    "5. **Social History**:\n",
    "   - “Do you smoke, drink alcohol, or use recreational drugs?”\n",
    "   - “Describe your lifestyle (diet, exercise)?”\n",
    "\n",
    "6. **Review of Systems**:\n",
    "   - “Any issues with the heart, lungs, digestion, or other organs?”\n",
    "\n",
    "7. **Medications and Allergies**:\n",
    "   - “Are you on any medications? Any allergies?”\n",
    "\n",
    "8. **Physical Exam Preparation**:\n",
    "   - “Are you comfortable proceeding with a physical exam?”\n",
    "\n",
    "9. **Diagnostic Tests**:\n",
    "   - “We may need tests. Are you okay with that?”\n",
    "\n",
    "For each question, refer to historical medical practices and texts in your database for guidance, context, or alternatives. Ensure all questions are thorough and lead to a complete medical history.\n",
    "\"\"\""
   ]
  },
  {
   "cell_type": "code",
   "execution_count": 95,
   "metadata": {},
   "outputs": [],
   "source": [
    "def better_query_response(prompt: str) -> str:\n",
    "    \"\"\"This function returns a better response using LLM\n",
    "    Args:\n",
    "        prompt (str): The prompt template\n",
    "\n",
    "    Returns:\n",
    "        str: The actual response returned by the LLM\n",
    "    \"\"\"\n",
    "    better_answer = LLM(prompt)\n",
    "    return better_answer\n",
    "\n",
    "# Call the function\n",
    "final_answer = better_query_response(prompt=prompt)"
   ]
  },
  {
   "cell_type": "code",
   "execution_count": 96,
   "metadata": {},
   "outputs": [
    {
     "name": "stdout",
     "output_type": "stream",
     "text": [
      "\n",
      "1. **Chief Complaint**:\n",
      "   - “What brings you in today?” (This question allows the patient to provide their main reason for seeking medical attention.)\n",
      "   - “When did symptoms start? Any idea what caused it?” (Understanding when the symptoms started and if the patient has any idea of the cause can provide valuable information for diagnosis.)\n",
      "\n",
      "2. **History of Present Illness**:\n",
      "   - “Describe your symptoms in detail.” (This question allows the patient to provide a detailed account of their symptoms, including location, duration, and severity.)\n",
      "   - “Is the pain constant/intermittent? Anything that worsens or improves it?” (Understanding the nature of the pain and any aggravating or alleviating factors can help narrow down the possible conditions.)\n",
      "   - “Any treatments tried?” (Knowing what treatments the patient has already tried can give insight into the effectiveness and potential cause of the symptoms.)\n",
      "\n",
      "3. **Past Medical History**:\n",
      "   - “Have you had any previous conditions or surgeries?” (This question allows the doctor to understand if the patient has a history of any medical conditions that may be relevant to their current symptoms.)\n",
      "   - “Are you on any treatments currently?” (Knowing if the patient is currently on any medications or treatments can help avoid\n"
     ]
    }
   ],
   "source": [
    "print(final_answer)"
   ]
  }
 ],
 "metadata": {
  "kernelspec": {
   "display_name": "MedMentor-4DQmH_3Z",
   "language": "python",
   "name": "python3"
  },
  "language_info": {
   "codemirror_mode": {
    "name": "ipython",
    "version": 3
   },
   "file_extension": ".py",
   "mimetype": "text/x-python",
   "name": "python",
   "nbconvert_exporter": "python",
   "pygments_lexer": "ipython3",
   "version": "3.12.3"
  }
 },
 "nbformat": 4,
 "nbformat_minor": 2
}
