{
 "cells": [
  {
   "cell_type": "markdown",
   "metadata": {},
   "source": [
    "## Load the necessary library"
   ]
  },
  {
   "cell_type": "code",
   "execution_count": 2,
   "metadata": {},
   "outputs": [
    {
     "name": "stderr",
     "output_type": "stream",
     "text": [
      "/root/.local/share/virtualenvs/MedMentor-4DQmH_3Z/lib/python3.12/site-packages/pinecone/data/index.py:1: TqdmWarning: IProgress not found. Please update jupyter and ipywidgets. See https://ipywidgets.readthedocs.io/en/stable/user_install.html\n",
      "  from tqdm.autonotebook import tqdm\n"
     ]
    },
    {
     "data": {
      "text/plain": [
       "True"
      ]
     },
     "execution_count": 2,
     "metadata": {},
     "output_type": "execute_result"
    }
   ],
   "source": [
    "import os\n",
    "import json\n",
    "import torch\n",
    "import faiss\n",
    "import hashlib\n",
    "import numpy as np\n",
    "from openai import OpenAI\n",
    "from dotenv import load_dotenv\n",
    "from pinecone import Pinecone\n",
    "from langchain_openai import OpenAIEmbeddings, OpenAI\n",
    "from langchain.chains import RetrievalQA\n",
    "from langchain.vectorstores import FAISS\n",
    "from langchain.text_splitter import RecursiveCharacterTextSplitter\n",
    "from langchain_community.document_loaders.pdf import PyPDFDirectoryLoader\n",
    "from transformers import AutoTokenizer, AutoModel\n",
    "from pinecone import ServerlessSpec\n",
    "from sentence_transformers import SentenceTransformer\n",
    "\n",
    "load_dotenv()"
   ]
  },
  {
   "cell_type": "code",
   "execution_count": 2,
   "metadata": {},
   "outputs": [],
   "source": [
    "OPENAI_API_KEY = os.environ.get(\"OPENAI_API_KEY\")\n",
    "EMBEDDINGS = OpenAIEmbeddings(api_key=os.environ[\"OPENAI_API_KEY\"])\n",
    "PINECONE_API_KEY = os.getenv(\"PINECONE_API_KEY\")"
   ]
  },
  {
   "cell_type": "markdown",
   "metadata": {},
   "source": [
    "## Load the chuncked dataset\n"
   ]
  },
  {
   "cell_type": "code",
   "execution_count": 16,
   "metadata": {},
   "outputs": [],
   "source": [
    "def read_split_doc(directory: str, chunk_size: int = 500, chunk_overlap: int = 120) -> list[str]:\n",
    "    \"\"\"Function to read the PDFs from a directory.\n",
    "\n",
    "    Args:\n",
    "        directory (str): The path of the directory where the PDFs are stored.\n",
    "\n",
    "    Returns:\n",
    "        list[str]: A list of text in the PDFs.\n",
    "    \"\"\"\n",
    "    # Initialize a PyPDFDirectoryLoader object with the given directory\n",
    "    file_loader = PyPDFDirectoryLoader(directory)\n",
    "    \n",
    "    # Load PDF documents from the directory\n",
    "    documents = file_loader.load()\n",
    "    \n",
    "    document_splitter = RecursiveCharacterTextSplitter(chunk_size=chunk_size, chunk_overlap=chunk_overlap)\n",
    "    \n",
    "    document_chunk = document_splitter.split_documents(documents)\n",
    "    \n",
    "    return document_chunk"
   ]
  },
  {
   "cell_type": "code",
   "execution_count": 17,
   "metadata": {},
   "outputs": [],
   "source": [
    "chunked_document_one = read_split_doc(\"../data/\", chunk_size=500, chunk_overlap=120)\n",
    "\n",
    "# increase the chunking size by two\n",
    "chunked_document_two = read_split_doc(\"../data/\", chunk_size=1000, chunk_overlap=240)\n",
    "\n",
    "# decrease the chunking size by three\n",
    "chunked_document_three = read_split_doc(\"../data\", chunk_size=250, chunk_overlap=60)"
   ]
  },
  {
   "cell_type": "code",
   "execution_count": 18,
   "metadata": {},
   "outputs": [
    {
     "name": "stdout",
     "output_type": "stream",
     "text": [
      "📌 chunked_document_one - Total Chunks: 10532\n",
      "📌 chunked_document_two - Total Chunks: 5406\n",
      "📌 chunked_document_three - Total Chunks: 21352\n"
     ]
    }
   ],
   "source": [
    "# Function to print chunk stats\n",
    "def print_chunk_stats(chunked_document, name):\n",
    "    chunk_lengths = [len(chunk.page_content) for chunk in chunked_document]\n",
    "    print(f\"📌 {name} - Total Chunks: {len(chunked_document)}\")\n",
    "\n",
    "# Print stats for each function call\n",
    "print_chunk_stats(chunked_document_one, \"chunked_document_one\")\n",
    "print_chunk_stats(chunked_document_two, \"chunked_document_two\")\n",
    "print_chunk_stats(chunked_document_three, \"chunked_document_three\")"
   ]
  },
  {
   "cell_type": "code",
   "execution_count": 19,
   "metadata": {},
   "outputs": [],
   "source": [
    "# Convert the Document objects to a list of dictionaries\n",
    "def serialize_documents(documents):\n",
    "    return [{\"page_content\": doc.page_content, \"metadata\": doc.metadata} for doc in documents]\n",
    "\n",
    "# Save chunked documents as JSON files\n",
    "with open(\"chunked_data_one.json\", 'w', encoding=\"utf-8\") as f_out:\n",
    "    json.dump(serialize_documents(chunked_document_one), f_out, indent=4, ensure_ascii=False)\n",
    "\n",
    "with open(\"chunked_data_two.json\", 'w', encoding=\"utf-8\") as f_out:\n",
    "    json.dump(serialize_documents(chunked_document_two), f_out, indent=4, ensure_ascii=False)\n",
    "\n",
    "with open(\"chunked_data_three.json\", 'w', encoding=\"utf-8\") as f_out:\n",
    "    json.dump(serialize_documents(chunked_document_three), f_out, indent=4, ensure_ascii=False)\n"
   ]
  },
  {
   "cell_type": "code",
   "execution_count": 20,
   "metadata": {},
   "outputs": [
    {
     "data": {
      "text/plain": [
       "[Document(metadata={'source': '../data/Handbook_of_clinical_diagnostics.pdf', 'page': 64, 'page_label': '63'}, page_content='tion. Feces tends to be loose or watery, without exudates \\nor blood. Hyperactive bowel sounds and abdominal pain \\ncould also be observed in these patients. When diarrhea is \\ncaused by dyspepsia, the stool usually has a foul smell, \\ngrease-like and viscous. If the stool only has mucus with-\\nout other pathological signs, the patients most likely suf-\\nfer from IBS(irritable bowel syndrome).\\n 6.\\n Accompanying Symptoms:\\n (a) Fever could be seen in'),\n",
       " Document(metadata={'source': '../data/Handbook_of_clinical_diagnostics.pdf', 'page': 64, 'page_label': '63'}, page_content='fer from IBS(irritable bowel syndrome).\\n 6.\\n Accompanying Symptoms:\\n (a) Fever could be seen in \\npatients suffering from acute bacillary dysentery, typhoid \\nfever, paratyphoid fever, intestinal tuberculosis, intestinal \\nmalignant lymphoma, active ulcerative colitis and sepsis. \\n(b) Tenesmus could be observed in patients with colorec-\\ntal lesions, such as acute dysentery, rectal inflammation \\nand rectal tumor. (c) Obvious weight loss could be seen in'),\n",
       " Document(metadata={'source': '../data/Handbook_of_clinical_diagnostics.pdf', 'page': 64, 'page_label': '63'}, page_content='tal lesions, such as acute dysentery, rectal inflammation \\nand rectal tumor. (c) Obvious weight loss could be seen in \\npatients with small intestinal lesions, such as gastrointes-\\ntinal malignant tumor and malabsorption syndrome. (d) \\nSkin lesions such as rash and subcutaneous hemorrhage \\ncould be seen in patients suffering from sepsis, typhoid \\nfever, paratyphoid fever, measles, Henoch-Schönlein \\nPurpura, pellagra, etc. (e) Abdominal mass could be pal-'),\n",
       " Document(metadata={'source': '../data/Handbook_of_clinical_diagnostics.pdf', 'page': 64, 'page_label': '63'}, page_content='fever, paratyphoid fever, measles, Henoch-Schönlein \\nPurpura, pellagra, etc. (e) Abdominal mass could be pal-\\npable in patients with gastrointestinal malignant tumor, \\nintestinal tuberculosis, Crohn’s disease and schistosomia-\\nsis granuloma. (f) Severe dehydration is common in \\npatients suffering from secretory diarrhea, such as in \\ncholera, bacterial food poisoning, uremia, etc. (g) \\nArthralgia and arthrocele could be observed in patients \\nwith Crohn’s disease, ulcerative colitis and systemic'),\n",
       " Document(metadata={'source': '../data/Handbook_of_clinical_diagnostics.pdf', 'page': 64, 'page_label': '63'}, page_content='Arthralgia and arthrocele could be observed in patients \\nwith Crohn’s disease, ulcerative colitis and systemic \\nlupus erythematosus.\\nKey Points in History Taking\\n 1.\\n The onset and course of diarrhea. F\\nor elderly patients, \\npresence of fecal incontinence is important.\\n 2.\\n Prior history of consuming contaminated, uncook\\ned, \\nspicy or greasy food before experiencing diarrhea? \\nWhether dining companions suffer from similar \\nsymptoms?\\n 3.\\n History of drug use, alcohol ab\\nuse, traveling, surgical')]"
      ]
     },
     "execution_count": 20,
     "metadata": {},
     "output_type": "execute_result"
    }
   ],
   "source": [
    "chunked_document_one[550:555]"
   ]
  },
  {
   "cell_type": "code",
   "execution_count": 21,
   "metadata": {},
   "outputs": [
    {
     "data": {
      "text/plain": [
       "[Document(metadata={'source': '../data/Handbook_of_clinical_diagnostics.pdf', 'page': 124, 'page_label': '130'}, page_content='race, age and sex in the same region.\\n (a)\\n Short stature: Referring to adult males whose height \\nis lo\\nwer than 145\\xa0 cm, or lower than 135\\xa0 cm for \\nfemales. Short stature results from physical growth \\nretardation, which may be observed in delayed \\npuberty, endocrine disorders (such as pituitary dwarf-\\nism, cretinism, precocious puberty), malnutrition, \\nmetabolic disorders and systemic diseases (such as \\ntuberculosis, tumors, heart disease, congenital or \\nacquired bone disease, hypothalamic lesions).\\n (b)\\n T\\nall stature\\n•\\n Constitution tall stature: \\nThe height and weight are \\nsignificantly higher than that of normal individu-\\nals. The well-\\n proportioned tall stature is accompa\\n-\\nnied by good physical strength and normal fertility, \\nwithout endocrine dysfunction and advanced \\npuberty. As a normal variation, constitutional tall \\nstature is usually related to genetic background.\\n•\\n Adv\\nanced puberty: Advanced puberty refers to \\nsexual development occurs before the age of 9\\xa0in'),\n",
       " Document(metadata={'source': '../data/Handbook_of_clinical_diagnostics.pdf', 'page': 124, 'page_label': '130'}, page_content='puberty. As a normal variation, constitutional tall \\nstature is usually related to genetic background.\\n•\\n Adv\\nanced puberty: Advanced puberty refers to \\nsexual development occurs before the age of 9\\xa0in \\nfemale, and before 10 for male, which is often \\naccompanied with growth acceleration and tall \\nstature.\\n•\\n T\\nall stature caused by diseases: Tall stature may \\noccur in endocrine diseases, such as gigantism and \\nacromegaly.\\n42.1.5  State of\\xa0Nutrition\\nState of nutrition is related to food intake, digestion and \\nabsorption, metabolism, which is one of the criteria for iden-\\ntifying the state of health and disease. Abnormal state of \\nnutrition is usually described as obesity and emaciation.\\n42.1.5.1  C ommonly Used Assessment \\nIndicators\\nState of nutrition is usually determined by comprehensive \\nanalysis of skin, hair, subcutaneous fat and muscles, etc. The \\nmost convenient and rapid way to assess nutritional status is \\nto observe the subcutaneous fat enrichment. Here are some'),\n",
       " Document(metadata={'source': '../data/Handbook_of_clinical_diagnostics.pdf', 'page': 124, 'page_label': '130'}, page_content='analysis of skin, hair, subcutaneous fat and muscles, etc. The \\nmost convenient and rapid way to assess nutritional status is \\nto observe the subcutaneous fat enrichment. Here are some \\nphysical indexes that are applied to assess the state of \\nnutrition:\\n 1.\\n Height and weight\\nHeight and weight are the most commonly used indica\\n-\\ntors for body measurements. The following formula is a \\nrough estimate of ideal body weight (IBW, also called \\nstandard body weight): IBW (kg)\\xa0=\\xa0height (cm)\\xa0−\\xa0105, or \\nIBW (kg)\\xa0=\\xa0[height (cm)\\xa0 −\\xa0100]\\xa0×\\xa00.9 (male) or × 0.85 \\n(female). Generally, one’s weight in the range of \\nIBW\\xa0±\\xa010% is considered as normal weight; overweight \\nrefers to the weight is 10–20% higher than IBW; obesity \\nrefers to the weight is more than 20% higher than \\nIBW.\\xa0Emaciation refers to the weight is 10–20% lower \\nthan IBW; obvious emaciation refers to the weight is \\nmore than 20% lower than IBW; extremely emaciation is \\ncalled cachexia.\\n 2.\\n Body mass inde\\nx (BMI)'),\n",
       " Document(metadata={'source': '../data/Handbook_of_clinical_diagnostics.pdf', 'page': 124, 'page_label': '130'}, page_content='IBW.\\xa0Emaciation refers to the weight is 10–20% lower \\nthan IBW; obvious emaciation refers to the weight is \\nmore than 20% lower than IBW; extremely emaciation is \\ncalled cachexia.\\n 2.\\n Body mass inde\\nx (BMI)\\nBMI is another indicator for weight assessment. \\nCalculation method: BMI\\xa0 =\\xa0 weight (kg)/[height \\n(meters2)]. BMI is the most important indicator for the \\ndiagnosis of obesity. According to WHO standard, a per-\\nson with a BMI between 18.5 and 24.9 is considered to \\nhave a healthy weight; a person with a BMI between 25.0 \\nand 29.9 is considered as overweight; and a person with a \\nBMI of 30 or above is considered as obese.\\n 3.\\n W\\naist circumstance or waist-to-hip ratio\\nWaist circumstance (WC) or waist-to-hip ratio (WHR) \\nrepresents fat distribution. Waist circumstance refers to \\nthe circumferential length measured at the midpoint \\nbetween anterior superior iliac spine and lower edge of \\nthe twelfth rib. Hip circumference refers to the circumfer-\\nF. Chen and R.\\xa0Zeng'),\n",
       " Document(metadata={'source': '../data/Handbook_of_clinical_diagnostics.pdf', 'page': 125, 'page_label': '131'}, page_content='131\\nence measured at the most prominent point of the pelvis \\naround the hips.\\n 4.\\n Arm \\ncircumstance\\nIn some children, the left upper arm circumference may \\nbe used to evaluate the nutrition state. Generally, upper \\narm circumference above 13.5\\xa0cm is considered as well \\nnutrition for children of 1–5\\xa0years old; 12.5–13.5\\xa0cm is \\nconsidered as fairly nutrition; under 12.5\\xa0cm is consid-\\nered as innutrition.\\n 5.\\n Skinfold \\nthickness\\nMore than 50% of fat is distributed at subcutaneous. In \\nclinic, subcutaneous fat thickness measured by skinfold \\ncaliper is used to estimate the fat accumulation. \\nMeasurement position: upper arm, scapular region and \\nabdomen. Commonly used measurement position is tri-\\nceps skinfold of upper arm. The normal skinfold thick-\\nness is generally 13.1\\xa0±\\xa06.6\\xa0mm (median 11.4\\xa0mm) for \\nadult males, and 21.5\\xa0±\\xa06.9\\xa0mm (median 20.8\\xa0mm) for \\nfemales.\\n42.1.5.2  Nutrition S tate Levels\\nNutrition state is generally categorized as well, fairly or \\npoorly.\\n 1.\\n W')]"
      ]
     },
     "execution_count": 21,
     "metadata": {},
     "output_type": "execute_result"
    }
   ],
   "source": [
    "chunked_document_two[550:555]"
   ]
  },
  {
   "cell_type": "code",
   "execution_count": 22,
   "metadata": {},
   "outputs": [
    {
     "data": {
      "text/plain": [
       "[Document(metadata={'source': '../data/Handbook_of_clinical_diagnostics.pdf', 'page': 35, 'page_label': '31'}, page_content='acute left ventricular failure, primary pulmonary hyperten-\\nsion, certain congenital heart diseases (such as atrial septal \\ndefect, patent ductus arteriosus causing pulmonary \\nhypertension), pulmonary vasculitis, pulmonary arterio -'),\n",
       " Document(metadata={'source': '../data/Handbook_of_clinical_diagnostics.pdf', 'page': 35, 'page_label': '31'}, page_content='hypertension), pulmonary vasculitis, pulmonary arterio -\\nvenous fistula, etc. The mechanism is that pulmonary \\ncongestion leading to rupture of alveolar wall or endobron-\\nchial capillaries, or bronchi submucosal veins varices.'),\n",
       " Document(metadata={'source': '../data/Handbook_of_clinical_diagnostics.pdf', 'page': 35, 'page_label': '31'}, page_content='chial capillaries, or bronchi submucosal veins varices.\\n 4. Hematological diseases : Hematological diseases such \\nas idiopathic thrombocytopenic purpura, leukemia, \\nW. Ke\\nDepartment of Respiratory, Jilin University, Changchun, China\\nR. Zeng (*)'),\n",
       " Document(metadata={'source': '../data/Handbook_of_clinical_diagnostics.pdf', 'page': 35, 'page_label': '31'}, page_content='R. Zeng (*) \\nDepartment of Cardiology, Sichuan University, Chengdu, China\\n9\\nTable 9.1 The distinction between hemoptysis and hematemesis\\nHemoptysis Hematemesis\\nHistory T.B, bronchiectasis Ulcer, cihrrosis\\nPresymptom Cough, chest \\nuncomfortable'),\n",
       " Document(metadata={'source': '../data/Handbook_of_clinical_diagnostics.pdf', 'page': 35, 'page_label': '31'}, page_content='Presymptom Cough, chest \\nuncomfortable\\nV omit, nausea, \\nepigastric \\nuncomfortable\\nMode of \\nexpectoration\\nBlood spitting V omiting\\nColor of blood Bright red Dark red and black\\nMaterial mixed \\nwith blood\\nAir bubble and \\nsputum\\nFood debris and gastric')]"
      ]
     },
     "execution_count": 22,
     "metadata": {},
     "output_type": "execute_result"
    }
   ],
   "source": [
    "chunked_document_three[550:555]"
   ]
  },
  {
   "cell_type": "markdown",
   "metadata": {},
   "source": [
    "## Generate embeddings"
   ]
  },
  {
   "cell_type": "code",
   "execution_count": 48,
   "metadata": {},
   "outputs": [],
   "source": [
    "def create_chunk_embedding(documents, file_name):\n",
    "    # Generate embeddings and create FAISS index\n",
    "    embeddings = OpenAIEmbeddings(model=\"text-embedding-ada-002\")\n",
    "    faiss_index = FAISS.from_documents(documents, embeddings)\n",
    "    \n",
    "    # Save the FAISS index with the file name as part of the saved index name\n",
    "    index_path = f\"../embeddings/faiss_index_{file_name}\"\n",
    "    faiss_index.save_local(index_path)\n",
    "    \n",
    "    return index_path"
   ]
  },
  {
   "cell_type": "code",
   "execution_count": null,
   "metadata": {},
   "outputs": [],
   "source": [
    "from sentence_transformers import SentenceTransformer\n",
    "\n",
    "def create_chunk_embedding(documents, file_name):\n",
    "    openai_embeddings = OpenAIEmbeddings(model=\"text-embedding-ada-002\")\n",
    "    faiss_index_openai = FAISS.from_documents(documents, openai_embeddings)\n",
    "    openai_index_path = f\"../embeddings/faiss_index_openai_{file_name}\"\n",
    "    faiss_index_openai.save_local(openai_index_path)\n",
    "    \n",
    "    # SentenceTransformers embeddings\n",
    "    st_model = SentenceTransformer(\"all-mpnet-base-v2\")\n",
    "    st_embeddings = [st_model.encode(doc.page_content) for doc in documents]\n",
    "    faiss_index_st = FAISS.from_embeddings(st_embeddings, [doc.metadata for doc in documents])\n",
    "    st_index_path = f\"../embeddings/faiss_index_st_{file_name}\"\n",
    "    faiss_index_st.save_local(st_index_path)\n",
    "\n",
    "    return {\"openai_index\": openai_index_path, \"sentence_transformer_index\": st_index_path}"
   ]
  },
  {
   "cell_type": "code",
   "execution_count": null,
   "metadata": {},
   "outputs": [
    {
     "name": "stderr",
     "output_type": "stream",
     "text": [
      "/tmp/ipykernel_1686/2364846373.py:3: LangChainDeprecationWarning: The class `OpenAIEmbeddings` was deprecated in LangChain 0.0.9 and will be removed in 1.0. An updated version of the class exists in the :class:`~langchain-openai package and should be used instead. To use it run `pip install -U :class:`~langchain-openai` and import as `from :class:`~langchain_openai import OpenAIEmbeddings``.\n",
      "  embeddings = OpenAIEmbeddings(model=\"text-embedding-ada-002\")\n"
     ]
    }
   ],
   "source": [
    "# create faiss for the different chunks for evaluation\n",
    "index_path_one = create_chunk_embedding(chunked_document_one, \"one\")\n",
    "index_path_two = create_chunk_embedding(chunked_document_two, \"two\")\n",
    "index_path_three = create_chunk_embedding(chunked_document_three, \"three\")"
   ]
  },
  {
   "cell_type": "code",
   "execution_count": 59,
   "metadata": {},
   "outputs": [],
   "source": [
    "def load_faiss_index(index_path):\n",
    "    embeddings = OpenAIEmbeddings(model=\"text-embedding-ada-002\")\n",
    "    faiss_index = FAISS.load_local(\n",
    "        index_path,\n",
    "        embeddings,\n",
    "        allow_dangerous_deserialization=True\n",
    "    )\n",
    "    return faiss_index"
   ]
  },
  {
   "cell_type": "code",
   "execution_count": 53,
   "metadata": {},
   "outputs": [],
   "source": [
    "def query_faiss_index(faiss_index, query, k=5):\n",
    "    results = faiss_index.similarity_search(query, k=k)\n",
    "    return results"
   ]
  },
  {
   "cell_type": "code",
   "execution_count": 55,
   "metadata": {},
   "outputs": [],
   "source": [
    "first_index = load_faiss_index(\"../embeddings/faiss_index_one\")"
   ]
  },
  {
   "cell_type": "code",
   "execution_count": 56,
   "metadata": {},
   "outputs": [],
   "source": [
    "query = \"How do i do a respiratory exam\""
   ]
  },
  {
   "cell_type": "code",
   "execution_count": 57,
   "metadata": {},
   "outputs": [],
   "source": [
    "results = query_faiss_index(first_index, query, k=5)"
   ]
  },
  {
   "cell_type": "code",
   "execution_count": 58,
   "metadata": {},
   "outputs": [
    {
     "name": "stdout",
     "output_type": "stream",
     "text": [
      "Result 1: The respiratory examination: a suggested method (see the OSCE video Respiratory \n",
      "examination at )\n",
      "Sitting up (if not acutely ill)\n",
      "1. General inspection\n",
      "Sputum mug contents (blood, pus, etc.)\n",
      "Type of cough\n",
      "Rate and depth of respiration, and breathing \n",
      "pattern at rest\n",
      "Accessory muscles of respiration\n",
      "2. Hands\n",
      "Clubbing\n",
      "Cyanosis (peripheral)\n",
      "Nicotine staining\n",
      "Wasting, weakness—finger abduction and \n",
      "adduction (lung cancer involving the \n",
      "brachial plexus)\n",
      "Wrist tenderness (hypertrophic pulmonary\n",
      "Metadata: {'source': '../data/Talley.pdf', 'page': 226, 'page_label': '227'}\n",
      "\n",
      "Result 2: CHAPTER 12  A SummARy OF THE RESPIRA TORy ExAmINA TION ANd ExTENdING THE RESPIRA TORy ExAmINA TION 203\n",
      "c Students are advised to practise this so as to be able to demonstrate it \n",
      "without embarrassment.\n",
      "The respiratory examination: a suggested method continued\n",
      "there are often more signs there, unless the \n",
      "trachea is obviously displaced.\n",
      "Inspect the back. Look for kyphoscoliosis. Do \n",
      "not miss ankylosing spondylitis, which causes \n",
      "decreased chest expansion and upper lobe\n",
      "Metadata: {'source': '../data/Talley.pdf', 'page': 228, 'page_label': '229'}\n",
      "\n",
      "Result 3: 202 SECTION 3   THE RESPIRATORy SySTEm\n",
      "The respiratory examination: a suggested method continued\n",
      "Shape of chest and spine\n",
      "Scars\n",
      "Prominent veins (determine direction of flow)\n",
      "Palpate\n",
      "Cervical lymph nodes\n",
      "Expansion\n",
      "Vocal fremitus\n",
      "Percuss\n",
      "Supraclavicular region\n",
      "Back\n",
      "Axillae\n",
      "Tidal percussion (diaphragm paralysis)\n",
      "Auscultate\n",
      "Breath sounds\n",
      "Adventitious sounds\n",
      "Vocal resonance\n",
      "6. Chest anteriorly\n",
      "Inspect\n",
      "Radiotherapy marks, other signs as noted \n",
      "above\n",
      "Palpate\n",
      "Supraclavicular nodes\n",
      "Expansion\n",
      "Metadata: {'source': '../data/Talley.pdf', 'page': 227, 'page_label': '228'}\n",
      "\n",
      "Result 4: or her sitting over the edge of the bed or on a chair.\n",
      "GENERAL APPEARANCE\n",
      "If the patient is an inpatient in hospital, look around \n",
      "the bed for nasal prongs or a mask, metered dose \n",
      "inhalers (puffers) and other medications. Then make \n",
      "a deliberate point of looking for the following signs \n",
      "before beginning the detailed examination.\n",
      "Dyspnoea\n",
      "Watch the patient for signs of dyspnoea at rest. Count \n",
      "the respiratory rate; the normal rate at rest should\n",
      "Metadata: {'source': '../data/Talley.pdf', 'page': 199, 'page_label': '200'}\n",
      "\n",
      "Result 5: examination.\n",
      "Lungs\n",
      "Respiratory rate\n",
      "Count the respiratory rate over one full minute by \n",
      "assessing both chest movements and breath sounds. \n",
      "Although percentile charts are published (see Fig. 37.1), \n",
      "it is more common in clinical practice to employ the \n",
      "proposed ranges of normal that are best suited to a \n",
      "specific region and are endorsed by local policy (see \n",
      "Table 37.15).\n",
      "Rapid breathing (tachypnoea) and reduced breathing \n",
      "(hypopnoea, apnoea) are signs of respiratory failure.\n",
      "Metadata: {'source': '../data/Talley.pdf', 'page': 749, 'page_label': '750'}\n",
      "\n"
     ]
    }
   ],
   "source": [
    "for i, result in enumerate(results):\n",
    "    print(f\"Result {i+1}: {result.page_content}\")\n",
    "    print(f\"Metadata: {result.metadata}\\n\")"
   ]
  },
  {
   "cell_type": "code",
   "execution_count": 60,
   "metadata": {},
   "outputs": [],
   "source": [
    "second_index = load_faiss_index(\"../embeddings/faiss_index_two\")"
   ]
  },
  {
   "cell_type": "code",
   "execution_count": 61,
   "metadata": {},
   "outputs": [],
   "source": [
    "results = query_faiss_index(second_index, query, k=5)"
   ]
  },
  {
   "cell_type": "code",
   "execution_count": 62,
   "metadata": {},
   "outputs": [
    {
     "name": "stdout",
     "output_type": "stream",
     "text": [
      "Result 1: The respiratory examination: a suggested method (see the OSCE video Respiratory \n",
      "examination at )\n",
      "Sitting up (if not acutely ill)\n",
      "1. General inspection\n",
      "Sputum mug contents (blood, pus, etc.)\n",
      "Type of cough\n",
      "Rate and depth of respiration, and breathing \n",
      "pattern at rest\n",
      "Accessory muscles of respiration\n",
      "2. Hands\n",
      "Clubbing\n",
      "Cyanosis (peripheral)\n",
      "Nicotine staining\n",
      "Wasting, weakness—finger abduction and \n",
      "adduction (lung cancer involving the \n",
      "brachial plexus)\n",
      "Wrist tenderness (hypertrophic pulmonary \n",
      "osteoarthropathy)\n",
      "Pulse (tachycardia, pulsus paradoxus)\n",
      "Flapping tremor (CO2 narcosis)\n",
      "3. Face\n",
      "Eyes—Horner’s syndrome (apical lung cancer), \n",
      "anaemia\n",
      "Mouth—central cyanosis\n",
      "Voice—hoarseness (recurrent laryngeal nerve \n",
      "palsy)\n",
      "Facial plethora—smoker, SVC obstruction\n",
      "4. Trachea\n",
      "5. Chest posteriorly\n",
      "Inspect\n",
      "CHAPTER 12 \n",
      "A summary of the respiratory examination and \n",
      "extending the respiratory examination\n",
      "Investigation; the act of the mind by which unknown truths are discovered.   SAMUEL JOHNSON,\n",
      "Metadata: {'source': '../data/Talley.pdf', 'page': 226, 'page_label': '227'}\n",
      "\n",
      "Result 2: CHAPTER 12  A SummARy OF THE RESPIRA TORy ExAmINA TION ANd ExTENdING THE RESPIRA TORy ExAmINA TION 203\n",
      "c Students are advised to practise this so as to be able to demonstrate it \n",
      "without embarrassment.\n",
      "The respiratory examination: a suggested method continued\n",
      "there are often more signs there, unless the \n",
      "trachea is obviously displaced.\n",
      "Inspect the back. Look for kyphoscoliosis. Do \n",
      "not miss ankylosing spondylitis, which causes \n",
      "decreased chest expansion and upper lobe \n",
      "fibrosis. Look for thoracotomy scars and \n",
      "prominent veins. Also note any skin changes from \n",
      "radiotherapy.\n",
      "Palpate first from behind for the cervical nodes. \n",
      "Then examine for expansion—first upper lobe \n",
      "expansion, which is best seen by looking over the \n",
      "patient’s shoulders at clavicular movement during \n",
      "moderate respiration. The affected side will show \n",
      "a delay or decreased movement. Then examine \n",
      "lower lobe expansion by palpation. Note \n",
      "asymmetry and reduction of movement.\n",
      "Now ask the patient to bring his or her elbows\n",
      "Metadata: {'source': '../data/Talley.pdf', 'page': 228, 'page_label': '229'}\n",
      "\n",
      "Result 3: 4. Trachea\n",
      "5. Chest posteriorly\n",
      "Inspect\n",
      "CHAPTER 12 \n",
      "A summary of the respiratory examination and \n",
      "extending the respiratory examination\n",
      "Investigation; the act of the mind by which unknown truths are discovered.   SAMUEL JOHNSON,  \n",
      "A Dictionary of the English Language  (1775)\n",
      "Respiratory system\n",
      "FIGURE 12.1 \n",
      "TEXT BOX 12.1 \n",
      "Continued\n",
      "Metadata: {'source': '../data/Talley.pdf', 'page': 226, 'page_label': '227'}\n",
      "\n",
      "Result 4: 202 SECTION 3   THE RESPIRATORy SySTEm\n",
      "The respiratory examination: a suggested method continued\n",
      "Shape of chest and spine\n",
      "Scars\n",
      "Prominent veins (determine direction of flow)\n",
      "Palpate\n",
      "Cervical lymph nodes\n",
      "Expansion\n",
      "Vocal fremitus\n",
      "Percuss\n",
      "Supraclavicular region\n",
      "Back\n",
      "Axillae\n",
      "Tidal percussion (diaphragm paralysis)\n",
      "Auscultate\n",
      "Breath sounds\n",
      "Adventitious sounds\n",
      "Vocal resonance\n",
      "6. Chest anteriorly\n",
      "Inspect\n",
      "Radiotherapy marks, other signs as noted \n",
      "above\n",
      "Palpate\n",
      "Supraclavicular nodes\n",
      "Expansion\n",
      "Vocal fremitus\n",
      "Apex beat\n",
      "Percuss\n",
      "Auscultate\n",
      "Pemberton’s sign (SVC obstruction)\n",
      "7. Cardiovascular system (lying at 45°)\n",
      "Jugular venous pressure (SVC obstruction, etc.)\n",
      "Cor pulmonale\n",
      "8. Forced expiratory time\n",
      "9. Other\n",
      "Lower limbs—oedema, cyanosis\n",
      "Breasts\n",
      "Temperature chart (infection)\n",
      "Evidence of malignancy or pleural effusion: \n",
      "examine the breasts, abdomen, rectum, \n",
      "lymph nodes, etc.\n",
      "Respiratory rate after exercise\n",
      "TEXT BOX 12.1\n",
      "a There is good correlation between clinicians for the results of\n",
      "Metadata: {'source': '../data/Talley.pdf', 'page': 227, 'page_label': '228'}\n",
      "\n",
      "Result 5: hand, palpate the radial pulse for obvious pulsus \n",
      "paradoxus (dramatic fall in pulse pressure on \n",
      "normal inspiration). Take the blood pressure if \n",
      "indicated.\n",
      "Go on to the face. Look closely at the eyes for \n",
      "constriction of one of the pupils and for ptosis \n",
      "(Horner’s syndrome from an apical lung cancer). \n",
      "Inspect the tongue for central cyanosis.\n",
      "Palpate the position of the trachea. This is an \n",
      "important sign, so spend time on it. If the trachea \n",
      "is displaced, you must concentrate on the upper \n",
      "lobes for physical signs. Also look and feel for a \n",
      "tracheal tug, which indicates severe airflow \n",
      "obstruction, and feel for the use of the accessory \n",
      "muscles. Now ask the patient to speak \n",
      "(hoarseness) and then cough, and note whether \n",
      "this is a loose cough, a dry cough or a bovine \n",
      "cough. Next measure the forced expiratory time \n",
      "(FET).a Tell the patient to take a maximal \n",
      "inspiration and blow out as rapidly and forcefully \n",
      "as possible while you listen. Note audible wheeze\n",
      "Metadata: {'source': '../data/Talley.pdf', 'page': 227, 'page_label': '228'}\n",
      "\n"
     ]
    }
   ],
   "source": [
    "for i, result in enumerate(results):\n",
    "    print(f\"Result {i+1}: {result.page_content}\")\n",
    "    print(f\"Metadata: {result.metadata}\\n\")"
   ]
  },
  {
   "cell_type": "markdown",
   "metadata": {},
   "source": [
    "## Create unique document IDs and also create a dict in the right format"
   ]
  },
  {
   "cell_type": "code",
   "execution_count": 14,
   "metadata": {},
   "outputs": [],
   "source": [
    "def generate_short_id(content: str) -> str:\n",
    "    \"\"\"\n",
    "    Generate a short ID based on the content using SHA-256 hash.\n",
    "\n",
    "    Args:\n",
    "    - content (str): The content for which the ID is generated.\n",
    "\n",
    "    Returns:\n",
    "    - short_id (str): The generated short ID.\n",
    "    \"\"\"\n",
    "    hash_obj = hashlib.sha256()\n",
    "    hash_obj.update(content.encode(\"utf-8\"))\n",
    "    return hash_obj.hexdigest()\n",
    "\n",
    "\n",
    "def combine_vector_and_text(\n",
    "    documents: list[any], doc_embeddings: list[list[float]]\n",
    ") -> list[dict[str, any]]:\n",
    "    \n",
    "    data_with_metadata = []\n",
    "\n",
    "    for doc_text, embedding in zip(documents, doc_embeddings):\n",
    "        # Convert doc_text to string if it's not already a string\n",
    "        if not isinstance(doc_text, str):\n",
    "            doc_text = str(doc_text)\n",
    "\n",
    "        # Generate a unique ID based on the text content\n",
    "        doc_id = generate_short_id(doc_text)\n",
    "\n",
    "        # Create a data item dictionary\n",
    "        data_item = {\n",
    "            \"id\": doc_id,\n",
    "            \"values\": embedding[0],\n",
    "            \"metadata\": {\"text\": doc_text},  # Include the text as metadata\n",
    "        }\n",
    "\n",
    "        # Append the data item to the list\n",
    "        data_with_metadata.append(data_item)\n",
    "\n",
    "    return data_with_metadata\n",
    "\n",
    "\n",
    "# Call the function\n",
    "data_with_meta_data = combine_vector_and_text(documents=chunked_document, doc_embeddings=chunked_document_embeddings) "
   ]
  },
  {
   "cell_type": "markdown",
   "metadata": {},
   "source": [
    "## Connect to Pinecone"
   ]
  },
  {
   "cell_type": "code",
   "execution_count": 52,
   "metadata": {},
   "outputs": [],
   "source": [
    "pc = Pinecone(api_key=PINECONE_API_KEY)\n",
    "index = pc.create_index(\n",
    "name=\"final\",\n",
    "dimension=1536,\n",
    "metric=\"cosine\",\n",
    "spec=ServerlessSpec(\n",
    "cloud='aws',\n",
    "region='us-east-1'\n",
    ")\n",
    ")"
   ]
  },
  {
   "cell_type": "code",
   "execution_count": 53,
   "metadata": {},
   "outputs": [],
   "source": [
    "index = pc.Index(\"final\")"
   ]
  },
  {
   "cell_type": "markdown",
   "metadata": {},
   "source": [
    "## Upsert the data to pinecone"
   ]
  },
  {
   "cell_type": "code",
   "execution_count": 54,
   "metadata": {},
   "outputs": [],
   "source": [
    "def upsert_data_to_pinecone(data_with_metadata: list[dict[str, any]], chunk_size: int = 100) -> None:\n",
    "    \"\"\"\n",
    "    Upsert data with metadata into a Pinecone index in smaller chunks.\n",
    "\n",
    "    Args:\n",
    "    - data_with_metadata (list[dict[str, any]]): List of data with metadata to upsert.\n",
    "    - chunk_size (int): Number of items per chunk.\n",
    "\n",
    "    Returns:\n",
    "    - None\n",
    "    \"\"\"\n",
    "    for i in range(0, len(data_with_metadata), chunk_size):\n",
    "        chunk = data_with_metadata[i:i + chunk_size]\n",
    "        index.upsert(vectors=chunk)\n",
    "\n",
    "# Call the function\n",
    "upsert_data_to_pinecone(data_with_metadata= data_with_meta_data)"
   ]
  },
  {
   "cell_type": "markdown",
   "metadata": {},
   "source": [
    "## Create query embedding"
   ]
  },
  {
   "cell_type": "code",
   "execution_count": 55,
   "metadata": {},
   "outputs": [],
   "source": [
    "def get_query_embeddings(query: str) -> list[float]:\n",
    "    \"\"\"This function returns a list of the embeddings for a given query\n",
    "\n",
    "    Args:\n",
    "        query (str): The actual query/question\n",
    "\n",
    "    Returns:\n",
    "        list[float]: The embeddings for the given query\n",
    "    \"\"\"\n",
    "    query_embeddings = EMBEDDINGS.embed_query(query)\n",
    "    return query_embeddings\n",
    "\n",
    "# Call the function\n",
    "query_embeddings = get_query_embeddings(query=\"How do i take the history for Breathlessness?\")"
   ]
  },
  {
   "cell_type": "markdown",
   "metadata": {},
   "source": [
    "## Index through the database"
   ]
  },
  {
   "cell_type": "code",
   "execution_count": 79,
   "metadata": {},
   "outputs": [],
   "source": [
    "def query_pinecone_index(\n",
    "    query_embeddings: list, top_k: int = 4, include_metadata: bool = True\n",
    ") -> dict[str, any]:\n",
    "    query_response = index.query(\n",
    "        vector=query_embeddings, top_k=top_k, include_metadata=include_metadata\n",
    "    )\n",
    "    return query_response\n",
    "\n",
    "# Call the function\n",
    "answers = query_pinecone_index(query_embeddings=query_embeddings)"
   ]
  },
  {
   "cell_type": "markdown",
   "metadata": {},
   "source": [
    "## Text generation"
   ]
  },
  {
   "cell_type": "code",
   "execution_count": 104,
   "metadata": {},
   "outputs": [],
   "source": [
    "def build_prompt(query, search_results):\n",
    "    prompt = f\"\"\"\n",
    "You are **acting as a standardized patient** in an OSCE history-taking exam.  \n",
    "Your goal is to **respond naturally** to the student's questions while tracking their approach.  \n",
    "Use the clinical scenario and medical textbook data ({search_results}) to generate realistic responses.\n",
    "\n",
    "---\n",
    "## **🩺 Step 1: Clinical Scenario Generation**\n",
    "- **Patient Identity**: Assign a name, age, gender, and occupation.\n",
    "- **Presenting Complaint**: Clearly define the **reason for visit** (e.g., \"chest pain for 2 hours\").\n",
    "- **Background Context**: Provide necessary **medical history**, **family history**, and **risk factors**.\n",
    "\n",
    "---\n",
    "## **💬 Step 2: Conversational History-Taking**\n",
    "✅ **AI acts as the patient** and only responds to what the student asks.  \n",
    "✅ Stay **consistent** with the case details and ensure **progressive disclosure**:\n",
    "   - If the student asks a **broad** question, give a general response.\n",
    "   - If they ask a **specific** question, provide relevant details.  \n",
    "\n",
    "🔹 **Example Patient Responses Based on Student Questions**  \n",
    "- _\"What brings you in today?\"_ → _\"I've been having this crushing chest pain since this morning.\"_  \n",
    "- _\"Can you describe the pain?\"_ → _\"It started suddenly, feels like pressure in my chest, and radiates to my left arm.\"_  \n",
    "- _\"Have you had this before?\"_ → _\"Once before, but it went away after some rest.\"_  \n",
    "- _\"Do you smoke or drink?\"_ → _\"Yes, I smoke a pack a day and drink occasionally.\"_  \n",
    "\n",
    "⚠️ If the student **misses** a critical question, do not volunteer the information.\n",
    "\n",
    "---\n",
    "## **📊 Step 3: End-of-Session Evaluation**\n",
    "At the end of the session, compare the student’s **asked questions** with the ideal OSCE checklist.\n",
    "\n",
    "🔎 **Compare Against the OSCE Ideal Questions:**  \n",
    "- ✅ **Essential questions covered**  \n",
    "- ❌ **Missed critical questions**  \n",
    "- ⚡ **Areas for improvement** (e.g., missing risk factor evaluation, lack of empathy, leading questions)\n",
    "\n",
    "📌 **Final Feedback Format:**  \n",
    "- **Score:** X/10  \n",
    "- **What they did well:** (e.g., \"Good open-ended questions, logical flow\")  \n",
    "- **What to improve:** (e.g., \"Forgot to ask about risk factors\")  \n",
    "- **Suggested next steps:** (e.g., \"Try summarizing the patient’s complaint before moving on\")  \n",
    "\n",
    "---\n",
    "💡 **Goal:** Help students master **efficient and structured history-taking** by simulating real patient interactions and providing **real-time feedback**.  \n",
    "\"\"\".strip()\n",
    "\n",
    "    return prompt"
   ]
  },
  {
   "cell_type": "code",
   "execution_count": 83,
   "metadata": {},
   "outputs": [],
   "source": [
    "client = OpenAI()"
   ]
  },
  {
   "cell_type": "code",
   "execution_count": 92,
   "metadata": {},
   "outputs": [],
   "source": [
    "def llm(prompt):\n",
    "    response = client.chat.completions.create(\n",
    "        model='gpt-4o',\n",
    "        messages=[{\"role\": \"user\", \"content\": prompt}]\n",
    "    )\n",
    "    \n",
    "    return response.choices[0].message.content"
   ]
  },
  {
   "cell_type": "code",
   "execution_count": 105,
   "metadata": {},
   "outputs": [],
   "source": [
    "query = \"A respiratory exam case\"\n",
    "\n",
    "def rag(query):\n",
    "    prompt = build_prompt(query, results)\n",
    "    answer = llm(prompt)\n",
    "    return answer"
   ]
  },
  {
   "cell_type": "code",
   "execution_count": 106,
   "metadata": {},
   "outputs": [
    {
     "name": "stdout",
     "output_type": "stream",
     "text": [
      "## **🩺 Step 1: Clinical Scenario Generation**\n",
      "\n",
      "- **Patient Identity**: \n",
      "  - Name: John Edwards\n",
      "  - Age: 55\n",
      "  - Gender: Male\n",
      "  - Occupation: Retired mechanic\n",
      "\n",
      "- **Presenting Complaint**: \n",
      "  - \"I'm here because I have been having trouble breathing and a cough that won't go away.\"\n",
      "\n",
      "- **Background Context**: \n",
      "  - **Medical History**: \n",
      "    - Known history of Chronic Obstructive Pulmonary Disease (COPD) for 5 years\n",
      "    - Hypertension, managed with medication\n",
      "  - **Family History**: \n",
      "    - Father had lung cancer; mother had heart disease\n",
      "  - **Risk Factors**: \n",
      "    - Smoker, approximately 20 pack-years\n",
      "    - Occasional alcohol consumption\n",
      "\n",
      "---\n",
      "## **💬 Step 2: Conversational History-Taking**\n",
      "\n",
      "### Student Questions and Patient Responses:\n",
      "\n",
      "1. **Student**: \"What brings you in today?\"\n",
      "   - **Patient**: \"I’m here because I’ve been having trouble breathing and this persistent cough that just won't go away.\"\n",
      "\n",
      "2. **Student**: \"Can you describe the cough?\"\n",
      "   - **Patient**: \"It's a dry cough most of the time but sometimes I cough up a little phlegm.\"\n",
      "\n",
      "3. **Student**: \"How long have you been experiencing these symptoms?\"\n",
      "   - **Patient**: \"The cough has been here for about a month, but the breathing problems have been worse over the last couple of weeks.\"\n",
      "\n",
      "4. **Student**: \"Have you noticed anything that makes your symptoms better or worse?\"\n",
      "   - **Patient**: \"Rest helps a bit, but walking or any exertion tends to make it worse.\"\n",
      "\n",
      "5. **Student**: \"Do you have any fever or notice any changes in your body weight?\"\n",
      "   - **Patient**: \"No fever that I can tell, but I’ve lost a bit of weight recently without trying.\"\n",
      "\n",
      "6. **Student**: \"What about any chest pain or discomfort?\"\n",
      "   - **Patient**: \"Sometimes I get a tight feeling in my chest, especially when I'm short of breath.\"\n",
      "\n",
      "7. **Student**: \"Have you experienced this before, and does anything relieve it?\"\n",
      "   - **Patient**: \"It happens sometimes, and I usually just sit down and rest until it passes.\"\n",
      "\n",
      "8. **Student**: \"Do you smoke or drink alcohol?\"\n",
      "   - **Patient**: \"Yes, I smoke about a pack a day, and drink occasionally, maybe once or twice a month.\"\n",
      "\n",
      "9. **Student**: \"Have you noticed any changes in your appetite or any other new symptoms?\"\n",
      "   - **Patient**: \"Not really, my appetite’s been okay.\"\n",
      "\n",
      "10. **Student**: \"Any significant family medical history?\"\n",
      "   - **Patient**: \"Yes, my dad had lung cancer and my mom had heart disease.\"\n",
      "\n",
      "---\n",
      "## **📊 Step 3: End-of-Session Evaluation**\n",
      "\n",
      "### OSCE Checklist Comparison:\n",
      "\n",
      "- ✅ **Essential Questions Covered**:\n",
      "  - Presenting symptoms and their characteristics\n",
      "  - Duration and progression of symptoms\n",
      "  - Factors affecting symptoms\n",
      "  - Relevant past medical history and family history\n",
      "  - Smoking and alcohol history\n",
      "  - Weight changes and related systemic symptoms\n",
      "\n",
      "- ❌ **Missed Critical Questions**:\n",
      "  - Direct evaluation of respiratory risk factors beyond smoking (e.g., occupational exposures)\n",
      "  - Detailed social history or recent travel\n",
      "\n",
      "- ⚡ **Areas for Improvement**:\n",
      "  - Include more open-ended questions for each section (breathing, cough, lifestyle).\n",
      "  - Consider differentials beyond respiratory (allergies, GERD) when symptom description is vague.\n",
      "  - Display empathy towards the patient's struggles with COPD.\n",
      "\n",
      "### Final Feedback:\n",
      "\n",
      "- **Score:** 8/10\n",
      "- **What they did well:** Comprehensive exploration of symptoms, good inclusion of family medical history and lifestyle habits.\n",
      "- **What to improve:** Ensure to ask about occupational and environmental exposures. More exploration into how symptoms affect daily life and overall quality of life. Practice showing empathy through active listening and supportive statements.\n",
      "- **Suggested next steps:** Try summarizing the patient’s complaint before moving on to the next set of questions to ensure clarity and understanding. Demonstrate empathy by acknowledging the patient’s struggles with chronic illness.\n"
     ]
    }
   ],
   "source": [
    "print(rag(query))"
   ]
  }
 ],
 "metadata": {
  "kernelspec": {
   "display_name": "MedMentor-4DQmH_3Z",
   "language": "python",
   "name": "python3"
  },
  "language_info": {
   "codemirror_mode": {
    "name": "ipython",
    "version": 3
   },
   "file_extension": ".py",
   "mimetype": "text/x-python",
   "name": "python",
   "nbconvert_exporter": "python",
   "pygments_lexer": "ipython3",
   "version": "3.12.3"
  }
 },
 "nbformat": 4,
 "nbformat_minor": 2
}
