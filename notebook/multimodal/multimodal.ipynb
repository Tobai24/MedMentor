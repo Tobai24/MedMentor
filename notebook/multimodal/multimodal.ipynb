{
 "cells": [
  {
   "cell_type": "code",
   "execution_count": 64,
   "metadata": {},
   "outputs": [
    {
     "data": {
      "text/plain": [
       "True"
      ]
     },
     "execution_count": 64,
     "metadata": {},
     "output_type": "execute_result"
    }
   ],
   "source": [
    "import base64\n",
    "from openai import OpenAI\n",
    "from dotenv import load_dotenv\n",
    "\n",
    "import google.generativeai as genai\n",
    "load_dotenv()"
   ]
  },
  {
   "cell_type": "markdown",
   "metadata": {},
   "source": [
    "## Gemini model api"
   ]
  },
  {
   "cell_type": "code",
   "execution_count": 65,
   "metadata": {},
   "outputs": [],
   "source": [
    "genai.configure()"
   ]
  },
  {
   "cell_type": "code",
   "execution_count": 66,
   "metadata": {},
   "outputs": [],
   "source": [
    "model = genai.GenerativeModel(model_name=\"gemini-2.0-flash\")"
   ]
  },
  {
   "cell_type": "code",
   "execution_count": 67,
   "metadata": {},
   "outputs": [],
   "source": [
    "temperature = 0.2\n",
    "top_k = 40 \n",
    "top_p = 0.95\n",
    "\n",
    "# Create the model config\n",
    "generation_config = {\n",
    "  \"temperature\": temperature,\n",
    "  \"top_p\": top_p,\n",
    "  \"top_k\": top_k,\n",
    "  \"max_output_tokens\": 8192,\n",
    "  \"response_mime_type\": \"text/plain\",\n",
    "}"
   ]
  },
  {
   "cell_type": "code",
   "execution_count": 68,
   "metadata": {},
   "outputs": [],
   "source": [
    "def prompt_system():\n",
    "    prompt = \"\"\"You are a highly skilled medical educator specializing in creating Objective Structured Clinical Examination (OSCE) case scenarios. \n",
    "    Your role is to analyze uploaded medical images and generate **realistic, concise, and clinically relevant case prompts** suitable for medical students.  \n",
    "\n",
    "    ### Guidelines:\n",
    "    1. **Analyze the Image**:\n",
    "    - Identify key anatomical, pathological, or radiological features.\n",
    "    - Consider common clinical conditions associated with the findings in the image.\n",
    "\n",
    "    2. **Generate a Case Prompt**:\n",
    "    - Present only the **chief complaint** in a single, well-structured sentence.\n",
    "    - Do **not** include a diagnosis, additional history, examination findings, or any hints leading directly to the answer.\n",
    "    - Ensure the case is challenging yet appropriate for a medical student’s level.\n",
    "\n",
    "    3. **Maintain OSCE Standards**:\n",
    "    - The case should mimic a real OSCE station where students must:\n",
    "        - Take a focused history.\n",
    "        - Perform a relevant physical examination.\n",
    "        - Develop a differential diagnosis.\n",
    "    - Avoid excessive details that simplify the case too much.\n",
    "\n",
    "    4. **Expected Output**:\n",
    "    - A single plain-text sentence that serves as the case prompt.\n",
    "    - Example output: *\"A 50-year-old male presents with progressive difficulty swallowing over the past two months.\"*\n",
    "    - **Do not return JSON, bullet points, explanations, or formatting—only the final case prompt.**\n",
    "\n",
    "    Follow these instructions strictly to ensure high-quality OSCE cases that enhance medical education.\n",
    "\"\"\".strip()\n",
    "\n",
    "    return prompt"
   ]
  },
  {
   "cell_type": "code",
   "execution_count": 69,
   "metadata": {},
   "outputs": [],
   "source": [
    "def prompt(image):\n",
    "    prompt_template = f\"\"\"You are a medical educator tasked with creating a **clinical case scenario** for an OSCE (Objective Structured Clinical Examination). \n",
    "    Your goal is to generate a realistic and detailed case prompt based on the provided {image}.\n",
    "\n",
    "   ### Instructions:\n",
    "   1. **Analyze the Medical Image**:\n",
    "      - Carefully examine the uploaded image and identify key clinical features.\n",
    "      - Consider common pathologies, presentations, and relevant examination findings associated with the {image}.\n",
    "\n",
    "   2. **Generate a Realistic Case Prompt**:\n",
    "      - The case prompt should include **only the presenting complaint** (e.g., \"A 45-year-old male presents with chest pain for 2 hours\").\n",
    "      - Do not include additional history, examination findings, or diagnosis in the prompt.\n",
    "      - Ensure the complaint is specific, clinically relevant, and appropriate based on the image.\n",
    "\n",
    "   3. **Adhere to OSCE Standards**:\n",
    "      - The case prompt should mimic a real OSCE station, requiring the student to:\n",
    "        - Take a focused history.\n",
    "        - Perform a relevant physical examination.\n",
    "        - Develop a differential diagnosis.\n",
    "      - Avoid providing excessive details that would make the case too easy or unrealistic.\n",
    "\n",
    "   4. **Ensure Educational Value**:\n",
    "      - The case should challenge the student’s clinical reasoning and knowledge.\n",
    "      - It should be appropriate for the level of a medical student (e.g., not overly complex or obscure).\n",
    "\n",
    "   ### Input:\n",
    "   - **Uploaded Medical Image**: [analyzed content from the image]\n",
    "\n",
    "   ### Expected Output just text:\n",
    "   A concise and realistic case prompt based on the image, including only the presenting complaint (e.g., 'A 35-year-old female presents with shortness of breath and fever for 3 days').  \n",
    "   Generate only the case prompt as a single plain text sentence. Do not return JSON, code blocks, or any formatting.\n",
    "   \n",
    "   and also the medical condtion you are thinking of and also what is wrong with the image, which type of image is it\n",
    "   \"\"\".strip()\n",
    "\n",
    "    return prompt_template"
   ]
  },
  {
   "cell_type": "code",
   "execution_count": 38,
   "metadata": {},
   "outputs": [],
   "source": [
    "def prompt_open():\n",
    "    prompt_template = f\"\"\"You are a medical educator tasked with creating a **clinical case scenario** for an OSCE (Objective Structured Clinical Examination). \n",
    "    Your goal is to generate a realistic and detailed case prompt based on the provided image.\n",
    "\n",
    "   ### Instructions:\n",
    "   1. **Analyze the Medical Image**:\n",
    "      - Carefully examine the uploaded image and identify key clinical features.\n",
    "      - Consider common pathologies, presentations, and relevant examination findings associated with the image.\n",
    "\n",
    "   2. **Generate a Realistic Case Prompt**:\n",
    "      - The case prompt should include **only the presenting complaint** (e.g., \"A 45-year-old male presents with chest pain for 2 hours\").\n",
    "      - Do not include additional history, examination findings, or diagnosis in the prompt.\n",
    "      - Ensure the complaint is specific, clinically relevant, and appropriate based on the image.\n",
    "\n",
    "   3. **Adhere to OSCE Standards**:\n",
    "      - The case prompt should mimic a real OSCE station, requiring the student to:\n",
    "        - Take a focused history.\n",
    "        - Perform a relevant physical examination.\n",
    "        - Develop a differential diagnosis.\n",
    "      - Avoid providing excessive details that would make the case too easy or unrealistic.\n",
    "\n",
    "   4. **Ensure Educational Value**:\n",
    "      - The case should challenge the student’s clinical reasoning and knowledge.\n",
    "      - It should be appropriate for the level of a medical student (e.g., not overly complex or obscure).\n",
    "\n",
    "   ### Input:\n",
    "   - **Uploaded Medical Image**: [analyzed content from the image]\n",
    "\n",
    "   ### Expected Output just text:\n",
    "   A concise and realistic case prompt based on the image, including only the presenting complaint (e.g., 'A 35-year-old female presents with shortness of breath and fever for 3 days').  \n",
    "   Generate only the case prompt as a single plain text sentence. Do not return JSON, code blocks, or any formatting.\n",
    "   \n",
    "   and also the medical condtion you are thinking of and also what is wrong with the image, which type of image is it\n",
    "   \"\"\".strip()\n",
    "\n",
    "    return prompt_template"
   ]
  },
  {
   "cell_type": "code",
   "execution_count": 70,
   "metadata": {},
   "outputs": [],
   "source": [
    "system_prompt = prompt_system()"
   ]
  },
  {
   "cell_type": "code",
   "execution_count": 71,
   "metadata": {},
   "outputs": [],
   "source": [
    "model = genai.GenerativeModel(model_name=\"gemini-2.0-flash\",\n",
    "                                         system_instruction=system_prompt,\n",
    "                                         generation_config=generation_config)"
   ]
  },
  {
   "cell_type": "code",
   "execution_count": null,
   "metadata": {},
   "outputs": [
    {
     "name": "stdout",
     "output_type": "stream",
     "text": [
      "This appears to be a normal chest X-ray.\n",
      "\n",
      "A 22-year-old female presents for a routine pre-employment physical examination.\n",
      "\n"
     ]
    }
   ],
   "source": [
    "print(model.generate_content(prompt(\"normal1.jpg\")).text)"
   ]
  },
  {
   "cell_type": "code",
   "execution_count": 85,
   "metadata": {},
   "outputs": [
    {
     "name": "stdout",
     "output_type": "stream",
     "text": [
      "A 25-year-old male presents for a routine physical exam.\n",
      "\n",
      "The image is a normal chest X-ray. The medical condition is a routine check-up with no apparent abnormalities.\n",
      "\n"
     ]
    }
   ],
   "source": [
    "print(model.generate_content(prompt(\"normal1.png\")).text)"
   ]
  },
  {
   "cell_type": "code",
   "execution_count": 84,
   "metadata": {},
   "outputs": [
    {
     "name": "stdout",
     "output_type": "stream",
     "text": [
      "Medical Condition: Pneumothorax\n",
      "Image Findings: The image shows a chest X-ray with a visible pleural line and absence of lung markings in the upper right hemithorax, indicative of a pneumothorax.\n",
      "\n",
      "A 22-year-old male presents with sudden onset of right-sided chest pain and difficulty breathing.\n",
      "\n"
     ]
    }
   ],
   "source": [
    "print(model.generate_content(prompt(\"pneumothorax.png\")).text)"
   ]
  },
  {
   "cell_type": "code",
   "execution_count": 77,
   "metadata": {},
   "outputs": [
    {
     "name": "stdout",
     "output_type": "stream",
     "text": [
      "Medical Condition: Pneumonia\n",
      "Image Findings: Consolidation in the right lower lobe, suggestive of pneumonia. The image is a chest X-ray (PA view).\n",
      "\n",
      "A 62-year-old male presents with a persistent cough and increasing breathlessness over the past week.\n",
      "\n"
     ]
    }
   ],
   "source": [
    "print(model.generate_content(prompt(\"pneumonia.png\")).text)"
   ]
  },
  {
   "cell_type": "code",
   "execution_count": 78,
   "metadata": {},
   "outputs": [
    {
     "name": "stdout",
     "output_type": "stream",
     "text": [
      "Medical Condition: Acne vulgaris\n",
      "Image Description: Clinical photograph showing facial acne with comedones, papules, and pustules.\n",
      "\n",
      "Case Prompt: A 16-year-old male presents with a persistent rash on his face for the past year.\n",
      "\n"
     ]
    }
   ],
   "source": [
    "print(model.generate_content(prompt(\"acne.png\")).text)"
   ]
  },
  {
   "cell_type": "markdown",
   "metadata": {},
   "source": [
    "### OpenAI vision model"
   ]
  },
  {
   "cell_type": "code",
   "execution_count": 53,
   "metadata": {},
   "outputs": [],
   "source": [
    "# Function to encode the image\n",
    "def encode_image(image_path):\n",
    "    with open(image_path, \"rb\") as image_file:\n",
    "        return base64.b64encode(image_file.read()).decode(\"utf-8\")\n",
    "\n",
    "client = OpenAI()\n",
    "\n",
    "# Encode the local image\n",
    "image_base64 = encode_image(\"pneumothorax.png\")\n",
    "\n",
    "response = client.chat.completions.create(\n",
    "    model=\"gpt-4o-mini\",\n",
    "    messages=[\n",
    "        {\n",
    "            \"role\": \"user\",\n",
    "            \"content\": [\n",
    "                {\"type\": \"text\", \"text\": prompt_open()}, \n",
    "                {\n",
    "                    \"type\": \"image_url\",\n",
    "                    \"image_url\": {\n",
    "                        \"url\": f\"data:image/png;base64,{image_base64}\", \n",
    "                    },\n",
    "                },\n",
    "            ],\n",
    "        }\n",
    "    ],\n",
    "    max_tokens=300,\n",
    ")"
   ]
  },
  {
   "cell_type": "code",
   "execution_count": 54,
   "metadata": {},
   "outputs": [],
   "source": [
    "def generate_response_with_image(image_path, prompt):\n",
    "    \"\"\"Encodes a local image and sends it along with a prompt to OpenAI's GPT model.\"\"\"\n",
    "    \n",
    "    def encode_image(image_path):\n",
    "        \"\"\"Encodes an image to a base64 string.\"\"\"\n",
    "        with open(image_path, \"rb\") as image_file:\n",
    "            return base64.b64encode(image_file.read()).decode(\"utf-8\")\n",
    "\n",
    "    client = OpenAI()\n",
    "    image_base64 = encode_image(image_path)\n",
    "\n",
    "    response = client.chat.completions.create(\n",
    "        model=\"gpt-4o-mini\",\n",
    "        messages=[\n",
    "            {\n",
    "                \"role\": \"user\",\n",
    "                \"content\": [\n",
    "                    {\"type\": \"text\", \"text\": prompt},\n",
    "                    {\n",
    "                        \"type\": \"image_url\",\n",
    "                        \"image_url\": {\"url\": f\"data:image/png;base64,{image_base64}\"},\n",
    "                    },\n",
    "                ],\n",
    "            }\n",
    "        ],\n",
    "        max_tokens=300,\n",
    "    )\n",
    "\n",
    "    return response.choices[0].message.content\n"
   ]
  },
  {
   "cell_type": "code",
   "execution_count": 59,
   "metadata": {},
   "outputs": [
    {
     "name": "stdout",
     "output_type": "stream",
     "text": [
      "A 60-year-old male presents with a persistent cough and hemoptysis for the past week. \n",
      "\n",
      "**Medical condition:** Possible lung cancer or pulmonary infection (e.g., tuberculosis).\n",
      "\n",
      "**Image type:** Chest X-ray showing potential pathological findings indicating a mass or lesion.\n"
     ]
    }
   ],
   "source": [
    "print(generate_response_with_image(\"pneumothorax.png\", prompt_open()))"
   ]
  },
  {
   "cell_type": "code",
   "execution_count": 57,
   "metadata": {},
   "outputs": [
    {
     "name": "stdout",
     "output_type": "stream",
     "text": [
      "A 60-year-old female presents with chest pain and shortness of breath that started 2 days ago. \n",
      "\n",
      "Medical condition: Possible pneumonia or pulmonary edema, based on the presence of hazy infiltrates in the lung fields.\n",
      "\n",
      "Image type: Chest X-ray showing abnormal lung opacity indicative of consolidation or fluid accumulation.\n"
     ]
    }
   ],
   "source": [
    "print(generate_response_with_image(\"pneumonia.png\", prompt_open()))"
   ]
  },
  {
   "cell_type": "code",
   "execution_count": 56,
   "metadata": {},
   "outputs": [
    {
     "name": "stdout",
     "output_type": "stream",
     "text": [
      "A 17-year-old male presents with persistent facial acne and irritation for the past 3 months.\n",
      "\n",
      "**Medical condition**: Acne vulgaris  \n",
      "**What is wrong with the image**: The image depicts inflammatory acne with pustules and erythema on the face, characteristic of moderate to severe acne vulgaris.  \n",
      "**Type of image**: Dermatological clinical photograph.\n"
     ]
    }
   ],
   "source": [
    "print(generate_response_with_image(\"acne.png\", prompt_open()))"
   ]
  },
  {
   "cell_type": "code",
   "execution_count": 88,
   "metadata": {},
   "outputs": [
    {
     "name": "stdout",
     "output_type": "stream",
     "text": [
      "A 62-year-old male presents with a persistent cough and shortness of breath for the past week.  \n",
      "\n",
      "The medical condition associated with this image is likely congestive heart failure, and the image is a chest X-ray showing signs of pulmonary congestion.\n"
     ]
    }
   ],
   "source": [
    "print(generate_response_with_image(\"normal1.png\", prompt_open()))"
   ]
  }
 ],
 "metadata": {
  "kernelspec": {
   "display_name": "MedMentor-4DQmH_3Z",
   "language": "python",
   "name": "python3"
  },
  "language_info": {
   "codemirror_mode": {
    "name": "ipython",
    "version": 3
   },
   "file_extension": ".py",
   "mimetype": "text/x-python",
   "name": "python",
   "nbconvert_exporter": "python",
   "pygments_lexer": "ipython3",
   "version": "3.12.3"
  }
 },
 "nbformat": 4,
 "nbformat_minor": 2
}
