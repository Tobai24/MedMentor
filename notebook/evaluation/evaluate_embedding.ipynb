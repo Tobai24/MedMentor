{
  "cells": [
    {
      "cell_type": "code",
      "execution_count": 20,
      "metadata": {},
      "outputs": [
        {
          "data": {
            "text/plain": [
              "True"
            ]
          },
          "execution_count": 84,
          "metadata": {},
          "output_type": "execute_result"
        }
      ],
      "source": [
        "import os\n",
        "import json\n",
        "import pandas as pd\n",
        "import numpy as np\n",
        "from tqdm.auto import tqdm\n",
        "from langchain_core.documents import Document\n",
        "from pinecone import ServerlessSpec\n",
        "from pinecone import Pinecone\n",
        "from dotenv import load_dotenv\n",
        "from langchain.vectorstores import FAISS\n",
        "from langchain_openai import OpenAIEmbeddings, OpenAI\n",
        "from sentence_transformers import SentenceTransformer\n",
        "\n",
        "load_dotenv()"
      ]
    },
    {
      "cell_type": "code",
      "execution_count": 15,
      "metadata": {},
      "outputs": [],
      "source": [
        "OPENAI_API_KEY = os.environ.get(\"OPENAI_API_KEY\")\n",
        "EMBEDDINGS = OpenAIEmbeddings(api_key=os.environ[\"OPENAI_API_KEY\"])\n",
        "PINECONE_API_KEY = os.getenv(\"PINECONE_API_KEY\")"
      ]
    },
    {
      "cell_type": "code",
      "execution_count": 3,
      "metadata": {},
      "outputs": [],
      "source": [
        "with open('documents_with_ids.json', 'rt') as f_in:\n",
        "    documents = json.load(f_in)"
      ]
    },
    {
      "cell_type": "code",
      "execution_count": null,
      "metadata": {},
      "outputs": [],
      "source": [
        "def create_chunk_embedding(documents):\n",
        "    \n",
        "    processed_docs = [\n",
        "        Document(page_content=doc[\"page_content\"], metadata=doc[\"metadata\"])\n",
        "        for doc in documents\n",
        "    ]\n",
        "\n",
        "    # OpenAI Embeddings\n",
        "    openai_embeddings = OpenAIEmbeddings(model=\"text-embedding-ada-002\")\n",
        "    faiss_index_openai = FAISS.from_documents(processed_docs, openai_embeddings)\n",
        "    openai_index_path = \"../embeddings/faiss_index_openai\"\n",
        "    faiss_index_openai.save_local(openai_index_path)\n",
        "\n",
        "    # SentenceTransformers Embeddings\n",
        "    st_model = SentenceTransformer(\"all-mpnet-base-v2\")\n",
        "    st_embeddings = np.array([st_model.encode(doc[\"page_content\"]) for doc in documents])\n",
        "    doc_ids = [doc[\"id\"] for doc in documents]\n",
        "\n",
        "    faiss_index_st = FAISS.from_embeddings(list(zip(doc_ids, st_embeddings)), st_model)\n",
        "    st_index_path = \"../embeddings/faiss_index_st\"\n",
        "    faiss_index_st.save_local(st_index_path)\n",
        "\n",
        "    return {\"openai_index\": openai_index_path, \"sentence_transformer_index\": st_index_path}\n"
      ]
    },
    {
      "cell_type": "code",
      "execution_count": null,
      "metadata": {},
      "outputs": [],
      "source": [
        "index_path_one = create_chunk_embedding(documents)"
      ]
    },
    {
      "cell_type": "markdown",
      "metadata": {},
      "source": [
        "### Evaluate FAISS retrieval"
      ]
    },
    {
      "cell_type": "code",
      "execution_count": 70,
      "metadata": {},
      "outputs": [],
      "source": [
        "def load_faiss_index(index_path):\n",
        "    embeddings = OpenAIEmbeddings(model=\"text-embedding-ada-002\")\n",
        "    faiss_index = FAISS.load_local(\n",
        "        index_path,\n",
        "        embeddings,\n",
        "        allow_dangerous_deserialization=True\n",
        "    )\n",
        "    return faiss_index"
      ]
    },
    {
      "cell_type": "code",
      "execution_count": 71,
      "metadata": {},
      "outputs": [],
      "source": [
        "def query_faiss_index(faiss_index, query, k=5):\n",
        "    query_text = query[\"question\"]\n",
        "    results = faiss_index.similarity_search(query_text, k=k)\n",
        "    return results"
      ]
    },
    {
      "cell_type": "code",
      "execution_count": 73,
      "metadata": {},
      "outputs": [],
      "source": [
        "first_index = load_faiss_index(\"../embeddings/faiss_index\")"
      ]
    },
    {
      "cell_type": "code",
      "execution_count": 74,
      "metadata": {},
      "outputs": [],
      "source": [
        "df_ground_truth = pd.read_csv('questions.csv')"
      ]
    },
    {
      "cell_type": "code",
      "execution_count": 75,
      "metadata": {},
      "outputs": [],
      "source": [
        "ground_truth = df_ground_truth.to_dict(orient='records')"
      ]
    },
    {
      "cell_type": "code",
      "execution_count": 76,
      "metadata": {},
      "outputs": [
        {
          "data": {
            "text/plain": [
              "{'question': 'What are the possible causes and examination findings for a patient with bradycardia?',\n",
              " 'case_prompt': 'A 71-year-old man presents to the clinic with complaints of dizziness and fatigue for the past week. He reports that these symptoms have worsened over the last few days, and he denies any chest pain or palpitations.',\n",
              " 'document': '3d02524a'}"
            ]
          },
          "execution_count": 76,
          "metadata": {},
          "output_type": "execute_result"
        }
      ],
      "source": [
        "ground_truth[0]"
      ]
    },
    {
      "cell_type": "markdown",
      "metadata": {},
      "source": [
        "### Code to evaluate retrieval"
      ]
    },
    {
      "cell_type": "code",
      "execution_count": 148,
      "metadata": {},
      "outputs": [],
      "source": [
        "def hit_rate(relevance_total):\n",
        "    cnt = 0\n",
        "\n",
        "    for line in relevance_total:\n",
        "        if True in line:\n",
        "            cnt = cnt + 1\n",
        "\n",
        "    return cnt / len(relevance_total)"
      ]
    },
    {
      "cell_type": "code",
      "execution_count": 149,
      "metadata": {},
      "outputs": [],
      "source": [
        "def mrr(relevance_total):\n",
        "    total_score = 0.0\n",
        "\n",
        "    for line in relevance_total:\n",
        "        for rank in range(len(line)):\n",
        "            if line[rank] == True:\n",
        "                total_score = total_score + 1 / (rank + 1)\n",
        "\n",
        "    return total_score / len(relevance_total)"
      ]
    },
    {
      "cell_type": "code",
      "execution_count": 150,
      "metadata": {},
      "outputs": [],
      "source": [
        "def evaluate(ground_truth):\n",
        "    relevance_total = []\n",
        "\n",
        "    for q in tqdm(ground_truth):\n",
        "        doc_id = q['document']\n",
        "        results = query_faiss_index(first_index, q, k=5)\n",
        "        relevance = [d.metadata[\"id\"] == doc_id for d in results]\n",
        "        relevance_total.append(relevance)\n",
        "\n",
        "    return {\n",
        "        'hit_rate': hit_rate(relevance_total),\n",
        "        'mrr': mrr(relevance_total),\n",
        "    }"
      ]
    },
    {
      "cell_type": "code",
      "execution_count": 83,
      "metadata": {},
      "outputs": [
        {
          "name": "stderr",
          "output_type": "stream",
          "text": [
            "100%|██████████| 250/250 [01:57<00:00,  2.13it/s]\n"
          ]
        },
        {
          "data": {
            "text/plain": [
              "{'hit_rate': 0.288, 'mrr': 0.18553333333333333}"
            ]
          },
          "execution_count": 83,
          "metadata": {},
          "output_type": "execute_result"
        }
      ],
      "source": [
        "evaluate(ground_truth)"
      ]
    },
    {
      "cell_type": "markdown",
      "metadata": {},
      "source": [
        "## Evaluate Pinecone Retrieval"
      ]
    },
    {
      "cell_type": "code",
      "execution_count": null,
      "metadata": {},
      "outputs": [],
      "source": [
        "embeddings_model = OpenAIEmbeddings(model=\"text-embedding-ada-002\")\n",
        "\n",
        "def generate_embeddings(documents):\n",
        "    texts = [doc[\"page_content\"] for doc in documents] \n",
        "    embeddings = embeddings_model.embed_documents(texts) \n",
        "    return embeddings\n",
        "\n",
        "# Example usage\n",
        "chunked_document_embeddings = generate_embeddings(documents)"
      ]
    },
    {
      "cell_type": "code",
      "execution_count": 92,
      "metadata": {},
      "outputs": [
        {
          "name": "stdout",
          "output_type": "stream",
          "text": [
            "Generated 5406 embeddings.\n"
          ]
        }
      ],
      "source": [
        "print(f\"Generated {len(chunked_document_embeddings)} embeddings.\")"
      ]
    },
    {
      "cell_type": "code",
      "execution_count": 115,
      "metadata": {},
      "outputs": [],
      "source": [
        "def combine_vector_and_text(documents: list[dict], doc_embeddings: list[list[float]]) -> list[dict]:\n",
        "    data_with_metadata = []\n",
        "\n",
        "    for doc, embedding in zip(documents, doc_embeddings):\n",
        "        data_item = {\n",
        "            \"id\": str(doc.get(\"id\", \"unknown_id\")),\n",
        "            \"values\": embedding, \n",
        "            \"metadata\": {\"page_content\": doc.get(\"page_content\", \"\"), \"id\": str(doc.get(\"id\", \"unknown_id\"))},\n",
        "        }\n",
        "        data_with_metadata.append(data_item)\n",
        "\n",
        "    return data_with_metadata\n"
      ]
    },
    {
      "cell_type": "code",
      "execution_count": 116,
      "metadata": {},
      "outputs": [],
      "source": [
        "data = combine_vector_and_text(documents=documents, doc_embeddings=chunked_document_embeddings) "
      ]
    },
    {
      "cell_type": "code",
      "execution_count": 101,
      "metadata": {},
      "outputs": [],
      "source": [
        "pc = Pinecone(api_key=PINECONE_API_KEY)\n",
        "index = pc.create_index(\n",
        "name=\"final\",\n",
        "dimension=1536,\n",
        "metric=\"cosine\",\n",
        "spec=ServerlessSpec(\n",
        "cloud='aws',\n",
        "region='us-east-1'\n",
        ")\n",
        ")"
      ]
    },
    {
      "cell_type": "code",
      "execution_count": 102,
      "metadata": {},
      "outputs": [],
      "source": [
        "index = pc.Index(\"final\")"
      ]
    },
    {
      "cell_type": "code",
      "execution_count": 117,
      "metadata": {},
      "outputs": [],
      "source": [
        "def upsert_data_to_pinecone(data_with_metadata: list[dict[str, any]], chunk_size: int = 100) -> None:\n",
        "    \n",
        "    for i in range(0, len(data_with_metadata), chunk_size):\n",
        "        chunk = data_with_metadata[i:i + chunk_size]\n",
        "        index.upsert(vectors=chunk)\n",
        "\n",
        "\n",
        "upsert_data_to_pinecone(data_with_metadata= data)"
      ]
    },
    {
      "cell_type": "code",
      "execution_count": 118,
      "metadata": {},
      "outputs": [],
      "source": [
        "def get_query_embeddings(query: str) -> list[float]:\n",
        "    query_embeddings = EMBEDDINGS.embed_query(query)\n",
        "    return query_embeddings"
      ]
    },
    {
      "cell_type": "code",
      "execution_count": 119,
      "metadata": {},
      "outputs": [],
      "source": [
        "query_embeddings = get_query_embeddings(query=\"How do i take the history for Breathlessness?\")"
      ]
    },
    {
      "cell_type": "code",
      "execution_count": 120,
      "metadata": {},
      "outputs": [],
      "source": [
        "def query_pinecone_index(\n",
        "    query_embeddings: list, top_k: int = 4, include_metadata: bool = True\n",
        ") -> dict[str, any]:\n",
        "    query_response = index.query(\n",
        "        vector=query_embeddings, top_k=top_k, include_metadata=include_metadata\n",
        "    )\n",
        "    return query_response"
      ]
    },
    {
      "cell_type": "code",
      "execution_count": 121,
      "metadata": {},
      "outputs": [
        {
          "data": {
            "text/plain": [
              "{'matches': [{'id': '894e1647',\n",
              "              'metadata': {'id': '894e1647',\n",
              "                           'page_content': 'CHAPTER 9   THE RESPIRATORy '\n",
              "                                           'HISTORy 173\\n'\n",
              "                                           'References\\n'\n",
              "                                           '1. Schmitt BP , Kushner MS, Wiener '\n",
              "                                           'SL. The diagnostic usefulness of '\n",
              "                                           'the history \\n'\n",
              "                                           'of the patient with dyspnea. J Gen '\n",
              "                                           'Intern Med 1986; 1:386–393. '\n",
              "                                           'History alone \\n'\n",
              "                                           'was correct three out of four '\n",
              "                                           'times when deciding the cause of '\n",
              "                                           'dyspnoea \\n'\n",
              "                                           'in defined circumstances.\\n'\n",
              "                                           '2. Myers KA, Mrkobrada M, Simel '\n",
              "                                           'DL. Does this patient have '\n",
              "                                           'obstructive sleep \\n'\n",
              "                                           'apnoea?: The Rational Clinical '\n",
              "                                           'Examination systematic review. '\n",
              "                                           'JAMA 2013; \\n'\n",
              "                                           '310(7):731–741.\\n'\n",
              "                                           '3. Anonymous. Obtaining an '\n",
              "                                           'exposure history. Agency for Toxic '\n",
              "                                           'Substances \\n'\n",
              "                                           'and Disease Registry. United '\n",
              "                                           'States Department of Health and '\n",
              "                                           'Human \\n'\n",
              "                                           'Services, Public Health Service, '\n",
              "                                           'Atlanta, Georgia. Am Fam Phys '\n",
              "                                           '1993; \\n'\n",
              "                                           '48:483–491.\\n'\n",
              "                                           '4. Broekhuizen BD, Sachs AP , '\n",
              "                                           'Oostvogels R et al. The diagnostic '\n",
              "                                           'value of history \\n'\n",
              "                                           'and physical examination for COPD '\n",
              "                                           'in suspected or known cases: a \\n'\n",
              "                                           'systematic review. Fam Pract 2009; '\n",
              "                                           '26(4):260–268. Items of diagnostic '\n",
              "                                           'value \\n'\n",
              "                                           'for COPD included a history of '\n",
              "                                           'dyspnoea, wheezing and smoking. '\n",
              "                                           'Items of'},\n",
              "              'score': 0.839077055,\n",
              "              'values': []},\n",
              "             {'id': '5d1a5521',\n",
              "              'metadata': {'id': '5d1a5521',\n",
              "                           'page_content': 'CHAPTER 50   wRITINg ANd '\n",
              "                                           'PRESENTINg THE AdulT  HISTORy AN d '\n",
              "                                           'PH y SICA l E x A m INATION 883\\n'\n",
              "                                           'An example of a medical history\\n'\n",
              "                                           'Personal details\\n'\n",
              "                                           'Mr W Witheridge, age 72, retired '\n",
              "                                           'botanist.\\n'\n",
              "                                           'Presenting symptoms\\n'\n",
              "                                           '3 weeks of progressive exertional '\n",
              "                                           'dyspnoea \\n'\n",
              "                                           'with 2 days of dyspnoea at rest.\\n'\n",
              "                                           'History of present illness\\n'\n",
              "                                           'Two nights of severe orthopnoea; '\n",
              "                                           'unable to \\n'\n",
              "                                           'sleep except briefly while sitting '\n",
              "                                           'in a \\n'\n",
              "                                           'chair.\\n'\n",
              "                                           'Mild exertional shortness of '\n",
              "                                           'breath for \\n'\n",
              "                                           'nearly 10 years.\\n'\n",
              "                                           'Unable to walk 50 metres on the '\n",
              "                                           'flat.\\n'\n",
              "                                           'No associated chest tightness or '\n",
              "                                           'pain.\\n'\n",
              "                                           'No wheeze or cough.\\n'\n",
              "                                           'No fever.\\n'\n",
              "                                           'No recent change in medications.\\n'\n",
              "                                           'No asthma or known lung disease. '\n",
              "                                           'No \\n'\n",
              "                                           'other relevant positive symptoms '\n",
              "                                           'on \\n'\n",
              "                                           'systems review.\\n'\n",
              "                                           'Past cardiac history\\n'\n",
              "                                           'Previous myocardial infarction 5 '\n",
              "                                           'years \\n'\n",
              "                                           'ago, treated with thrombolytic '\n",
              "                                           'drugs. No \\n'\n",
              "                                           'known valvular heart disease or '\n",
              "                                           'history of \\n'\n",
              "                                           'rheumatic fever. Smoked 25 '\n",
              "                                           'cigarettes a \\n'\n",
              "                                           'day until the time of his '\n",
              "                                           'infarct—30 \\n'\n",
              "                                           'packet-years.\\n'\n",
              "                                           'Risk factors for heart disease'},\n",
              "              'score': 0.836948156,\n",
              "              'values': []},\n",
              "             {'id': '667d1300',\n",
              "              'metadata': {'id': '667d1300',\n",
              "                           'page_content': 'during the interview (see Text box '\n",
              "                                           '2.1).\\n'\n",
              "                                           'The patient may be reluctant or '\n",
              "                                           'initially unable to \\n'\n",
              "                                           'discuss sensitive problems with a '\n",
              "                                           'stranger. Here, gaining \\n'\n",
              "                                           'the patient’s confidence is '\n",
              "                                           'critical. Although this type \\n'\n",
              "                                           'of history taking can be '\n",
              "                                           'difficult, it can also be the \\n'\n",
              "                                           'considered and acted upon even '\n",
              "                                           'though they are \\n'\n",
              "                                           'not the most likely diagnosis for '\n",
              "                                           'this patient. For \\n'\n",
              "                                           'example, the sudden occurrence of '\n",
              "                                           'breathlessness \\n'\n",
              "                                           'in an asthmatic who has had '\n",
              "                                           'surgery this week is \\n'\n",
              "                                           'more likely to be due to a '\n",
              "                                           'worsening of asthma \\n'\n",
              "                                           'than to a pulmonary embolism, but '\n",
              "                                           'an embolism \\n'\n",
              "                                           'must be considered because of its '\n",
              "                                           'urgent'},\n",
              "              'score': 0.83351624,\n",
              "              'values': []},\n",
              "             {'id': 'd37d3366',\n",
              "              'metadata': {'id': 'd37d3366',\n",
              "                           'page_content': 'CHAPTER 4  THE CARdIOvASC ul AR  '\n",
              "                                           'HISTORy 71\\n'\n",
              "                                           'T&O’C ESSENTIA lS\\n'\n",
              "                                           '1. Breathlessness can be a result '\n",
              "                                           'of cardiac, \\n'\n",
              "                                           'respiratory or other problems. A '\n",
              "                                           'careful history \\n'\n",
              "                                           'will often help sort this out. '\n",
              "                                           'Cardiac dyspnoea (i.e. \\n'\n",
              "                                           'breathlessness due to cardiac '\n",
              "                                           'failure) is worse on \\n'\n",
              "                                           'exertion or when the patient lies '\n",
              "                                           'flat \\n'\n",
              "                                           '(orthopnoea).\\n'\n",
              "                                           '2. Chest pain can be the result of '\n",
              "                                           'non-cardiac \\n'\n",
              "                                           'problems but the history often '\n",
              "                                           'contains vital clues \\n'\n",
              "                                           'that help sort out the diagnosis.\\n'\n",
              "                                           '3. Ischaemic heart disease should '\n",
              "                                           'be suspected from \\n'\n",
              "                                           'the history. When angina is '\n",
              "                                           'stable, the pain or \\n'\n",
              "                                           'discomfort occurs with a '\n",
              "                                           'predictable amount of \\n'\n",
              "                                           'exertion and is relieved by rest. '\n",
              "                                           'A recent increase \\n'\n",
              "                                           'in the frequency or the occurrence '\n",
              "                                           'of pain at rest \\n'\n",
              "                                           'suggests worsening angina.\\n'\n",
              "                                           '4. Dizziness and syncope can have '\n",
              "                                           'cardiac and \\n'\n",
              "                                           'non-cardiac causes. Proper history '\n",
              "                                           'taking will \\n'\n",
              "                                           'give the correct diagnosis in many '\n",
              "                                           'cases and \\n'\n",
              "                                           'indicate the best investigations '\n",
              "                                           'in others.\\n'\n",
              "                                           '5. Assessment of cardiac risk '\n",
              "                                           'factors takes little time'},\n",
              "              'score': 0.83221,\n",
              "              'values': []}],\n",
              " 'namespace': '',\n",
              " 'usage': {'read_units': 6}}"
            ]
          },
          "execution_count": 121,
          "metadata": {},
          "output_type": "execute_result"
        }
      ],
      "source": [
        "# Call the function\n",
        "answers = query_pinecone_index(query_embeddings=query_embeddings)\n",
        "\n",
        "answers"
      ]
    },
    {
      "cell_type": "code",
      "execution_count": null,
      "metadata": {},
      "outputs": [],
      "source": [
        "from tqdm import tqdm\n",
        "\n",
        "def evaluate_pinecone(ground_truth):\n",
        "    relevance_total = []\n",
        "\n",
        "    for q in tqdm(ground_truth):\n",
        "        doc_id = q['document']  \n",
        "        query_text = q['case_prompt']\n",
        "        embeddings = get_query_embeddings(query_text) \n",
        "        results = query_pinecone_index(embeddings, top_k=5)\n",
        "        \n",
        "        relevance = [match[\"metadata\"][\"id\"] == doc_id for match in results[\"matches\"]]\n",
        "        relevance_total.append(relevance)\n",
        "\n",
        "    return {\n",
        "        'hit_rate': hit_rate(relevance_total),\n",
        "        'mrr': mrr(relevance_total),\n",
        "    }"
      ]
    },
    {
      "cell_type": "code",
      "execution_count": 154,
      "metadata": {},
      "outputs": [
        {
          "name": "stderr",
          "output_type": "stream",
          "text": [
            "100%|██████████| 250/250 [03:58<00:00,  1.05it/s]\n"
          ]
        },
        {
          "data": {
            "text/plain": [
              "{'hit_rate': 0.056, 'mrr': 0.0246}"
            ]
          },
          "execution_count": 154,
          "metadata": {},
          "output_type": "execute_result"
        }
      ],
      "source": [
        "evaluate_pinecone(ground_truth)"
      ]
    }
  ],
  "metadata": {
    "kernelspec": {
      "display_name": "MedMentor-4DQmH_3Z",
      "language": "python",
      "name": "python3"
    },
    "language_info": {
      "codemirror_mode": {
        "name": "ipython",
        "version": 3
      },
      "file_extension": ".py",
      "mimetype": "text/x-python",
      "name": "python",
      "nbconvert_exporter": "python",
      "pygments_lexer": "ipython3",
      "version": "3.12.3"
    }
  },
  "nbformat": 4,
  "nbformat_minor": 2
}
