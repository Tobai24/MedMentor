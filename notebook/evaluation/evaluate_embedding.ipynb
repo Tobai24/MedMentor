{
 "cells": [
  {
   "cell_type": "code",
   "execution_count": null,
   "metadata": {},
   "outputs": [
    {
     "data": {
      "text/plain": [
       "True"
      ]
     },
     "execution_count": 84,
     "metadata": {},
     "output_type": "execute_result"
    }
   ],
   "source": [
    "import os\n",
    "import json\n",
    "import pandas as pd\n",
    "from tqdm.auto import tqdm\n",
    "from langchain_core.documents import Document\n",
    "from pinecone import ServerlessSpec\n",
    "from pinecone import Pinecone\n",
    "from dotenv import load_dotenv\n",
    "from langchain.vectorstores import FAISS\n",
    "from langchain_openai import OpenAIEmbeddings, OpenAI\n",
    "\n",
    "load_dotenv()"
   ]
  },
  {
   "cell_type": "code",
   "execution_count": 15,
   "metadata": {},
   "outputs": [],
   "source": [
    "OPENAI_API_KEY = os.environ.get(\"OPENAI_API_KEY\")\n",
    "EMBEDDINGS = OpenAIEmbeddings(api_key=os.environ[\"OPENAI_API_KEY\"])\n",
    "PINECONE_API_KEY = os.getenv(\"PINECONE_API_KEY\")"
   ]
  },
  {
   "cell_type": "markdown",
   "metadata": {},
   "source": [
    "## Load the document with id"
   ]
  },
  {
   "cell_type": "code",
   "execution_count": 3,
   "metadata": {},
   "outputs": [],
   "source": [
    "with open('documents_with_ids.json', 'rt') as f_in:\n",
    "    documents = json.load(f_in)"
   ]
  },
  {
   "cell_type": "code",
   "execution_count": 68,
   "metadata": {},
   "outputs": [],
   "source": [
    "def create_chunk_embedding(documents):\n",
    "    \n",
    "    processed_docs = [\n",
    "        Document(page_content=doc[\"page_content\"], metadata={\"id\": doc[\"id\"]})\n",
    "        for doc in documents\n",
    "    ]\n",
    "    \n",
    "    embeddings = OpenAIEmbeddings(model=\"text-embedding-ada-002\")\n",
    "    faiss_index = FAISS.from_documents(processed_docs, embeddings)\n",
    "\n",
    "    index_path = f\"../embeddings/faiss_index\"\n",
    "    faiss_index.save_local(index_path)\n",
    "    \n",
    "    return index_path"
   ]
  },
  {
   "cell_type": "code",
   "execution_count": 69,
   "metadata": {},
   "outputs": [],
   "source": [
    "index_path_one = create_chunk_embedding(documents)"
   ]
  },
  {
   "cell_type": "markdown",
   "metadata": {},
   "source": [
    "### Evaluate FAISS retreival"
   ]
  },
  {
   "cell_type": "code",
   "execution_count": 70,
   "metadata": {},
   "outputs": [],
   "source": [
    "def load_faiss_index(index_path):\n",
    "    embeddings = OpenAIEmbeddings(model=\"text-embedding-ada-002\")\n",
    "    faiss_index = FAISS.load_local(\n",
    "        index_path,\n",
    "        embeddings,\n",
    "        allow_dangerous_deserialization=True\n",
    "    )\n",
    "    return faiss_index"
   ]
  },
  {
   "cell_type": "code",
   "execution_count": 71,
   "metadata": {},
   "outputs": [],
   "source": [
    "def query_faiss_index(faiss_index, query, k=5):\n",
    "    results = faiss_index.similarity_search(query, k=k)\n",
    "    return results"
   ]
  },
  {
   "cell_type": "code",
   "execution_count": 72,
   "metadata": {},
   "outputs": [],
   "source": [
    "def query_faiss_index(faiss_index, query, k=5):\n",
    "    query_text = query[\"question\"]\n",
    "    results = faiss_index.similarity_search(query_text, k=k)\n",
    "    return results"
   ]
  },
  {
   "cell_type": "code",
   "execution_count": 73,
   "metadata": {},
   "outputs": [],
   "source": [
    "first_index = load_faiss_index(\"../embeddings/faiss_index\")"
   ]
  },
  {
   "cell_type": "code",
   "execution_count": 74,
   "metadata": {},
   "outputs": [],
   "source": [
    "df_ground_truth = pd.read_csv('questions.csv')"
   ]
  },
  {
   "cell_type": "code",
   "execution_count": 75,
   "metadata": {},
   "outputs": [],
   "source": [
    "ground_truth = df_ground_truth.to_dict(orient='records')"
   ]
  },
  {
   "cell_type": "code",
   "execution_count": 76,
   "metadata": {},
   "outputs": [
    {
     "data": {
      "text/plain": [
       "{'question': 'What are the possible causes and examination findings for a patient with bradycardia?',\n",
       " 'case_prompt': 'A 71-year-old man presents to the clinic with complaints of dizziness and fatigue for the past week. He reports that these symptoms have worsened over the last few days, and he denies any chest pain or palpitations.',\n",
       " 'document': '3d02524a'}"
      ]
     },
     "execution_count": 76,
     "metadata": {},
     "output_type": "execute_result"
    }
   ],
   "source": [
    "ground_truth[0]"
   ]
  },
  {
   "cell_type": "markdown",
   "metadata": {},
   "source": [
    "### Code to evaluate retrieval"
   ]
  },
  {
   "cell_type": "code",
   "execution_count": 148,
   "metadata": {},
   "outputs": [],
   "source": [
    "def hit_rate(relevance_total):\n",
    "    cnt = 0\n",
    "\n",
    "    for line in relevance_total:\n",
    "        if True in line:\n",
    "            cnt = cnt + 1\n",
    "\n",
    "    return cnt / len(relevance_total)"
   ]
  },
  {
   "cell_type": "code",
   "execution_count": 149,
   "metadata": {},
   "outputs": [],
   "source": [
    "def mrr(relevance_total):\n",
    "    total_score = 0.0\n",
    "\n",
    "    for line in relevance_total:\n",
    "        for rank in range(len(line)):\n",
    "            if line[rank] == True:\n",
    "                total_score = total_score + 1 / (rank + 1)\n",
    "\n",
    "    return total_score / len(relevance_total)"
   ]
  },
  {
   "cell_type": "code",
   "execution_count": 150,
   "metadata": {},
   "outputs": [],
   "source": [
    "def evaluate(ground_truth):\n",
    "    relevance_total = []\n",
    "\n",
    "    for q in tqdm(ground_truth):\n",
    "        doc_id = q['document']\n",
    "        results = query_faiss_index(first_index, q, k=5)\n",
    "        relevance = [d.metadata[\"id\"] == doc_id for d in results]\n",
    "        relevance_total.append(relevance)\n",
    "\n",
    "    return {\n",
    "        'hit_rate': hit_rate(relevance_total),\n",
    "        'mrr': mrr(relevance_total),\n",
    "    }"
   ]
  },
  {
   "cell_type": "code",
   "execution_count": 79,
   "metadata": {},
   "outputs": [
    {
     "data": {
      "text/plain": [
       "{'question': 'What are the possible causes and examination findings for a patient with bradycardia?',\n",
       " 'case_prompt': 'A 71-year-old man presents to the clinic with complaints of dizziness and fatigue for the past week. He reports that these symptoms have worsened over the last few days, and he denies any chest pain or palpitations.',\n",
       " 'document': '3d02524a'}"
      ]
     },
     "execution_count": 79,
     "metadata": {},
     "output_type": "execute_result"
    }
   ],
   "source": [
    "ground_truth[0]"
   ]
  },
  {
   "cell_type": "code",
   "execution_count": 80,
   "metadata": {},
   "outputs": [
    {
     "name": "stderr",
     "output_type": "stream",
     "text": [
      "100%|██████████| 2/2 [00:02<00:00,  1.02s/it]\n"
     ]
    }
   ],
   "source": [
    " for q in tqdm(ground_truth[1:3]):\n",
    "        doc_id = q['document']\n",
    "        results = query_faiss_index(first_index, q, k=5)"
   ]
  },
  {
   "cell_type": "code",
   "execution_count": 81,
   "metadata": {},
   "outputs": [
    {
     "data": {
      "text/plain": [
       "[Document(id='4f1aa444-e43c-43b1-90a2-a52b2f83ded0', metadata={'id': '4fe00c1d'}, page_content='volume, due to a reduced cardiac output; atrial \\nfibrillation may be present because of left atrial \\nenlargement.\\n• JVP: normal; prominent a wave if pulmonary \\nhypertension is present; loss of the a wave if the \\npatient is in atrial fibrillation.\\n• Palpation: tapping quality of the apex beat \\n(palpable S1); right ventricular heave (parasternal \\nimpulse) and palpable P2 if pulmonary \\nhypertension is present; diastolic thrill rarely (lay \\npatient on the left side).\\n• Auscultation (see Fig. 7.6): loud S1 (valve cusps \\nwidely apart at the onset of systole)—this also \\nindicates that the valve cusps remain mobile; \\nloud or perhaps rather palpable P2 if pulmonary \\nhypertension is present; opening snap (high left \\natrial pressure forces the valve cusps apart, but \\nthe valve cone is halted abruptly); low-pitched \\nrumbling diastolic murmur (best heard with the \\nbell of the stethoscope with the patient in the left \\nlateral position, and quite different in quality and'),\n",
       " Document(id='a7b72fce-68a0-4bb0-adf8-be1361f832d4', metadata={'id': '2c5e60a4'}, page_content='2. Is it beating fast? A bit faster than normal, \\nor faster than it has ever gone before? \\n(Supraventricular tachycardia)\\n3. Does it seem to be steady or is it missing \\nand jumping? (Ectopic beats or, if fast, \\natrial fibrillation)\\n4. Have you or your parents ever counted \\nhow fast it is?\\n5. Does it start very suddenly? \\n(Supraventricular tachycardia, which \\noften begins in teenagers)\\n6. Do you feel dizzy or faint when it \\nhappens?\\n7. Have you had any other problems with \\nyour heart? (Congenital heart disease is \\nassociated with atrial and ventricular \\narrhythmias)\\n8. Is there a history of sudden death in your \\nfamily? (Inherited channelopathies, e.g. \\nlong QT interval syndrome)\\nQUESTIONS BOX 37.4 \\ninfant, auscultation may be done first. Percussion and \\nparticularly inspection of the oral cavity may upset a \\nyoung child, so these are best left until last.\\nLook at the child carefully to pick up unusual \\nposturing or body habitus (see List 37.2).\\nInspect the chest for:'),\n",
       " Document(id='d264d8d5-5629-4854-950a-05d5b0bd213b', metadata={'id': 'a993c04c'}, page_content='5. Fanaroff AC, Rymer JA, Goldstein SA et al. Does this patient with chest pain \\nhave acute coronary syndrome?: The rational clinical examination \\nsystematic review. JAMA 2015; 314(18):1955–1965.\\n6. Poole-Wilson P . The origin of symptoms in patients with chronic heart \\nfailure. Eur Heart J 1998; 9 (supplement H):49–53. This article discusses the \\nlack of correlation between symptoms of heart failure and haemodynamic \\nmeasurements.\\n7. McGee S. Evidence-based physical diagnosis, 3rd edn. St Louis: Saunders, \\n2012.\\n8. Wang CS, FitzGerald JS, Schulzer M et al. Does this dyspneic patient in the \\nemergency department have congestive heart failure? JAMA 2005; \\n294(15):1944–1956.\\n9. Makani H, Bangalore S, Romero J et al. Peripheral oedema associated with \\ncalcium channel blockers; incidence and withdrawal rate a meta-analysis \\nof randomised trials. J Hypertens 2011; 29(7)1270–1280.\\n10. Brugada P , Gurso y S, Brugada J, Ardries E. Investigation of palpitations.'),\n",
       " Document(id='804b65f8-29f0-424f-91f6-ad6e90993933', metadata={'id': '2c59966b'}, page_content='rapid relief once the patient rests or slows down. The \\n THE CARDIOVASCULAR HISTORY: PRESENTING SYMPTOMS\\nMajor symptoms\\nChest pain or heaviness\\nDyspnoea: exertional (note degree of exercise \\nnecessary), orthopnoea, paroxysmal nocturnal \\ndyspnoea\\nAnkle swelling\\nPalpitations\\nSyncope\\nIntermittent claudication\\nFatigue\\nPast history\\nHistory of ischaemic heart disease: myocardial \\ninfarction, coronary artery bypass grafting \\n(CABG), coronary angioplasty, rheumatic fever, \\nchorea, sexually transmitted disease, recent dental \\nwork, thyroid disease\\nPrior medical examination revealing heart disease \\n(e.g. military, school, insurance)\\nDrugs\\nSocial history\\nTobacco and alcohol use\\nOccupation\\nFamily history\\nMyocardial infarcts, cardiomyopathy, congenital \\nheart disease, mitral valve prolapse, Marfan’s \\nsyndrome\\nCoronary artery disease risk factors\\nPrevious coronary disease\\nSmoking\\nHypertension\\nHyperlipidaemia\\nFamily history of coronary artery disease (first-\\ndegree relatives)\\nDiabetes mellitus'),\n",
       " Document(id='4adaf3b6-d925-4115-971a-75448b27cdc5', metadata={'id': '83c4753f'}, page_content='carotid disease because of the risk of precipitating a stroke.\\nis more gradual. A completely irregular rhythm is \\nsuggestive of atrial fibrillation (see the ECG Library at  \\n), particularly if it is rapid.\\nIt may be helpful to ask the patient to tap the \\nrate and rhythm of the palpitations with his or her \\nfinger. Associated features including pain, dyspnoea  \\nor faintness must be enquired about. The awareness \\nof rapid palpitations followed by syncope suggests \\nventricular tachycardia (see the ECG Library at \\n). These patients usually have a past \\nhistory of significant heart disease. Any rapid rhythm \\nmay precipitate angina in a patient with ischaemic heart \\ndisease.\\nPatients may have learned manoeuvres that  \\nwill return the rhythm to normal. Attacks of \\nsupraventricular tachycardia (SVT) (see the ECG Library \\nat ) may be suddenly terminated \\nby increasing vagal tone with the Valsalva manoeuvre \\n(p 91), by carotid massage, coughing or swallowing \\ncold water or ice cubes.c')]"
      ]
     },
     "execution_count": 81,
     "metadata": {},
     "output_type": "execute_result"
    }
   ],
   "source": [
    "results"
   ]
  },
  {
   "cell_type": "code",
   "execution_count": 83,
   "metadata": {},
   "outputs": [
    {
     "name": "stderr",
     "output_type": "stream",
     "text": [
      "100%|██████████| 250/250 [01:57<00:00,  2.13it/s]\n"
     ]
    },
    {
     "data": {
      "text/plain": [
       "{'hit_rate': 0.288, 'mrr': 0.18553333333333333}"
      ]
     },
     "execution_count": 83,
     "metadata": {},
     "output_type": "execute_result"
    }
   ],
   "source": [
    "evaluate(ground_truth)"
   ]
  },
  {
   "cell_type": "markdown",
   "metadata": {},
   "source": [
    "## Evaluate Pincone Retreival"
   ]
  },
  {
   "cell_type": "code",
   "execution_count": null,
   "metadata": {},
   "outputs": [
    {
     "name": "stderr",
     "output_type": "stream",
     "text": [
      "/tmp/ipykernel_49014/2081825683.py:3: LangChainDeprecationWarning: The class `OpenAIEmbeddings` was deprecated in LangChain 0.0.9 and will be removed in 1.0. An updated version of the class exists in the :class:`~langchain-openai package and should be used instead. To use it run `pip install -U :class:`~langchain-openai` and import as `from :class:`~langchain_openai import OpenAIEmbeddings``.\n",
      "  embeddings_model = OpenAIEmbeddings(model=\"text-embedding-ada-002\")\n"
     ]
    },
    {
     "name": "stdout",
     "output_type": "stream",
     "text": [
      "Generated 5406 embeddings.\n",
      "First embedding vector size: 1536\n"
     ]
    }
   ],
   "source": [
    "embeddings_model = OpenAIEmbeddings(model=\"text-embedding-ada-002\")\n",
    "\n",
    "def generate_embeddings(documents):\n",
    "    texts = [doc[\"page_content\"] for doc in documents] \n",
    "    embeddings = embeddings_model.embed_documents(texts) \n",
    "    return embeddings\n",
    "\n",
    "# Example usage\n",
    "chunked_document_embeddings = generate_embeddings(documents)"
   ]
  },
  {
   "cell_type": "code",
   "execution_count": 92,
   "metadata": {},
   "outputs": [
    {
     "name": "stdout",
     "output_type": "stream",
     "text": [
      "Generated 5406 embeddings.\n"
     ]
    }
   ],
   "source": [
    "print(f\"Generated {len(chunked_document_embeddings)} embeddings.\")"
   ]
  },
  {
   "cell_type": "code",
   "execution_count": 111,
   "metadata": {},
   "outputs": [],
   "source": [
    "def combine_vector_and_text(documents: list[dict], doc_embeddings: list[list[float]]) -> list[dict]:\n",
    "    data_with_metadata = []\n",
    "\n",
    "    for doc, embedding in zip(documents, doc_embeddings):\n",
    "        if not isinstance(doc, str):\n",
    "            doc_text = str(doc)\n",
    "            \n",
    "        data_item = {\n",
    "            \"id\": str(doc.get(\"id\", \"unknown_id\")), \n",
    "            \"values\": embedding, \n",
    "            \"metadata\": {\"text\": doc}\n",
    "        }\n",
    "        data_with_metadata.append(data_item)\n",
    "\n",
    "    return data_with_metadata\n"
   ]
  },
  {
   "cell_type": "code",
   "execution_count": 115,
   "metadata": {},
   "outputs": [],
   "source": [
    "def combine_vector_and_text(documents: list[dict], doc_embeddings: list[list[float]]) -> list[dict]:\n",
    "    data_with_metadata = []\n",
    "\n",
    "    for doc, embedding in zip(documents, doc_embeddings):\n",
    "        data_item = {\n",
    "            \"id\": str(doc.get(\"id\", \"unknown_id\")),\n",
    "            \"values\": embedding, \n",
    "            \"metadata\": {\"page_content\": doc.get(\"page_content\", \"\"), \"id\": str(doc.get(\"id\", \"unknown_id\"))},\n",
    "        }\n",
    "        data_with_metadata.append(data_item)\n",
    "\n",
    "    return data_with_metadata\n"
   ]
  },
  {
   "cell_type": "code",
   "execution_count": 116,
   "metadata": {},
   "outputs": [],
   "source": [
    "data = combine_vector_and_text(documents=documents, doc_embeddings=chunked_document_embeddings) "
   ]
  },
  {
   "cell_type": "code",
   "execution_count": 101,
   "metadata": {},
   "outputs": [],
   "source": [
    "pc = Pinecone(api_key=PINECONE_API_KEY)\n",
    "index = pc.create_index(\n",
    "name=\"final\",\n",
    "dimension=1536,\n",
    "metric=\"cosine\",\n",
    "spec=ServerlessSpec(\n",
    "cloud='aws',\n",
    "region='us-east-1'\n",
    ")\n",
    ")"
   ]
  },
  {
   "cell_type": "code",
   "execution_count": 102,
   "metadata": {},
   "outputs": [],
   "source": [
    "index = pc.Index(\"final\")"
   ]
  },
  {
   "cell_type": "code",
   "execution_count": 117,
   "metadata": {},
   "outputs": [],
   "source": [
    "def upsert_data_to_pinecone(data_with_metadata: list[dict[str, any]], chunk_size: int = 100) -> None:\n",
    "    \n",
    "    for i in range(0, len(data_with_metadata), chunk_size):\n",
    "        chunk = data_with_metadata[i:i + chunk_size]\n",
    "        index.upsert(vectors=chunk)\n",
    "\n",
    "\n",
    "upsert_data_to_pinecone(data_with_metadata= data)"
   ]
  },
  {
   "cell_type": "code",
   "execution_count": 118,
   "metadata": {},
   "outputs": [],
   "source": [
    "def get_query_embeddings(query: str) -> list[float]:\n",
    "    query_embeddings = EMBEDDINGS.embed_query(query)\n",
    "    return query_embeddings"
   ]
  },
  {
   "cell_type": "code",
   "execution_count": 119,
   "metadata": {},
   "outputs": [],
   "source": [
    "query_embeddings = get_query_embeddings(query=\"How do i take the history for Breathlessness?\")"
   ]
  },
  {
   "cell_type": "code",
   "execution_count": 120,
   "metadata": {},
   "outputs": [],
   "source": [
    "def query_pinecone_index(\n",
    "    query_embeddings: list, top_k: int = 4, include_metadata: bool = True\n",
    ") -> dict[str, any]:\n",
    "    query_response = index.query(\n",
    "        vector=query_embeddings, top_k=top_k, include_metadata=include_metadata\n",
    "    )\n",
    "    return query_response"
   ]
  },
  {
   "cell_type": "code",
   "execution_count": 121,
   "metadata": {},
   "outputs": [
    {
     "data": {
      "text/plain": [
       "{'matches': [{'id': '894e1647',\n",
       "              'metadata': {'id': '894e1647',\n",
       "                           'page_content': 'CHAPTER 9   THE RESPIRATORy '\n",
       "                                           'HISTORy 173\\n'\n",
       "                                           'References\\n'\n",
       "                                           '1. Schmitt BP , Kushner MS, Wiener '\n",
       "                                           'SL. The diagnostic usefulness of '\n",
       "                                           'the history \\n'\n",
       "                                           'of the patient with dyspnea. J Gen '\n",
       "                                           'Intern Med 1986; 1:386–393. '\n",
       "                                           'History alone \\n'\n",
       "                                           'was correct three out of four '\n",
       "                                           'times when deciding the cause of '\n",
       "                                           'dyspnoea \\n'\n",
       "                                           'in defined circumstances.\\n'\n",
       "                                           '2. Myers KA, Mrkobrada M, Simel '\n",
       "                                           'DL. Does this patient have '\n",
       "                                           'obstructive sleep \\n'\n",
       "                                           'apnoea?: The Rational Clinical '\n",
       "                                           'Examination systematic review. '\n",
       "                                           'JAMA 2013; \\n'\n",
       "                                           '310(7):731–741.\\n'\n",
       "                                           '3. Anonymous. Obtaining an '\n",
       "                                           'exposure history. Agency for Toxic '\n",
       "                                           'Substances \\n'\n",
       "                                           'and Disease Registry. United '\n",
       "                                           'States Department of Health and '\n",
       "                                           'Human \\n'\n",
       "                                           'Services, Public Health Service, '\n",
       "                                           'Atlanta, Georgia. Am Fam Phys '\n",
       "                                           '1993; \\n'\n",
       "                                           '48:483–491.\\n'\n",
       "                                           '4. Broekhuizen BD, Sachs AP , '\n",
       "                                           'Oostvogels R et al. The diagnostic '\n",
       "                                           'value of history \\n'\n",
       "                                           'and physical examination for COPD '\n",
       "                                           'in suspected or known cases: a \\n'\n",
       "                                           'systematic review. Fam Pract 2009; '\n",
       "                                           '26(4):260–268. Items of diagnostic '\n",
       "                                           'value \\n'\n",
       "                                           'for COPD included a history of '\n",
       "                                           'dyspnoea, wheezing and smoking. '\n",
       "                                           'Items of'},\n",
       "              'score': 0.839077055,\n",
       "              'values': []},\n",
       "             {'id': '5d1a5521',\n",
       "              'metadata': {'id': '5d1a5521',\n",
       "                           'page_content': 'CHAPTER 50   wRITINg ANd '\n",
       "                                           'PRESENTINg THE AdulT  HISTORy AN d '\n",
       "                                           'PH y SICA l E x A m INATION 883\\n'\n",
       "                                           'An example of a medical history\\n'\n",
       "                                           'Personal details\\n'\n",
       "                                           'Mr W Witheridge, age 72, retired '\n",
       "                                           'botanist.\\n'\n",
       "                                           'Presenting symptoms\\n'\n",
       "                                           '3 weeks of progressive exertional '\n",
       "                                           'dyspnoea \\n'\n",
       "                                           'with 2 days of dyspnoea at rest.\\n'\n",
       "                                           'History of present illness\\n'\n",
       "                                           'Two nights of severe orthopnoea; '\n",
       "                                           'unable to \\n'\n",
       "                                           'sleep except briefly while sitting '\n",
       "                                           'in a \\n'\n",
       "                                           'chair.\\n'\n",
       "                                           'Mild exertional shortness of '\n",
       "                                           'breath for \\n'\n",
       "                                           'nearly 10 years.\\n'\n",
       "                                           'Unable to walk 50 metres on the '\n",
       "                                           'flat.\\n'\n",
       "                                           'No associated chest tightness or '\n",
       "                                           'pain.\\n'\n",
       "                                           'No wheeze or cough.\\n'\n",
       "                                           'No fever.\\n'\n",
       "                                           'No recent change in medications.\\n'\n",
       "                                           'No asthma or known lung disease. '\n",
       "                                           'No \\n'\n",
       "                                           'other relevant positive symptoms '\n",
       "                                           'on \\n'\n",
       "                                           'systems review.\\n'\n",
       "                                           'Past cardiac history\\n'\n",
       "                                           'Previous myocardial infarction 5 '\n",
       "                                           'years \\n'\n",
       "                                           'ago, treated with thrombolytic '\n",
       "                                           'drugs. No \\n'\n",
       "                                           'known valvular heart disease or '\n",
       "                                           'history of \\n'\n",
       "                                           'rheumatic fever. Smoked 25 '\n",
       "                                           'cigarettes a \\n'\n",
       "                                           'day until the time of his '\n",
       "                                           'infarct—30 \\n'\n",
       "                                           'packet-years.\\n'\n",
       "                                           'Risk factors for heart disease'},\n",
       "              'score': 0.836948156,\n",
       "              'values': []},\n",
       "             {'id': '667d1300',\n",
       "              'metadata': {'id': '667d1300',\n",
       "                           'page_content': 'during the interview (see Text box '\n",
       "                                           '2.1).\\n'\n",
       "                                           'The patient may be reluctant or '\n",
       "                                           'initially unable to \\n'\n",
       "                                           'discuss sensitive problems with a '\n",
       "                                           'stranger. Here, gaining \\n'\n",
       "                                           'the patient’s confidence is '\n",
       "                                           'critical. Although this type \\n'\n",
       "                                           'of history taking can be '\n",
       "                                           'difficult, it can also be the \\n'\n",
       "                                           'considered and acted upon even '\n",
       "                                           'though they are \\n'\n",
       "                                           'not the most likely diagnosis for '\n",
       "                                           'this patient. For \\n'\n",
       "                                           'example, the sudden occurrence of '\n",
       "                                           'breathlessness \\n'\n",
       "                                           'in an asthmatic who has had '\n",
       "                                           'surgery this week is \\n'\n",
       "                                           'more likely to be due to a '\n",
       "                                           'worsening of asthma \\n'\n",
       "                                           'than to a pulmonary embolism, but '\n",
       "                                           'an embolism \\n'\n",
       "                                           'must be considered because of its '\n",
       "                                           'urgent'},\n",
       "              'score': 0.83351624,\n",
       "              'values': []},\n",
       "             {'id': 'd37d3366',\n",
       "              'metadata': {'id': 'd37d3366',\n",
       "                           'page_content': 'CHAPTER 4  THE CARdIOvASC ul AR  '\n",
       "                                           'HISTORy 71\\n'\n",
       "                                           'T&O’C ESSENTIA lS\\n'\n",
       "                                           '1. Breathlessness can be a result '\n",
       "                                           'of cardiac, \\n'\n",
       "                                           'respiratory or other problems. A '\n",
       "                                           'careful history \\n'\n",
       "                                           'will often help sort this out. '\n",
       "                                           'Cardiac dyspnoea (i.e. \\n'\n",
       "                                           'breathlessness due to cardiac '\n",
       "                                           'failure) is worse on \\n'\n",
       "                                           'exertion or when the patient lies '\n",
       "                                           'flat \\n'\n",
       "                                           '(orthopnoea).\\n'\n",
       "                                           '2. Chest pain can be the result of '\n",
       "                                           'non-cardiac \\n'\n",
       "                                           'problems but the history often '\n",
       "                                           'contains vital clues \\n'\n",
       "                                           'that help sort out the diagnosis.\\n'\n",
       "                                           '3. Ischaemic heart disease should '\n",
       "                                           'be suspected from \\n'\n",
       "                                           'the history. When angina is '\n",
       "                                           'stable, the pain or \\n'\n",
       "                                           'discomfort occurs with a '\n",
       "                                           'predictable amount of \\n'\n",
       "                                           'exertion and is relieved by rest. '\n",
       "                                           'A recent increase \\n'\n",
       "                                           'in the frequency or the occurrence '\n",
       "                                           'of pain at rest \\n'\n",
       "                                           'suggests worsening angina.\\n'\n",
       "                                           '4. Dizziness and syncope can have '\n",
       "                                           'cardiac and \\n'\n",
       "                                           'non-cardiac causes. Proper history '\n",
       "                                           'taking will \\n'\n",
       "                                           'give the correct diagnosis in many '\n",
       "                                           'cases and \\n'\n",
       "                                           'indicate the best investigations '\n",
       "                                           'in others.\\n'\n",
       "                                           '5. Assessment of cardiac risk '\n",
       "                                           'factors takes little time'},\n",
       "              'score': 0.83221,\n",
       "              'values': []}],\n",
       " 'namespace': '',\n",
       " 'usage': {'read_units': 6}}"
      ]
     },
     "execution_count": 121,
     "metadata": {},
     "output_type": "execute_result"
    }
   ],
   "source": [
    "# Call the function\n",
    "answers = query_pinecone_index(query_embeddings=query_embeddings)\n",
    "\n",
    "answers"
   ]
  },
  {
   "cell_type": "code",
   "execution_count": null,
   "metadata": {},
   "outputs": [],
   "source": [
    "from tqdm import tqdm\n",
    "\n",
    "def evaluate_pinecone(ground_truth):\n",
    "    relevance_total = []\n",
    "\n",
    "    for q in tqdm(ground_truth):\n",
    "        doc_id = q['document']  \n",
    "        query_text = q['case_prompt']\n",
    "        embeddings = get_query_embeddings(query_text) \n",
    "        results = query_pinecone_index(embeddings, top_k=5)\n",
    "        \n",
    "        relevance = [match[\"metadata\"][\"id\"] == doc_id for match in results[\"matches\"]]\n",
    "        relevance_total.append(relevance)\n",
    "\n",
    "    return {\n",
    "        'hit_rate': hit_rate(relevance_total),\n",
    "        'mrr': mrr(relevance_total),\n",
    "    }"
   ]
  },
  {
   "cell_type": "code",
   "execution_count": 154,
   "metadata": {},
   "outputs": [
    {
     "name": "stderr",
     "output_type": "stream",
     "text": [
      "100%|██████████| 250/250 [03:58<00:00,  1.05it/s]\n"
     ]
    },
    {
     "data": {
      "text/plain": [
       "{'hit_rate': 0.056, 'mrr': 0.0246}"
      ]
     },
     "execution_count": 154,
     "metadata": {},
     "output_type": "execute_result"
    }
   ],
   "source": [
    "evaluate_pinecone(ground_truth)"
   ]
  }
 ],
 "metadata": {
  "kernelspec": {
   "display_name": "MedMentor-4DQmH_3Z",
   "language": "python",
   "name": "python3"
  },
  "language_info": {
   "codemirror_mode": {
    "name": "ipython",
    "version": 3
   },
   "file_extension": ".py",
   "mimetype": "text/x-python",
   "name": "python",
   "nbconvert_exporter": "python",
   "pygments_lexer": "ipython3",
   "version": "3.12.3"
  }
 },
 "nbformat": 4,
 "nbformat_minor": 2
}
