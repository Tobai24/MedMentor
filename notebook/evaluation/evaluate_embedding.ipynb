{
 "cells": [
  {
   "cell_type": "code",
   "execution_count": 20,
   "metadata": {},
   "outputs": [
    {
     "data": {
      "text/plain": [
       "True"
      ]
     },
     "execution_count": 20,
     "metadata": {},
     "output_type": "execute_result"
    }
   ],
   "source": [
    "import os\n",
    "import json\n",
    "import numpy as np\n",
    "from langchain_core.documents import Document\n",
    "from sentence_transformers import SentenceTransformer\n",
    "from dotenv import load_dotenv\n",
    "from langchain.vectorstores import FAISS\n",
    "from langchain_openai import OpenAIEmbeddings, OpenAI\n",
    "\n",
    "load_dotenv()"
   ]
  },
  {
   "cell_type": "code",
   "execution_count": 15,
   "metadata": {},
   "outputs": [],
   "source": [
    "OPENAI_API_KEY = os.environ.get(\"OPENAI_API_KEY\")\n",
    "EMBEDDINGS = OpenAIEmbeddings(api_key=os.environ[\"OPENAI_API_KEY\"])\n",
    "PINECONE_API_KEY = os.getenv(\"PINECONE_API_KEY\")"
   ]
  },
  {
   "cell_type": "code",
   "execution_count": 3,
   "metadata": {},
   "outputs": [],
   "source": [
    "with open('documents_with_ids.json', 'rt') as f_in:\n",
    "    documents = json.load(f_in)"
   ]
  },
  {
   "cell_type": "code",
   "execution_count": null,
   "metadata": {},
   "outputs": [],
   "source": [
    "def create_chunk_embedding(documents):\n",
    "    \n",
    "    processed_docs = [\n",
    "        Document(page_content=doc[\"page_content\"], metadata=doc[\"metadata\"])\n",
    "        for doc in documents\n",
    "    ]\n",
    "\n",
    "    # OpenAI Embeddings\n",
    "    openai_embeddings = OpenAIEmbeddings(model=\"text-embedding-ada-002\")\n",
    "    faiss_index_openai = FAISS.from_documents(processed_docs, openai_embeddings)\n",
    "    openai_index_path = \"../embeddings/faiss_index_openai\"\n",
    "    faiss_index_openai.save_local(openai_index_path)\n",
    "\n",
    "    # SentenceTransformers Embeddings\n",
    "    st_model = SentenceTransformer(\"all-mpnet-base-v2\")\n",
    "\n",
    "\n",
    "    st_embeddings = np.array([st_model.encode(doc[\"page_content\"]) for doc in documents])\n",
    "    doc_ids = [doc[\"id\"] for doc in documents]\n",
    "\n",
    "    faiss_index_st = FAISS.from_embeddings(st_embeddings, doc_ids)\n",
    "    st_index_path = \"../embeddings/faiss_index_st\"\n",
    "    faiss_index_st.save_local(st_index_path)\n",
    "\n",
    "    return {\"openai_index\": openai_index_path, \"sentence_transformer_index\": st_index_path}\n",
    "\n"
   ]
  },
  {
   "cell_type": "code",
   "execution_count": null,
   "metadata": {},
   "outputs": [],
   "source": [
    "index_path_one = create_chunk_embedding(documents)"
   ]
  },
  {
   "cell_type": "markdown",
   "metadata": {},
   "source": [
    "### Evaluate openAI embeddings"
   ]
  },
  {
   "cell_type": "code",
   "execution_count": null,
   "metadata": {},
   "outputs": [],
   "source": [
    "openai_index_path = \"../embeddings/faiss_index_openai\"\n",
    "\n",
    "\n",
    "openai_embeddings = OpenAIEmbeddings(model=\"text-embedding-ada-002\")\n",
    "faiss_index_openai = FAISS.load_local(openai_index_path, openai_embeddings)\n",
    "\n",
    "\n",
    "query = \"How do you diagnose atrial fibrillation?\"\n",
    "results = faiss_index_openai.similarity_search(query, k=5)\n",
    "\n",
    "for res in results:\n",
    "    print(res.page_content)\n"
   ]
  },
  {
   "cell_type": "code",
   "execution_count": null,
   "metadata": {},
   "outputs": [],
   "source": []
  }
 ],
 "metadata": {
  "kernelspec": {
   "display_name": "MedMentor-4DQmH_3Z",
   "language": "python",
   "name": "python3"
  },
  "language_info": {
   "codemirror_mode": {
    "name": "ipython",
    "version": 3
   },
   "file_extension": ".py",
   "mimetype": "text/x-python",
   "name": "python",
   "nbconvert_exporter": "python",
   "pygments_lexer": "ipython3",
   "version": "3.12.3"
  }
 },
 "nbformat": 4,
 "nbformat_minor": 2
}
