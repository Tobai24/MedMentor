{
 "cells": [
  {
   "cell_type": "code",
   "execution_count": 178,
   "metadata": {},
   "outputs": [
    {
     "data": {
      "text/plain": [
       "True"
      ]
     },
     "execution_count": 178,
     "metadata": {},
     "output_type": "execute_result"
    }
   ],
   "source": [
    "import os\n",
    "import json\n",
    "import pandas as pd\n",
    "import numpy as np\n",
    "import seaborn as sns\n",
    "import matplotlib.pyplot as plt\n",
    "from tqdm.auto import tqdm\n",
    "from langchain_core.documents import Document\n",
    "from pinecone import ServerlessSpec\n",
    "from pinecone import Pinecone\n",
    "from dotenv import load_dotenv\n",
    "from sentence_transformers import CrossEncoder\n",
    "from langchain_openai import OpenAIEmbeddings, OpenAI\n",
    "\n",
    "load_dotenv()"
   ]
  },
  {
   "cell_type": "code",
   "execution_count": 25,
   "metadata": {},
   "outputs": [],
   "source": [
    "OPENAI_API_KEY = os.environ.get(\"OPENAI_API_KEY\")\n",
    "EMBEDDINGS = OpenAIEmbeddings(api_key=os.environ[\"OPENAI_API_KEY\"])\n",
    "PINECONE_API_KEY = os.getenv(\"PINECONE_API_KEY\")"
   ]
  },
  {
   "cell_type": "markdown",
   "metadata": {},
   "source": [
    "### Load document with ids"
   ]
  },
  {
   "cell_type": "code",
   "execution_count": 4,
   "metadata": {},
   "outputs": [],
   "source": [
    "with open('documents_with_ids.json', 'rb') as f_out:\n",
    "    documents = json.load(f_out)"
   ]
  },
  {
   "cell_type": "code",
   "execution_count": 10,
   "metadata": {},
   "outputs": [
    {
     "data": {
      "text/plain": [
       "{'page_content': 'edema; secondly, the imbalance of intravascular fluid \\nexchange, the interstitial fluid generates more than reflux and \\nresult in edema. Some of factors that make the liquid from a \\ncapillary outflow greater than inflow would result in edema, \\nsuch as congestive heart failure, acute nephritis, renal failure, \\nthe amount of fluid more than renal excretion, intravascular \\nfluid volume increased, or thrombosis, thrombophlebitis \\ncause local venous return blocked. Various causes of hypoal-\\nbuminemia, such as malnutrition, liver disease, massive pro-\\nteinuria, severe diarrhea or high decomposition metabolic \\nstate, can cause the plasma colloid osmotic pressure reduced, \\nwhich is lead to another important reason for edema. \\nCapillary endothelial damage can also lead to increased cap-\\nillary permeability, such as bacterial, physical and chemical \\nfactors, allergic reactions or immune damage, etc. Lymphatic \\nobstruction can cause lymphedema, such as filariasis.\\n3.2  Clinical Manifestations',\n",
       " 'metadata': {'source': '../data/Handbook_of_clinical_diagnostics.pdf',\n",
       "  'page': 19,\n",
       "  'page_label': '11'},\n",
       " 'id': '94b12cfe'}"
      ]
     },
     "execution_count": 10,
     "metadata": {},
     "output_type": "execute_result"
    }
   ],
   "source": [
    "documents[60]"
   ]
  },
  {
   "cell_type": "markdown",
   "metadata": {},
   "source": [
    "### Load the ground truth dataset"
   ]
  },
  {
   "cell_type": "code",
   "execution_count": 2,
   "metadata": {},
   "outputs": [],
   "source": [
    "data = pd.read_csv('questions.csv')\n",
    "\n",
    "ground_truth = data.to_dict(orient='records')"
   ]
  },
  {
   "cell_type": "code",
   "execution_count": 11,
   "metadata": {},
   "outputs": [
    {
     "data": {
      "text/plain": [
       "{'question': 'Mediastinal issues or related cardiovascular examination',\n",
       " 'case_prompt': \"A 65-year-old male presents to the clinic with complaints of chest pain and a 'crunching' sound when he breathes, described as intermittent over the past week.\",\n",
       " 'document': '70d62f9f'}"
      ]
     },
     "execution_count": 11,
     "metadata": {},
     "output_type": "execute_result"
    }
   ],
   "source": [
    "ground_truth[60]"
   ]
  },
  {
   "cell_type": "code",
   "execution_count": 16,
   "metadata": {},
   "outputs": [
    {
     "data": {
      "text/plain": [
       "'mediastinal crunch, 103\\nmediastinum, 149, 174\\nmedical history, in pregnancy, 734\\nmedically unexplained symptoms (MUS), 26, \\n27b, 847t–850t\\nmedication, in neurological history, 497–498, \\n498b\\nmedulla, anatomy of, 532f\\nmedullary brainstem hypercapnia test, 876\\nmelaena, 224–225, 268\\nmelanoma, metastatic, 821f\\nmembranes, rupture of, 732\\nMénière’s disease, 495\\nmeningocele, 699f\\nmeningococcal rash, 871f\\nmeningomyelocele, 698t\\nmeniscal tear, 434f\\nmeniscus sign, 208f\\nmenorrhagia, 744\\nMENs syndromes see multiple endocrine \\nneoplasias (MENs) syndromes\\nmenstrual history, 15, 303, 744–750\\nmenstruation, 441\\nmental health\\nof elderly patients, 32–33\\ngastrointestinal system and, 234–235\\nneurological history and, 497\\nrisk, 851\\nsystems review of, 9b–12b\\nmental health examination, 845–863, \\n855t–857t, 863b\\nfamily history in, 853\\nsocial history in, 853–854\\nmeralgia paraesthetica, 425, 575\\nmetabolic syndrome, 442, 442t\\nmetacarpophalangeal (MCP) joints, 375–379, \\n379f'"
      ]
     },
     "execution_count": 16,
     "metadata": {},
     "output_type": "execute_result"
    }
   ],
   "source": [
    "doc_idx = {d['id']: d for d in documents}\n",
    "doc_idx['70d62f9f']['page_content']"
   ]
  },
  {
   "cell_type": "markdown",
   "metadata": {},
   "source": [
    "### Retreival Implementation with reranking using pinecone"
   ]
  },
  {
   "cell_type": "code",
   "execution_count": 26,
   "metadata": {},
   "outputs": [],
   "source": [
    "pc = Pinecone(api_key=PINECONE_API_KEY)\n",
    "index = pc.Index(\"final\")"
   ]
  },
  {
   "cell_type": "code",
   "execution_count": 27,
   "metadata": {},
   "outputs": [],
   "source": [
    "def get_query_embeddings(query: str) -> list[float]:\n",
    "    query_embeddings = EMBEDDINGS.embed_query(query)\n",
    "    return query_embeddings"
   ]
  },
  {
   "cell_type": "code",
   "execution_count": 28,
   "metadata": {},
   "outputs": [],
   "source": [
    "def query_pinecone_index(\n",
    "    query_embeddings: list, top_k: int = 20, include_metadata: bool = True\n",
    ") -> dict[str, any]:\n",
    "    query_response = index.query(\n",
    "        vector=query_embeddings, top_k=top_k, include_metadata=include_metadata\n",
    "    )\n",
    "    return query_response"
   ]
  },
  {
   "cell_type": "code",
   "execution_count": 29,
   "metadata": {},
   "outputs": [],
   "source": [
    "reranker = CrossEncoder(\"cross-encoder/ms-marco-MiniLM-L-6-v2\")"
   ]
  },
  {
   "cell_type": "code",
   "execution_count": 30,
   "metadata": {},
   "outputs": [],
   "source": [
    "def rerank_documents(query, retrieved_docs):\n",
    "    \n",
    "    pairs = []\n",
    "    doc_list = []\n",
    "\n",
    "    for doc in retrieved_docs[\"matches\"]:\n",
    "        text = doc[\"metadata\"].get(\"page_content\") \n",
    "        # if text is None:\n",
    "        #     print(f\"Warning: Missing 'page_content' in metadata for document ID {doc['metadata'].get('id', 'Unknown')}\")\n",
    "        #     continue \n",
    "        \n",
    "        pairs.append((query, text))\n",
    "        doc_list.append(doc)\n",
    "\n",
    "    if not pairs:\n",
    "        print(\"No valid documents found for reranking.\")\n",
    "        return []\n",
    "\n",
    "    scores = reranker.predict(pairs)\n",
    "\n",
    "    scored_docs = list(zip(scores, doc_list))\n",
    "    scored_docs.sort(key=lambda x: x[0], reverse=True)\n",
    "    reranked_docs = [doc for _, doc in scored_docs]\n",
    "    \n",
    "    return reranked_docs"
   ]
  },
  {
   "cell_type": "code",
   "execution_count": 58,
   "metadata": {},
   "outputs": [],
   "source": [
    "def retreival(q):\n",
    "    query_text = q['question']\n",
    "    embeddings = get_query_embeddings(query_text)\n",
    "    retrieved_results = query_pinecone_index(embeddings, top_k=30)\n",
    "    reranked_results = rerank_documents(query_text, retrieved_results)\n",
    "    return reranked_results"
   ]
  },
  {
   "cell_type": "markdown",
   "metadata": {},
   "source": [
    "### The Rag Flow"
   ]
  },
  {
   "cell_type": "code",
   "execution_count": 69,
   "metadata": {},
   "outputs": [],
   "source": [
    "def build_prompt(system, search_results):\n",
    "   \n",
    "   context = \"\"\n",
    "    \n",
    "    # reduce the length of the search result to include in the prompt because of the context length\n",
    "   for doc in search_results[:10]:\n",
    "      context = context + f\"content: {doc[\"metadata\"][\"page_content\"]}\\n\\n\"\n",
    "      \n",
    "   prompt_template = f\"\"\"You are a medical educator tasked with creating a **clinical case scenario** for an OSCE (Objective Structured Clinical Examination). Your goal is to generate a realistic and detailed case prompt based on the provided **body system/clinical case** and the **context** from the medical database. The case prompt should be suitable for medical students and adhere to OSCE standards for history taking and physical examination.\n",
    "\n",
    "   ### Instructions:\n",
    "   1. **Understand the Body System/Clinical Case**:\n",
    "      - Carefully analyze the provided body system or clinical topic: `{system}`.\n",
    "      - Consider common pathologies, presentations, and examination techniques related to this system.\n",
    "\n",
    "   2. **Incorporate Context from the Database**:\n",
    "      - Use the provided context: `{context}` to ensure the case prompt is grounded in realistic clinical details.\n",
    "      - Ensure the case aligns with the context while maintaining educational value.\n",
    "\n",
    "   3. **Generate a Realistic Case Prompt**:\n",
    "      - The case prompt should include **only the presenting complaint** (e.g., \"A 45-year-old male presents with chest pain for 2 hours\").\n",
    "      - Do not include additional history, examination findings, or diagnosis in the prompt.\n",
    "      - Ensure the complaint is specific, clinically relevant, and appropriate for the given body system.\n",
    "\n",
    "   4. **Adhere to OSCE Standards**:\n",
    "      - The case prompt should mimic a real OSCE station, requiring the student to:\n",
    "      - Take a focused history.\n",
    "      - Perform a relevant physical examination.\n",
    "      - Develop a differential diagnosis.\n",
    "      - Avoid providing excessive details that would make the case too easy or unrealistic.\n",
    "\n",
    "   5. **Ensure Educational Value**:\n",
    "      - The case should challenge the student’s clinical reasoning and knowledge.\n",
    "      - It should be appropriate for the level of a medical student (e.g., not overly complex or obscure).\n",
    "\n",
    "   ### Input:\n",
    "   - **Body System/Clinical Case**: {system}\n",
    "   - **Context from Database**: {context}\n",
    "\n",
    "   ### Expected Output:\n",
    "   Provide the output in **parsable JSON** without using code blocks:\n",
    "\n",
    "   {{\n",
    "      \"case_prompt\": \"A concise and realistic case prompt based on the body system and context, including only the presenting complaint (e.g., 'A 35-year-old female presents with shortness of breath and fever for 3 days').\"\n",
    "   }}\"\"\".strip()\n",
    "   \n",
    "   prompt = prompt_template\n",
    "   \n",
    "   return prompt"
   ]
  },
  {
   "cell_type": "code",
   "execution_count": 70,
   "metadata": {},
   "outputs": [],
   "source": [
    "from openai import OpenAI\n",
    "\n",
    "client = OpenAI()\n",
    "\n",
    "def llm(prompt, model='gpt-4o'):\n",
    "    response = client.chat.completions.create(\n",
    "        model=model,\n",
    "        messages=[{\"role\": \"user\", \"content\": prompt}]\n",
    "    )\n",
    "    \n",
    "    return response.choices[0].message.content"
   ]
  },
  {
   "cell_type": "code",
   "execution_count": 71,
   "metadata": {},
   "outputs": [],
   "source": [
    "def rag(query: dict, model='gpt-4o-mini') -> str:\n",
    "    search_results = retreival(query)\n",
    "    prompt = build_prompt(query['question'], search_results)\n",
    "    answer = llm(prompt, model=model)\n",
    "    return answer"
   ]
  },
  {
   "cell_type": "markdown",
   "metadata": {},
   "source": [
    "### Cosine similarity"
   ]
  },
  {
   "cell_type": "code",
   "execution_count": 72,
   "metadata": {},
   "outputs": [],
   "source": [
    "answers = {}"
   ]
  },
  {
   "cell_type": "code",
   "execution_count": 75,
   "metadata": {},
   "outputs": [
    {
     "name": "stderr",
     "output_type": "stream",
     "text": [
      "100%|██████████| 250/250 [26:56<00:00,  6.46s/it]\n"
     ]
    }
   ],
   "source": [
    "for i, rec in enumerate(tqdm(ground_truth)):\n",
    "    if i in answers:\n",
    "        continue\n",
    "    \n",
    "    answer_llm = rag(rec)\n",
    "    doc_id = rec['document']\n",
    "    original_doc = doc_idx[doc_id]\n",
    "    answer_orig = ground_truth[i]['case_prompt']\n",
    "    \n",
    "    answers[i] = {\n",
    "        'answer_llm': answer_llm,\n",
    "        'answer_orig': answer_orig,\n",
    "        'document': doc_id,\n",
    "        'question': rec['question'],\n",
    "    }"
   ]
  },
  {
   "cell_type": "code",
   "execution_count": 76,
   "metadata": {},
   "outputs": [],
   "source": [
    "results_gpt4o_mini = [None] * len(ground_truth)\n",
    "\n",
    "for i, val in answers.items():\n",
    "    results_gpt4o_mini[i] = val.copy()\n",
    "    results_gpt4o_mini[i].update(ground_truth[i])"
   ]
  },
  {
   "cell_type": "code",
   "execution_count": 78,
   "metadata": {},
   "outputs": [],
   "source": [
    "import pandas as pd\n",
    "\n",
    "df_gpt4o_mini = pd.DataFrame(results_gpt4o_mini)"
   ]
  },
  {
   "cell_type": "code",
   "execution_count": null,
   "metadata": {},
   "outputs": [],
   "source": [
    "\n",
    "df_gpt4o_mini = pd.DataFrame(df_gpt4o_mini)\n",
    "df_gpt4o_mini.to_csv('results_gpt4o_mini.csv', index=False)"
   ]
  },
  {
   "cell_type": "code",
   "execution_count": 85,
   "metadata": {},
   "outputs": [],
   "source": [
    "df_gpt4o_mini = df_gpt4o_mini.to_dict(orient='records')"
   ]
  },
  {
   "cell_type": "code",
   "execution_count": 80,
   "metadata": {},
   "outputs": [],
   "source": [
    "def get_query_embeddings(query: str) -> list[float]:\n",
    "    query_embeddings = EMBEDDINGS.embed_query(query)\n",
    "    return query_embeddings"
   ]
  },
  {
   "cell_type": "code",
   "execution_count": 93,
   "metadata": {},
   "outputs": [],
   "source": [
    "def compute_similarity(record):\n",
    "    answer_orig = record['answer_orig']\n",
    "    answer_llm = record['answer_llm']\n",
    "    \n",
    "    v_llm = np.array(get_query_embeddings(answer_llm))\n",
    "    v_orig = np.array(get_query_embeddings(answer_orig))\n",
    "    \n",
    "    return  np.dot(v_llm, v_orig)"
   ]
  },
  {
   "cell_type": "code",
   "execution_count": 94,
   "metadata": {},
   "outputs": [
    {
     "name": "stderr",
     "output_type": "stream",
     "text": [
      "100%|██████████| 250/250 [03:50<00:00,  1.09it/s]\n"
     ]
    }
   ],
   "source": [
    "similarity = []\n",
    "\n",
    "for record in tqdm(df_gpt4o_mini):\n",
    "    sim = compute_similarity(record)\n",
    "    similarity.append(sim)"
   ]
  },
  {
   "cell_type": "code",
   "execution_count": null,
   "metadata": {},
   "outputs": [
    {
     "data": {
      "text/plain": [
       "count    250.000000\n",
       "mean       0.834265\n",
       "std        0.024178\n",
       "min        0.743574\n",
       "25%        0.822991\n",
       "50%        0.838689\n",
       "75%        0.850401\n",
       "max        0.882444\n",
       "Name: cosine, dtype: float64"
      ]
     },
     "execution_count": 102,
     "metadata": {},
     "output_type": "execute_result"
    }
   ],
   "source": [
    "df_gpt4o_mini = pd.DataFrame(df_gpt4o_mini)\n",
    "\n",
    "df_gpt4o_mini['cosine'] = list(similarity)\n",
    "df_gpt4o_mini['cosine'].describe()  "
   ]
  },
  {
   "cell_type": "code",
   "execution_count": 176,
   "metadata": {},
   "outputs": [],
   "source": [
    "df_gpt4o_mini = pd.DataFrame(df_gpt4o_mini)"
   ]
  },
  {
   "cell_type": "code",
   "execution_count": 177,
   "metadata": {},
   "outputs": [
    {
     "name": "stderr",
     "output_type": "stream",
     "text": [
      "/tmp/ipykernel_44992/2618774591.py:1: UserWarning: \n",
      "\n",
      "`distplot` is a deprecated function and will be removed in seaborn v0.14.0.\n",
      "\n",
      "Please adapt your code to use either `displot` (a figure-level function with\n",
      "similar flexibility) or `histplot` (an axes-level function for histograms).\n",
      "\n",
      "For a guide to updating your code to use the new functions, please see\n",
      "https://gist.github.com/mwaskom/de44147ed2974457ad6372750bbe5751\n",
      "\n",
      "  sns.distplot(df_gpt4o_mini['cosine'], label='4o-mini')\n"
     ]
    },
    {
     "data": {
      "text/plain": [
       "<matplotlib.legend.Legend at 0x7f11f6d68e00>"
      ]
     },
     "execution_count": 177,
     "metadata": {},
     "output_type": "execute_result"
    },
    {
     "data": {
      "image/png": "[encoded data removed]",
      "text/plain": [
       "<Figure size 640x480 with 1 Axes>"
      ]
     },
     "metadata": {},
     "output_type": "display_data"
    }
   ],
   "source": [
    "sns.distplot(df_gpt4o_mini['cosine'], label='4o-mini')\n",
    "\n",
    "plt.title(\"RAG LLM performance\")\n",
    "plt.xlabel(\"A->Q->A' Cosine Similarity\")\n",
    "plt.legend()"
   ]
  },
  {
   "cell_type": "markdown",
   "metadata": {},
   "source": [
    "### Using llm as a judge"
   ]
  },
  {
   "cell_type": "code",
   "execution_count": 159,
   "metadata": {},
   "outputs": [],
   "source": [
    "def build_prompt(output, system):   \n",
    "   prompt_template = f\"\"\"You are a medical educator tasked with evaluating the **relevance** of a generated case prompt to the provided `{system}`(body system). \n",
    "   Your goal is to assess if the `{system}` aligns with the (that the `{system}` and {output} are within the same clinical context) `{output}` case prompt and provide a clear explanation for your evaluation.\n",
    "\n",
    "      ### Instructions:\n",
    "      1. **Review the Input and Output**:\n",
    "         - Carefully analyze the provided system: `{system}`.\n",
    "         - Review the generated output: `{output}`.\n",
    "\n",
    "      2. **Evaluate Relevance**:\n",
    "         - Assess the relevance of the output to the input based on the following criteria:\n",
    "         - **NON_RELEVANT**: The output does not align with the input at all. It is unrelated or inappropriate for the given context.\n",
    "         - **PARTLY_RELEVANT**: The output partially aligns with the input but lacks key details or contains inaccuracies.\n",
    "         - **RELEVANT**: The output fully aligns with the input, demonstrating a clear connection and appropriateness for the given context.\n",
    "\n",
    "      3. **Provide an Explanation**:\n",
    "         - Write a brief explanation for your evaluation, highlighting why the output was deemed non-relevant, partly relevant, or relevant.\n",
    "         - Mention specific aspects of the output that align or misalign with the input.\n",
    "\n",
    "      ### Input:\n",
    "      {system}\n",
    "\n",
    "      ### Output to Evaluate:\n",
    "      {output}\n",
    "\n",
    "      ### Expected Output:\n",
    "      Provide the output in **parsable JSON** without using code blocks:\n",
    "\n",
    "      {{\n",
    "      \"Relevance\": \"NON_RELEVANT\" | \"PARTLY_RELEVANT\" | \"RELEVANT\",\n",
    "      \"Explanation\": \"[Provide a brief explanation for your evaluation]\"\n",
    "      }}\"\"\"\n",
    "      \n",
    "   prompt = prompt_template\n",
    "   \n",
    "   return prompt"
   ]
  },
  {
   "cell_type": "code",
   "execution_count": 131,
   "metadata": {},
   "outputs": [],
   "source": [
    "df_gpt4o_mini = df_gpt4o_mini.to_dict(orient='records')"
   ]
  },
  {
   "cell_type": "code",
   "execution_count": 156,
   "metadata": {},
   "outputs": [
    {
     "name": "stderr",
     "output_type": "stream",
     "text": [
      "100%|██████████| 1/1 [00:07<00:00,  7.66s/it]"
     ]
    },
    {
     "name": "stdout",
     "output_type": "stream",
     "text": [
      "{\n",
      "  \"Relevance\": \"RELEVANT\",\n",
      "  \"Explanation\": \"The case prompt describes a 62-year-old male presenting with palpitations and shortness of breath, which are common symptoms associated with atrial fibrillation. Atrial fibrillation often presents acutely with these symptoms due to the irregular heart rhythm leading to poor cardiac output. The presentation aligns well with the clinical implications of atrial fibrillation, making the case prompt highly relevant to the topic.\"\n",
      "}\n"
     ]
    },
    {
     "name": "stderr",
     "output_type": "stream",
     "text": [
      "\n"
     ]
    }
   ],
   "source": [
    "# debugging\n",
    "\n",
    "for i, record in enumerate(tqdm(df_gpt4o_mini[1:2])):\n",
    "    # input = record[i][\"answer_orig\"]\\\n",
    "    system = record[\"question\"]\n",
    "    output = record[\"answer_llm\"]\n",
    "    prompt = build_prompt(output, system)\n",
    "    evaluation = llm(prompt, model='gpt-4o-mini')\n",
    "    print(evaluation)"
   ]
  },
  {
   "cell_type": "code",
   "execution_count": 164,
   "metadata": {},
   "outputs": [
    {
     "name": "stderr",
     "output_type": "stream",
     "text": [
      "100%|██████████| 250/250 [11:26<00:00,  2.74s/it]\n"
     ]
    }
   ],
   "source": [
    "eval = []\n",
    "\n",
    "for record in tqdm(df_gpt4o_mini):\n",
    "    system = record[\"question\"]\n",
    "    output = record[\"answer_llm\"]\n",
    "    prompt = build_prompt(output, system)\n",
    "    evaluation = llm(prompt, model='gpt-4o-mini')\n",
    "    eval.append(evaluation)"
   ]
  },
  {
   "cell_type": "code",
   "execution_count": 165,
   "metadata": {},
   "outputs": [],
   "source": [
    "json_evaluations = []\n",
    "\n",
    "for i, str_eval in enumerate(eval):\n",
    "    json_eval = json.loads(str_eval)\n",
    "    json_evaluations.append(json_eval)"
   ]
  },
  {
   "cell_type": "code",
   "execution_count": 166,
   "metadata": {},
   "outputs": [],
   "source": [
    "df_evaluations = pd.DataFrame(json_evaluations)"
   ]
  },
  {
   "cell_type": "code",
   "execution_count": 167,
   "metadata": {},
   "outputs": [
    {
     "data": {
      "text/plain": [
       "Relevance\n",
       "RELEVANT           228\n",
       "PARTLY_RELEVANT     22\n",
       "Name: count, dtype: int64"
      ]
     },
     "execution_count": 167,
     "metadata": {},
     "output_type": "execute_result"
    }
   ],
   "source": [
    "df_evaluations.Relevance.value_counts()"
   ]
  },
  {
   "cell_type": "code",
   "execution_count": 169,
   "metadata": {},
   "outputs": [],
   "source": [
    "df_evaluations.to_csv('evaluations-aqa.csv', index=False)"
   ]
  }
 ],
 "metadata": {
  "kernelspec": {
   "display_name": "MedMentor-4DQmH_3Z",
   "language": "python",
   "name": "python3"
  },
  "language_info": {
   "codemirror_mode": {
    "name": "ipython",
    "version": 3
   },
   "file_extension": ".py",
   "mimetype": "text/x-python",
   "name": "python",
   "nbconvert_exporter": "python",
   "pygments_lexer": "ipython3",
   "version": "3.12.3"
  }
 },
 "nbformat": 4,
 "nbformat_minor": 2
}
