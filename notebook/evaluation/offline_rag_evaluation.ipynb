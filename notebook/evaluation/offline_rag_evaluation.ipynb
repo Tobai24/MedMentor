{
 "cells": [
  {
   "cell_type": "code",
   "execution_count": 22,
   "metadata": {},
   "outputs": [
    {
     "data": {
      "text/plain": [
       "True"
      ]
     },
     "execution_count": 22,
     "metadata": {},
     "output_type": "execute_result"
    }
   ],
   "source": [
    "import os\n",
    "import json\n",
    "import pandas as pd\n",
    "import numpy as np\n",
    "from tqdm.auto import tqdm\n",
    "from langchain_core.documents import Document\n",
    "from pinecone import ServerlessSpec\n",
    "from pinecone import Pinecone\n",
    "from dotenv import load_dotenv\n",
    "from sentence_transformers import CrossEncoder\n",
    "from langchain.vectorstores import FAISS\n",
    "from langchain_openai import OpenAIEmbeddings, OpenAI\n",
    "\n",
    "load_dotenv()"
   ]
  },
  {
   "cell_type": "code",
   "execution_count": 25,
   "metadata": {},
   "outputs": [],
   "source": [
    "OPENAI_API_KEY = os.environ.get(\"OPENAI_API_KEY\")\n",
    "EMBEDDINGS = OpenAIEmbeddings(api_key=os.environ[\"OPENAI_API_KEY\"])\n",
    "PINECONE_API_KEY = os.getenv(\"PINECONE_API_KEY\")"
   ]
  },
  {
   "cell_type": "markdown",
   "metadata": {},
   "source": [
    "### Load document with ids"
   ]
  },
  {
   "cell_type": "code",
   "execution_count": 4,
   "metadata": {},
   "outputs": [],
   "source": [
    "with open('documents_with_ids.json', 'rb') as f_out:\n",
    "    documents = json.load(f_out)"
   ]
  },
  {
   "cell_type": "code",
   "execution_count": 10,
   "metadata": {},
   "outputs": [
    {
     "data": {
      "text/plain": [
       "{'page_content': 'edema; secondly, the imbalance of intravascular fluid \\nexchange, the interstitial fluid generates more than reflux and \\nresult in edema. Some of factors that make the liquid from a \\ncapillary outflow greater than inflow would result in edema, \\nsuch as congestive heart failure, acute nephritis, renal failure, \\nthe amount of fluid more than renal excretion, intravascular \\nfluid volume increased, or thrombosis, thrombophlebitis \\ncause local venous return blocked. Various causes of hypoal-\\nbuminemia, such as malnutrition, liver disease, massive pro-\\nteinuria, severe diarrhea or high decomposition metabolic \\nstate, can cause the plasma colloid osmotic pressure reduced, \\nwhich is lead to another important reason for edema. \\nCapillary endothelial damage can also lead to increased cap-\\nillary permeability, such as bacterial, physical and chemical \\nfactors, allergic reactions or immune damage, etc. Lymphatic \\nobstruction can cause lymphedema, such as filariasis.\\n3.2  Clinical Manifestations',\n",
       " 'metadata': {'source': '../data/Handbook_of_clinical_diagnostics.pdf',\n",
       "  'page': 19,\n",
       "  'page_label': '11'},\n",
       " 'id': '94b12cfe'}"
      ]
     },
     "execution_count": 10,
     "metadata": {},
     "output_type": "execute_result"
    }
   ],
   "source": [
    "documents[60]"
   ]
  },
  {
   "cell_type": "markdown",
   "metadata": {},
   "source": [
    "### Load the ground truth dataset"
   ]
  },
  {
   "cell_type": "code",
   "execution_count": 2,
   "metadata": {},
   "outputs": [],
   "source": [
    "data = pd.read_csv('questions.csv')\n",
    "\n",
    "ground_truth = data.to_dict(orient='records')"
   ]
  },
  {
   "cell_type": "code",
   "execution_count": 11,
   "metadata": {},
   "outputs": [
    {
     "data": {
      "text/plain": [
       "{'question': 'Mediastinal issues or related cardiovascular examination',\n",
       " 'case_prompt': \"A 65-year-old male presents to the clinic with complaints of chest pain and a 'crunching' sound when he breathes, described as intermittent over the past week.\",\n",
       " 'document': '70d62f9f'}"
      ]
     },
     "execution_count": 11,
     "metadata": {},
     "output_type": "execute_result"
    }
   ],
   "source": [
    "ground_truth[60]"
   ]
  },
  {
   "cell_type": "code",
   "execution_count": 16,
   "metadata": {},
   "outputs": [
    {
     "data": {
      "text/plain": [
       "'mediastinal crunch, 103\\nmediastinum, 149, 174\\nmedical history, in pregnancy, 734\\nmedically unexplained symptoms (MUS), 26, \\n27b, 847t–850t\\nmedication, in neurological history, 497–498, \\n498b\\nmedulla, anatomy of, 532f\\nmedullary brainstem hypercapnia test, 876\\nmelaena, 224–225, 268\\nmelanoma, metastatic, 821f\\nmembranes, rupture of, 732\\nMénière’s disease, 495\\nmeningocele, 699f\\nmeningococcal rash, 871f\\nmeningomyelocele, 698t\\nmeniscal tear, 434f\\nmeniscus sign, 208f\\nmenorrhagia, 744\\nMENs syndromes see multiple endocrine \\nneoplasias (MENs) syndromes\\nmenstrual history, 15, 303, 744–750\\nmenstruation, 441\\nmental health\\nof elderly patients, 32–33\\ngastrointestinal system and, 234–235\\nneurological history and, 497\\nrisk, 851\\nsystems review of, 9b–12b\\nmental health examination, 845–863, \\n855t–857t, 863b\\nfamily history in, 853\\nsocial history in, 853–854\\nmeralgia paraesthetica, 425, 575\\nmetabolic syndrome, 442, 442t\\nmetacarpophalangeal (MCP) joints, 375–379, \\n379f'"
      ]
     },
     "execution_count": 16,
     "metadata": {},
     "output_type": "execute_result"
    }
   ],
   "source": [
    "doc_idx = {d['id']: d for d in documents}\n",
    "doc_idx['70d62f9f']['page_content']"
   ]
  },
  {
   "cell_type": "markdown",
   "metadata": {},
   "source": [
    "### Retreival Implementation with reranking using pinecone"
   ]
  },
  {
   "cell_type": "code",
   "execution_count": 26,
   "metadata": {},
   "outputs": [],
   "source": [
    "pc = Pinecone(api_key=PINECONE_API_KEY)\n",
    "index = pc.Index(\"final\")"
   ]
  },
  {
   "cell_type": "code",
   "execution_count": 27,
   "metadata": {},
   "outputs": [],
   "source": [
    "def get_query_embeddings(query: str) -> list[float]:\n",
    "    query_embeddings = EMBEDDINGS.embed_query(query)\n",
    "    return query_embeddings"
   ]
  },
  {
   "cell_type": "code",
   "execution_count": 28,
   "metadata": {},
   "outputs": [],
   "source": [
    "def query_pinecone_index(\n",
    "    query_embeddings: list, top_k: int = 20, include_metadata: bool = True\n",
    ") -> dict[str, any]:\n",
    "    query_response = index.query(\n",
    "        vector=query_embeddings, top_k=top_k, include_metadata=include_metadata\n",
    "    )\n",
    "    return query_response"
   ]
  },
  {
   "cell_type": "code",
   "execution_count": 29,
   "metadata": {},
   "outputs": [],
   "source": [
    "reranker = CrossEncoder(\"cross-encoder/ms-marco-MiniLM-L-6-v2\")"
   ]
  },
  {
   "cell_type": "code",
   "execution_count": 30,
   "metadata": {},
   "outputs": [],
   "source": [
    "def rerank_documents(query, retrieved_docs):\n",
    "    \n",
    "    pairs = []\n",
    "    doc_list = []\n",
    "\n",
    "    for doc in retrieved_docs[\"matches\"]:\n",
    "        text = doc[\"metadata\"].get(\"page_content\") \n",
    "        # if text is None:\n",
    "        #     print(f\"Warning: Missing 'page_content' in metadata for document ID {doc['metadata'].get('id', 'Unknown')}\")\n",
    "        #     continue \n",
    "        \n",
    "        pairs.append((query, text))\n",
    "        doc_list.append(doc)\n",
    "\n",
    "    if not pairs:\n",
    "        print(\"No valid documents found for reranking.\")\n",
    "        return []\n",
    "\n",
    "    scores = reranker.predict(pairs)\n",
    "\n",
    "    scored_docs = list(zip(scores, doc_list))\n",
    "    scored_docs.sort(key=lambda x: x[0], reverse=True)\n",
    "    reranked_docs = [doc for _, doc in scored_docs]\n",
    "    \n",
    "    return reranked_docs"
   ]
  },
  {
   "cell_type": "markdown",
   "metadata": {},
   "source": [
    "### The Rag Flow"
   ]
  },
  {
   "cell_type": "code",
   "execution_count": null,
   "metadata": {},
   "outputs": [],
   "source": []
  }
 ],
 "metadata": {
  "kernelspec": {
   "display_name": "MedMentor-4DQmH_3Z",
   "language": "python",
   "name": "python3"
  },
  "language_info": {
   "codemirror_mode": {
    "name": "ipython",
    "version": 3
   },
   "file_extension": ".py",
   "mimetype": "text/x-python",
   "name": "python",
   "nbconvert_exporter": "python",
   "pygments_lexer": "ipython3",
   "version": "3.12.3"
  }
 },
 "nbformat": 4,
 "nbformat_minor": 2
}
